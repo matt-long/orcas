{
 "cells": [
  {
   "cell_type": "code",
   "execution_count": 1,
   "metadata": {},
   "outputs": [],
   "source": [
    "%matplotlib inline\n",
    "from config_calc import *\n",
    "import grid_tools\n",
    "\n",
    "from collections import OrderedDict\n",
    "\n",
    "import cesm_orcas_sci as cesm\n",
    "import cam\n",
    "import gv\n",
    "import metpy.calc as mcalc\n",
    "\n",
    "import matplotlib.pyplot as plt"
   ]
  },
  {
   "cell_type": "markdown",
   "metadata": {},
   "source": [
    "### read model data set"
   ]
  },
  {
   "cell_type": "code",
   "execution_count": 2,
   "metadata": {},
   "outputs": [],
   "source": [
    "case = 'bgeos5.B20TRC5CN.f09_g16.BPRD_orcas_sci.004'\n",
    "\n",
    "tracer_def = cesm.trace_gas_tracers(case)\n",
    "tracer_3d = [k for k in tracer_def]\n",
    "tracer_3d = ['CO2','CO2_OCN','CO2_FFF','CO2_LND','O2_OCN']\n",
    "varlist = ['Z3','Q','PS','PBLH','T','U','V','U10','PSL','OMEGA']+tracer_3d\n",
    "\n",
    "dsa = cesm.open_casedata(case,'atm','cam.h0',varlist)"
   ]
  },
  {
   "cell_type": "markdown",
   "metadata": {},
   "source": [
    "### read ORCAS flight data\n",
    "Find the right day in the model data and subset; store a list of obs datasets "
   ]
  },
  {
   "cell_type": "code",
   "execution_count": 3,
   "metadata": {},
   "outputs": [],
   "source": [
    "RF = []\n",
    "MDL = []\n",
    "for f in gv.flight_file:\n",
    "    rf = xr.open_dataset(f)\n",
    "    RF.append(rf)\n",
    "    MDL.append(dsa.sel(time=rf.time[0].astype('M8[D]'),method='nearest'))\n",
    "dss = xr.concat(MDL,dim='time')"
   ]
  },
  {
   "cell_type": "markdown",
   "metadata": {},
   "source": [
    "### compute pressure from hybrid levels"
   ]
  },
  {
   "cell_type": "code",
   "execution_count": 4,
   "metadata": {},
   "outputs": [
    {
     "name": "stdout",
     "output_type": "stream",
     "text": [
      "<xarray.Dataset>\n",
      "Dimensions:       (ilev: 57, lat: 192, lev: 56, lon: 288, nbnd: 2, slat: 191, slon: 288, time: 18)\n",
      "Coordinates:\n",
      "  * ilev          (ilev) float64 1.651 2.085 2.62 3.276 4.077 5.047 6.217 ...\n",
      "  * lat           (lat) float64 -90.0 -89.06 -88.12 -87.17 -86.23 -85.29 ...\n",
      "  * lev           (lev) float64 1.868 2.353 2.948 3.677 4.562 5.632 6.918 ...\n",
      "  * lon           (lon) float64 0.0 1.25 2.5 3.75 5.0 6.25 7.5 8.75 10.0 ...\n",
      "  * slat          (slat) float64 -89.53 -88.59 -87.64 -86.7 -85.76 -84.82 ...\n",
      "  * slon          (slon) float64 -0.625 0.625 1.875 3.125 4.375 5.625 6.875 ...\n",
      "  * time          (time) datetime64[ns] 2016-01-15 2016-01-18 2016-01-21 ...\n",
      "Dimensions without coordinates: nbnd\n",
      "Data variables:\n",
      "    P0            (time) float64 1e+05 1e+05 1e+05 1e+05 1e+05 1e+05 1e+05 ...\n",
      "    Z3            (time, lev, lat, lon) float32 44901.1 44901.1 44901.1 ...\n",
      "    ch4vmr        (time) float64 1.846e-06 1.846e-06 1.847e-06 1.847e-06 ...\n",
      "    co2vmr        (time) float64 0.0004031 0.0004031 0.0004031 0.0004031 ...\n",
      "    date          (time) int32 20160115 20160118 20160121 20160123 20160125 ...\n",
      "    date_written  (time) |S8 '11/14/16' '11/14/16' '11/14/16' '11/14/16' ...\n",
      "    datesec       (time) int32 0 0 0 0 0 0 0 0 0 0 0 0 0 0 0 0 0 0\n",
      "    f11vmr        (time) float64 8.077e-10 8.077e-10 8.078e-10 8.079e-10 ...\n",
      "    f12vmr        (time) float64 5.027e-10 5.026e-10 5.026e-10 5.026e-10 ...\n",
      "    gw            (time, lat) float64 3.382e-05 0.0002705 0.000541 0.0008113 ...\n",
      "    hyai          (time, ilev) float64 0.001651 0.002085 0.00262 0.003276 ...\n",
      "    hyam          (time, lev) float64 0.001868 0.002353 0.002948 0.003677 ...\n",
      "    hybi          (time, ilev) float64 0.0 0.0 0.0 0.0 0.0 0.0 0.0 0.0 0.0 ...\n",
      "    hybm          (time, lev) float64 0.0 0.0 0.0 0.0 0.0 0.0 0.0 0.0 0.0 ...\n",
      "    mdt           (time) int32 1800 1800 1800 1800 1800 1800 1800 1800 1800 ...\n",
      "    n2ovmr        (time) float64 3.275e-07 3.275e-07 3.275e-07 3.275e-07 ...\n",
      "    nbdate        (time) int32 20050101 20050101 20050101 20050101 20050101 ...\n",
      "    nbsec         (time) int32 0 0 0 0 0 0 0 0 0 0 0 0 0 0 0 0 0 0\n",
      "    ndbase        (time) int32 0 0 0 0 0 0 0 0 0 0 0 0 0 0 0 0 0 0\n",
      "    ndcur         (time) int32 4031 4034 4037 4039 4041 4041 4046 4052 4055 ...\n",
      "    nlon          (time, lat) int32 288 288 288 288 288 288 288 288 288 288 ...\n",
      "    nsbase        (time) int32 0 0 0 0 0 0 0 0 0 0 0 0 0 0 0 0 0 0\n",
      "    nscur         (time) int32 0 0 0 0 0 0 0 0 0 0 0 0 0 0 0 0 0 0\n",
      "    nsteph        (time) int32 193488 193632 193776 193872 193968 193968 ...\n",
      "    ntrk          (time) int32 1 1 1 1 1 1 1 1 1 1 1 1 1 1 1 1 1 1\n",
      "    ntrm          (time) int32 1 1 1 1 1 1 1 1 1 1 1 1 1 1 1 1 1 1\n",
      "    ntrn          (time) int32 1 1 1 1 1 1 1 1 1 1 1 1 1 1 1 1 1 1\n",
      "    sol_tsi       (time) float64 -1.0 -1.0 -1.0 -1.0 -1.0 -1.0 -1.0 -1.0 ...\n",
      "    time_bnds     (time, nbnd) float64 4.03e+03 4.031e+03 4.033e+03 ...\n",
      "    w_stag        (time, slat) float64 0.0001353 0.0004058 0.0006762 ...\n",
      "    wnummax       (time, lat) int32 1 1 1 1 1 1 1 1 1 1 1 1 1 1 1 1 1 1 1 1 ...\n",
      "    Q             (time, lev, lat, lon) float32 3.53789e-06 3.53789e-06 ...\n",
      "    PS            (time, lat, lon) float32 689.059 689.059 689.059 689.059 ...\n",
      "    PBLH          (time, lat, lon) float32 80.9882 88.2347 80.9882 76.6559 ...\n",
      "    T             (time, lev, lat, lon) float32 282.054 282.054 282.054 ...\n",
      "    U             (time, lev, lat, lon) float32 1.03295 1.01979 1.00613 ...\n",
      "    V             (time, lev, lat, lon) float32 0.592262 0.614655 0.636755 ...\n",
      "    U10           (time, lat, lon) float32 3.23523 3.62728 3.23472 3.08634 ...\n",
      "    PSL           (time, lat, lon) float32 99895.4 99895.4 99895.4 99895.4 ...\n",
      "    OMEGA         (time, lev, lat, lon) float32 1.55958e-05 1.55958e-05 ...\n",
      "    CO2           (time, lev, lat, lon) float32 381.282 381.282 381.282 ...\n",
      "    CO2_OCN       (time, lev, lat, lon) float32 -2.24753 -2.24753 -2.24753 ...\n",
      "    CO2_FFF       (time, lev, lat, lon) float32 23.26 23.26 23.26 23.26 ...\n",
      "    CO2_LND       (time, lev, lat, lon) float32 2.12288 2.12288 2.12288 ...\n",
      "    O2_OCN        (time, lev, lat, lon) float32 40.0922 40.0922 40.0922 ...\n",
      "    Pm            (time, lev, lat, lon) float64 1.868 1.868 1.868 1.868 ...\n",
      "CPU times: user 2.95 s, sys: 1.36 s, total: 4.31 s\n",
      "Wall time: 4.37 s\n"
     ]
    }
   ],
   "source": [
    "%%time\n",
    "dss = cam.pres_hybrid(dss,layer_center=True)\n",
    "varlist = varlist+['Pm']\n",
    "\n",
    "#-- convert units of tracer consituents\n",
    "ds = cesm.convert_dataset(dss,case)\n",
    "ds = ds.compute()\n",
    "print ds"
   ]
  },
  {
   "cell_type": "markdown",
   "metadata": {},
   "source": [
    "### interpolate in xy to get a collection of model columns"
   ]
  },
  {
   "cell_type": "code",
   "execution_count": 5,
   "metadata": {},
   "outputs": [
    {
     "name": "stdout",
     "output_type": "stream",
     "text": [
      "<xarray.Dataset>\n",
      "Dimensions:  (lev: 56, time: 2723)\n",
      "Coordinates:\n",
      "  * time     (time) datetime64[ns] 2016-01-15T12:57:26.000000043 ...\n",
      "Dimensions without coordinates: lev\n",
      "Data variables:\n",
      "    O2_OCN   (time, lev) float64 40.14 40.49 41.32 41.79 41.82 42.3 43.07 ...\n",
      "    PS       (time) float64 990.8 990.8 990.8 990.8 990.8 990.8 990.8 990.8 ...\n",
      "    PBLH     (time) float64 687.3 685.6 683.3 680.7 678.2 676.2 674.8 674.3 ...\n",
      "    CO2      (time, lev) float64 381.3 381.5 382.0 382.3 382.4 382.7 383.1 ...\n",
      "    CO2_FFF  (time, lev) float64 23.3 23.54 24.15 24.55 24.59 24.94 25.51 ...\n",
      "    PSL      (time) float64 1.01e+05 1.01e+05 1.01e+05 1.01e+05 1.01e+05 ...\n",
      "    Q        (time, lev) float64 3.539e-06 3.536e-06 3.53e-06 3.528e-06 ...\n",
      "    U        (time, lev) float64 -26.6 -25.92 -24.6 -22.74 -21.19 -19.61 ...\n",
      "    T        (time, lev) float64 270.0 266.9 264.1 259.1 253.8 249.6 246.6 ...\n",
      "    CO2_OCN  (time, lev) float64 -2.257 -2.306 -2.439 -2.527 -2.535 -2.611 ...\n",
      "    V        (time, lev) float64 0.2943 0.5441 0.8492 0.6565 0.3654 0.2364 ...\n",
      "    U10      (time) float64 2.66 2.656 2.65 2.645 2.64 2.637 2.636 2.637 ...\n",
      "    CO2_LND  (time, lev) float64 2.125 2.14 2.161 2.169 2.168 2.183 2.208 ...\n",
      "    Pm       (time, lev) float64 1.868 2.353 2.948 3.677 4.562 5.632 6.918 ...\n",
      "    OMEGA    (time, lev) float64 -2.28e-05 -5.194e-05 -6.667e-05 -5.753e-05 ...\n",
      "    Z3       (time, lev) float64 4.403e+04 4.221e+04 4.046e+04 3.877e+04 ...\n",
      "CPU times: user 16.6 s, sys: 83 ms, total: 16.7 s\n",
      "Wall time: 18 s\n"
     ]
    }
   ],
   "source": [
    "%%time\n",
    "model_colums = []\n",
    "for i,rf in enumerate(RF):\n",
    "    var = [ds[v].isel(time=i) for v in varlist]\n",
    "    model_colums.append(cam.interp_columns_esmf(rf.GGLON,rf.GGLAT,ds.lon,ds.lat,*var))\n",
    "print model_colums[0]"
   ]
  },
  {
   "cell_type": "markdown",
   "metadata": {},
   "source": [
    "### interpolate within the column to get point of measurement"
   ]
  },
  {
   "cell_type": "code",
   "execution_count": 6,
   "metadata": {},
   "outputs": [
    {
     "name": "stdout",
     "output_type": "stream",
     "text": [
      "<xarray.Dataset>\n",
      "Dimensions:  (time: 2723)\n",
      "Coordinates:\n",
      "  * time     (time) datetime64[ns] 2016-01-15T12:57:26.000000043 ...\n",
      "Data variables:\n",
      "    O2_OCN   (time) float64 94.56 94.57 94.63 94.67 94.67 94.48 93.07 91.87 ...\n",
      "    PS       (time) float64 990.8 990.8 990.8 990.8 990.8 990.8 990.8 990.8 ...\n",
      "    PBLH     (time) float64 687.3 685.6 683.3 680.7 678.2 676.2 674.8 674.3 ...\n",
      "    CO2      (time) float64 395.2 395.2 395.1 395.0 394.9 395.0 395.1 395.3 ...\n",
      "    CO2_FFF  (time) float64 44.99 44.99 44.98 44.98 44.97 44.97 44.98 44.99 ...\n",
      "    PSL      (time) float64 1.01e+05 1.01e+05 1.01e+05 1.01e+05 1.01e+05 ...\n",
      "    Q        (time) float64 0.004186 0.004186 0.004164 0.004148 0.004123 ...\n",
      "    U        (time) float64 3.447 3.559 4.412 4.849 5.254 5.55 5.942 6.167 ...\n",
      "    T        (time) float64 282.1 281.9 280.9 279.9 278.5 277.0 276.1 275.3 ...\n",
      "    CO2_OCN  (time) float64 -10.08 -10.09 -10.09 -10.09 -10.09 -10.08 -9.942 ...\n",
      "    V        (time) float64 3.057 3.196 4.248 4.743 5.109 5.308 5.72 6.222 ...\n",
      "    U10      (time) float64 2.66 2.656 2.65 2.645 2.64 2.637 2.636 2.637 ...\n",
      "    CO2_LND  (time) float64 2.108 2.1 2.023 1.942 1.91 1.906 1.893 1.985 ...\n",
      "    Pm       (time) float64 983.4 981.7 969.0 957.2 941.4 923.2 907.6 891.8 ...\n",
      "    OMEGA    (time) float64 0.03691 0.03717 0.04067 0.04684 0.05776 0.07336 ...\n",
      "    Z3       (time) float64 222.4 237.0 344.7 445.2 581.5 740.7 879.5 ...\n",
      "CPU times: user 30min 10s, sys: 285 ms, total: 30min 10s\n",
      "Wall time: 30min 12s\n"
     ]
    }
   ],
   "source": [
    "%%time\n",
    "rf_model = []\n",
    "for i,rf in enumerate(RF):\n",
    "    var = [model_colums[i][v] for v in varlist]\n",
    "    rf_model.append(cam.interp_within_column(rf.PSXC,model_colums[i].Pm,*var,\n",
    "                                             model_z_surface=model_colums[i].PS))\n",
    "print rf_model[0]"
   ]
  },
  {
   "cell_type": "code",
   "execution_count": 8,
   "metadata": {},
   "outputs": [
    {
     "name": "stdout",
     "output_type": "stream",
     "text": [
      "/glade/p/work/mclong/orcas/gv_merged_data/../cesm_flight_data/bgeos5.B20TRC5CN.f09_g16.BPRD_orcas_sci.004.ORCASrf01.merge10.20170526.nc\n",
      "/glade/p/work/mclong/orcas/gv_merged_data/../cesm_flight_data/bgeos5.B20TRC5CN.f09_g16.BPRD_orcas_sci.004.ORCASrf02.merge10.20170526.nc\n",
      "/glade/p/work/mclong/orcas/gv_merged_data/../cesm_flight_data/bgeos5.B20TRC5CN.f09_g16.BPRD_orcas_sci.004.ORCASrf03.merge10.20170526.nc\n",
      "/glade/p/work/mclong/orcas/gv_merged_data/../cesm_flight_data/bgeos5.B20TRC5CN.f09_g16.BPRD_orcas_sci.004.ORCASrf04.merge10.20170526.nc\n",
      "/glade/p/work/mclong/orcas/gv_merged_data/../cesm_flight_data/bgeos5.B20TRC5CN.f09_g16.BPRD_orcas_sci.004.ORCASrf05.merge10.20170526.nc\n",
      "/glade/p/work/mclong/orcas/gv_merged_data/../cesm_flight_data/bgeos5.B20TRC5CN.f09_g16.BPRD_orcas_sci.004.ORCASrf06.merge10.20170526.nc\n",
      "/glade/p/work/mclong/orcas/gv_merged_data/../cesm_flight_data/bgeos5.B20TRC5CN.f09_g16.BPRD_orcas_sci.004.ORCASrf07.merge10.20170526.nc\n",
      "/glade/p/work/mclong/orcas/gv_merged_data/../cesm_flight_data/bgeos5.B20TRC5CN.f09_g16.BPRD_orcas_sci.004.ORCASrf08.merge10.20170526.nc\n",
      "/glade/p/work/mclong/orcas/gv_merged_data/../cesm_flight_data/bgeos5.B20TRC5CN.f09_g16.BPRD_orcas_sci.004.ORCASrf09.merge10.20170526.nc\n",
      "/glade/p/work/mclong/orcas/gv_merged_data/../cesm_flight_data/bgeos5.B20TRC5CN.f09_g16.BPRD_orcas_sci.004.ORCASrf10.merge10.20170526.nc\n",
      "/glade/p/work/mclong/orcas/gv_merged_data/../cesm_flight_data/bgeos5.B20TRC5CN.f09_g16.BPRD_orcas_sci.004.ORCASrf11.merge10.20170526.nc\n",
      "/glade/p/work/mclong/orcas/gv_merged_data/../cesm_flight_data/bgeos5.B20TRC5CN.f09_g16.BPRD_orcas_sci.004.ORCASrf13.merge10.20170526.nc\n",
      "/glade/p/work/mclong/orcas/gv_merged_data/../cesm_flight_data/bgeos5.B20TRC5CN.f09_g16.BPRD_orcas_sci.004.ORCASrf14.merge10.20170526.nc\n",
      "/glade/p/work/mclong/orcas/gv_merged_data/../cesm_flight_data/bgeos5.B20TRC5CN.f09_g16.BPRD_orcas_sci.004.ORCASrf15.merge10.20170526.nc\n",
      "/glade/p/work/mclong/orcas/gv_merged_data/../cesm_flight_data/bgeos5.B20TRC5CN.f09_g16.BPRD_orcas_sci.004.ORCASrf16.merge10.20170526.nc\n",
      "/glade/p/work/mclong/orcas/gv_merged_data/../cesm_flight_data/bgeos5.B20TRC5CN.f09_g16.BPRD_orcas_sci.004.ORCASrf17.merge10.20170526.nc\n",
      "/glade/p/work/mclong/orcas/gv_merged_data/../cesm_flight_data/bgeos5.B20TRC5CN.f09_g16.BPRD_orcas_sci.004.ORCASrf18.merge10.20170526.nc\n",
      "/glade/p/work/mclong/orcas/gv_merged_data/../cesm_flight_data/bgeos5.B20TRC5CN.f09_g16.BPRD_orcas_sci.004.ORCASrf19.merge10.20170526.nc\n"
     ]
    }
   ],
   "source": [
    "dir_out = os.path.join(os.path.dirname(gv.flight_file[0]),'..','cesm_flight_data')\n",
    "if not os.path.exists(dir_out):\n",
    "    call(['mkdir','-p',dir_out])\n",
    "    \n",
    "for i,rf in enumerate(rf_model):\n",
    "    file_out = '.'.join([case,os.path.basename(gv.flight_file[i])])\n",
    "    file_out = os.path.join(dir_out,file_out)\n",
    "    print(file_out)\n",
    "    rf.to_netcdf(file_out,unlimited_dims='time')"
   ]
  },
  {
   "cell_type": "code",
   "execution_count": 10,
   "metadata": {},
   "outputs": [
    {
     "data": {
      "text/plain": [
       "<xarray.Dataset>\n",
       "Dimensions:         (time: 2723)\n",
       "Coordinates:\n",
       "  * time            (time) datetime64[ns] 2016-01-15T12:57:26.000000043 ...\n",
       "Data variables:\n",
       "    Year            (time) float64 ...\n",
       "    flt             (time) float64 ...\n",
       "    DOY             (time) timedelta64[ns] ...\n",
       "    UTC             (time) timedelta64[ns] ...\n",
       "    ALTG_SRTM       (time) float64 ...\n",
       "    ATTACK          (time) float64 ...\n",
       "    ATX             (time) float64 ...\n",
       "    BLATA           (time) float64 ...\n",
       "    BLONGA          (time) float64 ...\n",
       "    BNORMA          (time) float64 ...\n",
       "    CONC2DCA_LWO    (time) float64 ...\n",
       "    CONCD_LWI       (time) float64 ...\n",
       "    CONCN           (time) float64 ...\n",
       "    CONCU_RWO       (time) float64 ...\n",
       "    CONCU100_RWO    (time) float64 ...\n",
       "    CONCU500_RWO    (time) float64 ...\n",
       "    DBAR2DCA_LWO    (time) float64 ...\n",
       "    DBARD_LWI       (time) float64 ...\n",
       "    DBARU_RWO       (time) float64 ...\n",
       "    DPXC            (time) float64 ...\n",
       "    EWX             (time) float64 ...\n",
       "    GGALT           (time) float64 ...\n",
       "    GGLAT           (time) float64 -53.0 -53.0 -53.0 -53.01 -53.02 -53.03 ...\n",
       "    GGLON           (time) float64 -70.88 -70.89 -70.91 -70.92 -70.93 -70.93 ...\n",
       "    GGSPD           (time) float64 ...\n",
       "    GGTRK           (time) float64 ...\n",
       "    GGVEW           (time) float64 ...\n",
       "    GGVNS           (time) float64 ...\n",
       "    LATC            (time) float64 ...\n",
       "    LONC            (time) float64 ...\n",
       "    MACHX           (time) float64 ...\n",
       "    MR              (time) float64 ...\n",
       "    PALT            (time) float64 ...\n",
       "    PALTF           (time) float64 ...\n",
       "    PCAB            (time) float64 ...\n",
       "    PITCH           (time) float64 ...\n",
       "    PLWC2DCA_LWO    (time) float64 ...\n",
       "    PLWCC           (time) float64 ...\n",
       "    PLWCD_LWI       (time) float64 ...\n",
       "    PSX             (time) float64 ...\n",
       "    PSXC            (time) float64 ...\n",
       "    QCX             (time) float64 ...\n",
       "    QCXC            (time) float64 ...\n",
       "    RHODT           (time) float64 ...\n",
       "    RHUM            (time) float64 ...\n",
       "    RICE            (time) float64 ...\n",
       "    ROLL            (time) float64 ...\n",
       "    SFC_SRTM        (time) float64 ...\n",
       "    SOLAZ           (time) float64 ...\n",
       "    SOLDE           (time) float64 ...\n",
       "    SOLEL           (time) float64 ...\n",
       "    SOLZE           (time) float64 ...\n",
       "    SSLIP           (time) float64 ...\n",
       "    TASX            (time) float64 ...\n",
       "    TCAB            (time) float64 ...\n",
       "    THDG            (time) float64 ...\n",
       "    THETA           (time) float64 ...\n",
       "    THETAE          (time) float64 ...\n",
       "    THETAV          (time) float64 ...\n",
       "    UIC             (time) float64 ...\n",
       "    UXC             (time) float64 ...\n",
       "    VEWC            (time) float64 ...\n",
       "    VIC             (time) float64 ...\n",
       "    VMR_VXL         (time) float64 ...\n",
       "    VNSC            (time) float64 ...\n",
       "    VYC             (time) float64 ...\n",
       "    WDC             (time) float64 ...\n",
       "    WI              (time) float64 ...\n",
       "    WIC             (time) float64 ...\n",
       "    WSC             (time) float64 ...\n",
       "    CH4_NOAA        (time) float64 ...\n",
       "    CO2_NOAA        (time) float64 ...\n",
       "    CO_NOAA         (time) float64 ...\n",
       "    H2O_NOAA        (time) float64 ...\n",
       "    CO2_QCLS        (time) float64 ...\n",
       "    CH4_QCLS        (time) float64 ...\n",
       "    N2O_QCLS        (time) float64 ...\n",
       "    CO_QCLS         (time) float64 ...\n",
       "    CO2_AO2orig     (time) float64 ...\n",
       "    O2_AO2orig      (time) float64 ...\n",
       "    APO_AO2orig     (time) float64 ...\n",
       "    CO2_AO2         (time) float64 ...\n",
       "    O2_AO2          (time) float64 ...\n",
       "    APO_AO2         (time) float64 ...\n",
       "    O2_OCN_FMPD     (time) float64 ...\n",
       "    CO2_OCN_FMPD    (time) float64 ...\n",
       "    CO2_LND_FMPD    (time) float64 ...\n",
       "    CO2_FFF_FMPD    (time) float64 ...\n",
       "    CO2_FMPD        (time) float64 ...\n",
       "    theta_atm_FMPD  (time) float64 ...\n",
       "    PBLH_FMPD       (time) float64 ...\n",
       "    ocean_air_FMPD  (time) float64 ...\n",
       "    socn_air_FMPD   (time) float64 ...\n",
       "    O2_LND_FMPD     (time) float64 ...\n",
       "    O2_FFF_FMPD     (time) float64 ...\n",
       "    O2_FMPD         (time) float64 ...\n",
       "    APO_OCN_FMPD    (time) float64 ...\n",
       "    APO_FFF_FMPD    (time) float64 ...\n",
       "    APO_FMPD        (time) float64 ...\n",
       "    DMS_FMPD        (time) float64 ...\n",
       "    U_FMPD          (time) float64 ...\n",
       "    V_FMPD          (time) float64 ...\n",
       "    Q_FMPD          (time) float64 ...\n",
       "    PS_FMPD         (time) float64 ...\n",
       "    CO2_FMPD_SUM    (time) float64 ...\n",
       "    CO2_FMPD_DIF    (time) float64 ...\n",
       "    CH4_X           (time) float64 ...\n",
       "    CO_X            (time) float64 ...\n",
       "    CO2_X           (time) float64 ...\n",
       "    H2O_X           (time) float64 ...\n",
       "    n_prof          (time) float64 ...\n",
       "Attributes:\n",
       "    source_timestamp:  source file was last modified: 2017-03-16 22:58:16.000...\n",
       "    source:            converted from /glade/p/work/mclong/orcas/fltdata-merg..."
      ]
     },
     "execution_count": 10,
     "metadata": {},
     "output_type": "execute_result"
    }
   ],
   "source": [
    "#fig = plt.figure(figsize=(15,15))\n",
    "#ax = fig.add_subplot(111)\n",
    "#p.O2_OCN.T.plot(ax=ax,vmin=60,vmax=140)\n",
    "#ax.scatter(rf.time.values,rf.Pm.values,c=rf.O2_OCN.values,s=100,vmin=60,vmax=140,\n",
    "#           edgecolors='k')\n",
    "#ax.set_ylim([1013,200])\n",
    "RF[0]"
   ]
  },
  {
   "cell_type": "code",
   "execution_count": null,
   "metadata": {},
   "outputs": [],
   "source": []
  }
 ],
 "metadata": {
  "kernelspec": {
   "display_name": "Python 2",
   "language": "python",
   "name": "python2"
  },
  "language_info": {
   "codemirror_mode": {
    "name": "ipython",
    "version": 2
   },
   "file_extension": ".py",
   "mimetype": "text/x-python",
   "name": "python",
   "nbconvert_exporter": "python",
   "pygments_lexer": "ipython2",
   "version": "2.7.14"
  }
 },
 "nbformat": 4,
 "nbformat_minor": 2
}
