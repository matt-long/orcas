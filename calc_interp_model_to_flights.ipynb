{
 "cells": [
  {
   "cell_type": "code",
   "execution_count": 1,
   "metadata": {},
   "outputs": [],
   "source": [
    "%matplotlib inline\n",
    "from config_calc import *\n",
    "import grid_tools\n",
    "\n",
    "from collections import OrderedDict\n",
    "\n",
    "import cesm_orcas_sci as cesm\n",
    "import cam\n",
    "import gv\n",
    "import metpy.calc as mcalc\n",
    "\n",
    "import matplotlib.pyplot as plt"
   ]
  },
  {
   "cell_type": "markdown",
   "metadata": {},
   "source": [
    "### read model data set"
   ]
  },
  {
   "cell_type": "code",
   "execution_count": null,
   "metadata": {},
   "outputs": [
    {
     "data": {
      "text/plain": [
       "<xarray.DataArray 'time' (time: 3347)>\n",
       "array(['2007-01-01T00:00:00.000000000', '2007-01-02T00:00:00.000000000',\n",
       "       '2007-01-03T00:00:00.000000000', ..., '2016-02-27T00:00:00.000000000',\n",
       "       '2016-02-28T00:00:00.000000000', '2016-02-29T00:00:00.000000000'], dtype='datetime64[ns]')\n",
       "Coordinates:\n",
       "  * time     (time) datetime64[ns] 2007-01-01 2007-01-02 2007-01-03 ...\n",
       "Attributes:\n",
       "    long_name:  time\n",
       "    bounds:     time_bnds"
      ]
     },
     "execution_count": 2,
     "metadata": {},
     "output_type": "execute_result"
    }
   ],
   "source": [
    "case = 'bgeos5.B20TRC5CN.f09_g16.BPRD_orcas_sci.004'\n",
    "\n",
    "tracer_def = cesm.trace_gas_tracers(case)\n",
    "tracer_3d = [k for k in tracer_def]\n",
    "varlist = ['Z3','Q','PS','PBLH','T','U','V','U10','PSL','OMEGA']+tracer_3d\n",
    "\n",
    "dsa = cesm.open_casedata(case,'atm','cam.h0',varlist)\n",
    "dsa.time"
   ]
  },
  {
   "cell_type": "markdown",
   "metadata": {},
   "source": [
    "### read ORCAS flight data\n",
    "Find the right day in the model data and subset; store a list of obs datasets "
   ]
  },
  {
   "cell_type": "code",
   "execution_count": null,
   "metadata": {},
   "outputs": [],
   "source": [
    "RF = []\n",
    "MDL = []\n",
    "for f in gv.flight_file:\n",
    "    rf = xr.open_dataset(f)\n",
    "    RF.append(rf)\n",
    "    MDL.append(dsa.sel(time=rf.time[0].astype('M8[D]'),method='nearest'))\n",
    "dss = xr.concat(MDL,dim='time')"
   ]
  },
  {
   "cell_type": "markdown",
   "metadata": {},
   "source": [
    "### compute pressure from hybrid levels"
   ]
  },
  {
   "cell_type": "code",
   "execution_count": null,
   "metadata": {},
   "outputs": [],
   "source": [
    "%%time\n",
    "dss = cam.pres_hybrid(dss,layer_center=True)\n",
    "varlist = varlist+['Pm']"
   ]
  },
  {
   "cell_type": "code",
   "execution_count": null,
   "metadata": {},
   "outputs": [],
   "source": [
    "reload(cam)\n",
    "dss['theta'] = cam.potential_temperature(pressure=dss.Pm,\n",
    "                                        temperature=dss['T'])\n",
    "varlist = varlist+['theta']\n",
    "dss"
   ]
  },
  {
   "cell_type": "markdown",
   "metadata": {},
   "source": [
    "### convert units of tracer consituents"
   ]
  },
  {
   "cell_type": "code",
   "execution_count": null,
   "metadata": {},
   "outputs": [],
   "source": [
    "ds = cesm.convert_dataset(dss,case)\n",
    "ds = ds.compute()\n",
    "print ds"
   ]
  },
  {
   "cell_type": "markdown",
   "metadata": {},
   "source": [
    "### interpolate in xy to get a collection of model columns"
   ]
  },
  {
   "cell_type": "code",
   "execution_count": null,
   "metadata": {},
   "outputs": [],
   "source": [
    "%%time\n",
    "model_colums = []\n",
    "for i,rf in enumerate(RF):\n",
    "    var = [ds[v].isel(time=i) for v in varlist]\n",
    "    model_colums.append(cam.interp_columns_esmf(rf.GGLON,rf.GGLAT,ds.lon,ds.lat,*var))\n",
    "print model_colums[0]"
   ]
  },
  {
   "cell_type": "markdown",
   "metadata": {},
   "source": [
    "### interpolate within the column to get point of measurement"
   ]
  },
  {
   "cell_type": "code",
   "execution_count": null,
   "metadata": {},
   "outputs": [],
   "source": [
    "%%time\n",
    "rf_model = []\n",
    "for i,rf in enumerate(RF):\n",
    "    var = [model_colums[i][v] for v in varlist]\n",
    "    rf_model.append(cam.interp_within_column(rf.PSXC,model_colums[i].Pm,*var,\n",
    "                                             model_z_surface=model_colums[i].PS))\n",
    "        \n",
    "print rf_model[0]"
   ]
  },
  {
   "cell_type": "code",
   "execution_count": null,
   "metadata": {},
   "outputs": [],
   "source": [
    "copy_flight_var_list = ['Year','flt','DOY','UTC','n_prof','GGALT']\n",
    "for i,rf in enumerate(RF):\n",
    "    for v in copy_flight_var_list:\n",
    "        rf_model[i][v] = rf[v]"
   ]
  },
  {
   "cell_type": "code",
   "execution_count": null,
   "metadata": {},
   "outputs": [],
   "source": [
    "dir_out = os.path.join(os.path.dirname(gv.flight_file[0]),'..','cesm_flight_data')\n",
    "if not os.path.exists(dir_out):\n",
    "    call(['mkdir','-p',dir_out])\n",
    "    \n",
    "for i,rf in enumerate(rf_model):\n",
    "    file_out = '.'.join([case,os.path.basename(gv.flight_file[i])])\n",
    "    file_out = os.path.join(dir_out,file_out)\n",
    "    print(file_out)\n",
    "    rf.to_netcdf(file_out,unlimited_dims='time')"
   ]
  },
  {
   "cell_type": "code",
   "execution_count": null,
   "metadata": {},
   "outputs": [],
   "source": []
  }
 ],
 "metadata": {
  "kernelspec": {
   "display_name": "Python 2",
   "language": "python",
   "name": "python2"
  },
  "language_info": {
   "codemirror_mode": {
    "name": "ipython",
    "version": 2
   },
   "file_extension": ".py",
   "mimetype": "text/x-python",
   "name": "python",
   "nbconvert_exporter": "python",
   "pygments_lexer": "ipython2",
   "version": "2.7.12"
  }
 },
 "nbformat": 4,
 "nbformat_minor": 2
}
