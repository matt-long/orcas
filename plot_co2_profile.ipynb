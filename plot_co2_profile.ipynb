{
 "cells": [
  {
   "cell_type": "code",
   "execution_count": 1,
   "metadata": {},
   "outputs": [],
   "source": [
    "%matplotlib inline\n",
    "from config_calc import *\n",
    "import grid_tools\n",
    "\n",
    "from collections import OrderedDict\n",
    "\n",
    "import cesm_orcas_sci as cesm\n",
    "import cam\n",
    "import gv\n",
    "import metpy.calc as mcalc\n",
    "import grid_tools\n",
    "\n",
    "import matplotlib.pyplot as plt"
   ]
  },
  {
   "cell_type": "code",
   "execution_count": 2,
   "metadata": {},
   "outputs": [
    {
     "data": {
      "text/html": [
       "<table style=\"border: 2px solid white;\">\n",
       "<tr>\n",
       "<td style=\"vertical-align: top; border: 0px solid white\">\n",
       "<h3>Client</h3>\n",
       "<ul>\n",
       "  <li><b>Scheduler: </b>tcp://10.148.9.242:8786\n",
       "  <li><b>Dashboard: </b><a href='http://10.148.9.242:8787' target='_blank'>http://10.148.9.242:8787</a>\n",
       "</ul>\n",
       "</td>\n",
       "<td style=\"vertical-align: top; border: 0px solid white\">\n",
       "<h3>Cluster</h3>\n",
       "<ul>\n",
       "  <li><b>Workers: </b>232</li>\n",
       "  <li><b>Cores: </b>928</li>\n",
       "  <li><b>Memory: </b>2784.00 GB</li>\n",
       "</ul>\n",
       "</td>\n",
       "</tr>\n",
       "</table>"
      ],
      "text/plain": [
       "<Client: scheduler='tcp://10.148.9.242:8786' processes=232 cores=928>"
      ]
     },
     "execution_count": 2,
     "metadata": {},
     "output_type": "execute_result"
    }
   ],
   "source": [
    "from dask.distributed import Client\n",
    "client = Client(scheduler_file='/glade/scratch/mclong/dask/scheduler.json')\n",
    "client"
   ]
  },
  {
   "cell_type": "code",
   "execution_count": 3,
   "metadata": {},
   "outputs": [
    {
     "name": "stdout",
     "output_type": "stream",
     "text": [
      "ds size 3648.21GB\n",
      "\n",
      "xarray.Dataset {\n",
      "dimensions:\n",
      "\tlat = 192 ;\n",
      "\tlon = 288 ;\n",
      "\ttime = 3347 ;\n",
      "\tzlev = 56 ;\n",
      "\n",
      "variables:\n",
      "\tfloat64 lat(lat) ;\n",
      "\tfloat64 lon(lon) ;\n",
      "\tfloat64 time(time) ;\n",
      "\tfloat64 Z3(time, zlev, lat, lon) ;\n",
      "\t\tZ3:mdims = 1 ;\n",
      "\t\tZ3:units = m ;\n",
      "\t\tZ3:long_name = Geopotential Height (above sea level) ;\n",
      "\t\tZ3:cell_methods = time: mean ;\n",
      "\tfloat64 plev(zlev) ;\n",
      "\t\tplev:units = m ;\n",
      "\t\tplev:long_name = Geopotential height (above sea level) ;\n",
      "\tfloat64 O2_OCN(time, zlev, lat, lon) ;\n",
      "\t\tO2_OCN:mdims = 1 ;\n",
      "\t\tO2_OCN:units = kg/kg ;\n",
      "\t\tO2_OCN:long_name = O2_OCN ;\n",
      "\t\tO2_OCN:cell_methods = time: mean ;\n",
      "\tfloat64 CO2_CROF(time, zlev, lat, lon) ;\n",
      "\t\tCO2_CROF:mdims = 1 ;\n",
      "\t\tCO2_CROF:units = mol/mol ;\n",
      "\t\tCO2_CROF:long_name = CO2_CROF concentration ;\n",
      "\t\tCO2_CROF:cell_methods = time: mean ;\n",
      "\tfloat64 CO2_LND(time, zlev, lat, lon) ;\n",
      "\t\tCO2_LND:mdims = 1 ;\n",
      "\t\tCO2_LND:units = kg/kg ;\n",
      "\t\tCO2_LND:long_name = CO2_LND ;\n",
      "\t\tCO2_LND:cell_methods = time: mean ;\n",
      "\tfloat64 CO2_T09(time, zlev, lat, lon) ;\n",
      "\t\tCO2_T09:mdims = 1 ;\n",
      "\t\tCO2_T09:units = mol/mol ;\n",
      "\t\tCO2_T09:long_name = CO2_T09 concentration ;\n",
      "\t\tCO2_T09:cell_methods = time: mean ;\n",
      "\tfloat64 CO2_T09a(time, zlev, lat, lon) ;\n",
      "\t\tCO2_T09a:mdims = 1 ;\n",
      "\t\tCO2_T09a:units = mol/mol ;\n",
      "\t\tCO2_T09a:long_name = CO2_T09a concentration ;\n",
      "\t\tCO2_T09a:cell_methods = time: mean ;\n",
      "\tfloat64 CO2_T09b(time, zlev, lat, lon) ;\n",
      "\t\tCO2_T09b:mdims = 1 ;\n",
      "\t\tCO2_T09b:units = mol/mol ;\n",
      "\t\tCO2_T09b:long_name = CO2_T09b concentration ;\n",
      "\t\tCO2_T09b:cell_methods = time: mean ;\n",
      "\tfloat64 CO2_T09c(time, zlev, lat, lon) ;\n",
      "\t\tCO2_T09c:mdims = 1 ;\n",
      "\t\tCO2_T09c:units = mol/mol ;\n",
      "\t\tCO2_T09c:long_name = CO2_T09c concentration ;\n",
      "\t\tCO2_T09c:cell_methods = time: mean ;\n",
      "\tfloat64 CO2_T09d(time, zlev, lat, lon) ;\n",
      "\t\tCO2_T09d:mdims = 1 ;\n",
      "\t\tCO2_T09d:units = mol/mol ;\n",
      "\t\tCO2_T09d:long_name = CO2_T09d concentration ;\n",
      "\t\tCO2_T09d:cell_methods = time: mean ;\n",
      "\tfloat64 CO2_T09e(time, zlev, lat, lon) ;\n",
      "\t\tCO2_T09e:mdims = 1 ;\n",
      "\t\tCO2_T09e:units = mol/mol ;\n",
      "\t\tCO2_T09e:long_name = CO2_T09e concentration ;\n",
      "\t\tCO2_T09e:cell_methods = time: mean ;\n",
      "\tfloat64 CO2_T09f(time, zlev, lat, lon) ;\n",
      "\t\tCO2_T09f:mdims = 1 ;\n",
      "\t\tCO2_T09f:units = mol/mol ;\n",
      "\t\tCO2_T09f:long_name = CO2_T09f concentration ;\n",
      "\t\tCO2_T09f:cell_methods = time: mean ;\n",
      "\tfloat64 CO2_T09g(time, zlev, lat, lon) ;\n",
      "\t\tCO2_T09g:mdims = 1 ;\n",
      "\t\tCO2_T09g:units = mol/mol ;\n",
      "\t\tCO2_T09g:long_name = CO2_T09g concentration ;\n",
      "\t\tCO2_T09g:cell_methods = time: mean ;\n",
      "\tfloat64 CO2_T09h(time, zlev, lat, lon) ;\n",
      "\t\tCO2_T09h:mdims = 1 ;\n",
      "\t\tCO2_T09h:units = mol/mol ;\n",
      "\t\tCO2_T09h:long_name = CO2_T09h concentration ;\n",
      "\t\tCO2_T09h:cell_methods = time: mean ;\n",
      "\tfloat64 CO2_T09i(time, zlev, lat, lon) ;\n",
      "\t\tCO2_T09i:mdims = 1 ;\n",
      "\t\tCO2_T09i:units = mol/mol ;\n",
      "\t\tCO2_T09i:long_name = CO2_T09i concentration ;\n",
      "\t\tCO2_T09i:cell_methods = time: mean ;\n",
      "\tfloat64 CO2_T09j(time, zlev, lat, lon) ;\n",
      "\t\tCO2_T09j:mdims = 1 ;\n",
      "\t\tCO2_T09j:units = mol/mol ;\n",
      "\t\tCO2_T09j:long_name = CO2_T09j concentration ;\n",
      "\t\tCO2_T09j:cell_methods = time: mean ;\n",
      "\tfloat64 CO2_T09k(time, zlev, lat, lon) ;\n",
      "\t\tCO2_T09k:mdims = 1 ;\n",
      "\t\tCO2_T09k:units = mol/mol ;\n",
      "\t\tCO2_T09k:long_name = CO2_T09k concentration ;\n",
      "\t\tCO2_T09k:cell_methods = time: mean ;\n",
      "\tfloat64 CO2_T09l(time, zlev, lat, lon) ;\n",
      "\t\tCO2_T09l:mdims = 1 ;\n",
      "\t\tCO2_T09l:units = mol/mol ;\n",
      "\t\tCO2_T09l:long_name = CO2_T09l concentration ;\n",
      "\t\tCO2_T09l:cell_methods = time: mean ;\n",
      "\tfloat64 CO2_OCN(time, zlev, lat, lon) ;\n",
      "\t\tCO2_OCN:mdims = 1 ;\n",
      "\t\tCO2_OCN:units = kg/kg ;\n",
      "\t\tCO2_OCN:long_name = CO2_OCN ;\n",
      "\t\tCO2_OCN:cell_methods = time: mean ;\n",
      "\tfloat64 CO2_CROT(time, zlev, lat, lon) ;\n",
      "\t\tCO2_CROT:mdims = 1 ;\n",
      "\t\tCO2_CROT:units = mol/mol ;\n",
      "\t\tCO2_CROT:long_name = CO2_CROT concentration ;\n",
      "\t\tCO2_CROT:cell_methods = time: mean ;\n",
      "\tfloat64 CO2_L14C(time, zlev, lat, lon) ;\n",
      "\t\tCO2_L14C:mdims = 1 ;\n",
      "\t\tCO2_L14C:units = mol/mol ;\n",
      "\t\tCO2_L14C:long_name = CO2_L14C concentration ;\n",
      "\t\tCO2_L14C:cell_methods = time: mean ;\n",
      "\tfloat64 CO2_CRPO(time, zlev, lat, lon) ;\n",
      "\t\tCO2_CRPO:mdims = 1 ;\n",
      "\t\tCO2_CRPO:units = mol/mol ;\n",
      "\t\tCO2_CRPO:long_name = CO2_CRPO concentration ;\n",
      "\t\tCO2_CRPO:cell_methods = time: mean ;\n",
      "\tfloat64 CO2_CROL(time, zlev, lat, lon) ;\n",
      "\t\tCO2_CROL:mdims = 1 ;\n",
      "\t\tCO2_CROL:units = mol/mol ;\n",
      "\t\tCO2_CROL:long_name = CO2_CROL concentration ;\n",
      "\t\tCO2_CROL:cell_methods = time: mean ;\n",
      "\tfloat64 CO2_CROO(time, zlev, lat, lon) ;\n",
      "\t\tCO2_CROO:mdims = 1 ;\n",
      "\t\tCO2_CROO:units = mol/mol ;\n",
      "\t\tCO2_CROO:long_name = CO2_CROO concentration ;\n",
      "\t\tCO2_CROO:cell_methods = time: mean ;\n",
      "\tfloat64 aO2_GKA(time, zlev, lat, lon) ;\n",
      "\t\taO2_GKA:mdims = 1 ;\n",
      "\t\taO2_GKA:units = mol/mol ;\n",
      "\t\taO2_GKA:long_name = aO2_GKA concentration ;\n",
      "\t\taO2_GKA:cell_methods = time: mean ;\n",
      "\tfloat64 O2_GKA(time, zlev, lat, lon) ;\n",
      "\t\tO2_GKA:mdims = 1 ;\n",
      "\t\tO2_GKA:units = mol/mol ;\n",
      "\t\tO2_GKA:long_name = O2_GKA concentration ;\n",
      "\t\tO2_GKA:cell_methods = time: mean ;\n",
      "\tfloat64 CO2_C15T(time, zlev, lat, lon) ;\n",
      "\t\tCO2_C15T:mdims = 1 ;\n",
      "\t\tCO2_C15T:units = mol/mol ;\n",
      "\t\tCO2_C15T:long_name = CO2_C15T concentration ;\n",
      "\t\tCO2_C15T:cell_methods = time: mean ;\n",
      "\tfloat64 CO2(time, zlev, lat, lon) ;\n",
      "\t\tCO2:mdims = 1 ;\n",
      "\t\tCO2:units = kg/kg ;\n",
      "\t\tCO2:long_name = CO2 ;\n",
      "\t\tCO2:cell_methods = time: mean ;\n",
      "\tfloat64 CO2_FFF(time, zlev, lat, lon) ;\n",
      "\t\tCO2_FFF:mdims = 1 ;\n",
      "\t\tCO2_FFF:units = kg/kg ;\n",
      "\t\tCO2_FFF:long_name = CO2_FFF ;\n",
      "\t\tCO2_FFF:cell_methods = time: mean ;\n",
      "\tfloat64 IDL_T000(time, zlev, lat, lon) ;\n",
      "\t\tIDL_T000:mdims = 1 ;\n",
      "\t\tIDL_T000:units = mol/mol ;\n",
      "\t\tIDL_T000:long_name = IDL_T000 concentration ;\n",
      "\t\tIDL_T000:cell_methods = time: mean ;\n",
      "\tfloat64 IDL_T001(time, zlev, lat, lon) ;\n",
      "\t\tIDL_T001:mdims = 1 ;\n",
      "\t\tIDL_T001:units = mol/mol ;\n",
      "\t\tIDL_T001:long_name = IDL_T001 concentration ;\n",
      "\t\tIDL_T001:cell_methods = time: mean ;\n",
      "\tfloat64 IDL_T002(time, zlev, lat, lon) ;\n",
      "\t\tIDL_T002:mdims = 1 ;\n",
      "\t\tIDL_T002:units = mol/mol ;\n",
      "\t\tIDL_T002:long_name = IDL_T002 concentration ;\n",
      "\t\tIDL_T002:cell_methods = time: mean ;\n",
      "\tfloat64 IDL_T003(time, zlev, lat, lon) ;\n",
      "\t\tIDL_T003:mdims = 1 ;\n",
      "\t\tIDL_T003:units = mol/mol ;\n",
      "\t\tIDL_T003:long_name = IDL_T003 concentration ;\n",
      "\t\tIDL_T003:cell_methods = time: mean ;\n",
      "\tfloat64 IDL_T004(time, zlev, lat, lon) ;\n",
      "\t\tIDL_T004:mdims = 1 ;\n",
      "\t\tIDL_T004:units = mol/mol ;\n",
      "\t\tIDL_T004:long_name = IDL_T004 concentration ;\n",
      "\t\tIDL_T004:cell_methods = time: mean ;\n",
      "\tfloat64 IDL_T005(time, zlev, lat, lon) ;\n",
      "\t\tIDL_T005:mdims = 1 ;\n",
      "\t\tIDL_T005:units = mol/mol ;\n",
      "\t\tIDL_T005:long_name = IDL_T005 concentration ;\n",
      "\t\tIDL_T005:cell_methods = time: mean ;\n",
      "\tfloat64 IDL_T006(time, zlev, lat, lon) ;\n",
      "\t\tIDL_T006:mdims = 1 ;\n",
      "\t\tIDL_T006:units = mol/mol ;\n",
      "\t\tIDL_T006:long_name = IDL_T006 concentration ;\n",
      "\t\tIDL_T006:cell_methods = time: mean ;\n",
      "\tfloat64 IDL_S005(time, zlev, lat, lon) ;\n",
      "\t\tIDL_S005:mdims = 1 ;\n",
      "\t\tIDL_S005:units = mol/mol ;\n",
      "\t\tIDL_S005:long_name = IDL_S005 concentration ;\n",
      "\t\tIDL_S005:cell_methods = time: mean ;\n",
      "\tfloat64 IDL_S004(time, zlev, lat, lon) ;\n",
      "\t\tIDL_S004:mdims = 1 ;\n",
      "\t\tIDL_S004:units = mol/mol ;\n",
      "\t\tIDL_S004:long_name = IDL_S004 concentration ;\n",
      "\t\tIDL_S004:cell_methods = time: mean ;\n",
      "\tfloat64 CO2_C15F(time, zlev, lat, lon) ;\n",
      "\t\tCO2_C15F:mdims = 1 ;\n",
      "\t\tCO2_C15F:units = mol/mol ;\n",
      "\t\tCO2_C15F:long_name = CO2_C15F concentration ;\n",
      "\t\tCO2_C15F:cell_methods = time: mean ;\n",
      "\tfloat64 IDL_S006(time, zlev, lat, lon) ;\n",
      "\t\tIDL_S006:mdims = 1 ;\n",
      "\t\tIDL_S006:units = mol/mol ;\n",
      "\t\tIDL_S006:long_name = IDL_S006 concentration ;\n",
      "\t\tIDL_S006:cell_methods = time: mean ;\n",
      "\tfloat64 IDL_S001(time, zlev, lat, lon) ;\n",
      "\t\tIDL_S001:mdims = 1 ;\n",
      "\t\tIDL_S001:units = mol/mol ;\n",
      "\t\tIDL_S001:long_name = IDL_S001 concentration ;\n",
      "\t\tIDL_S001:cell_methods = time: mean ;\n",
      "\tfloat64 IDL_S003(time, zlev, lat, lon) ;\n",
      "\t\tIDL_S003:mdims = 1 ;\n",
      "\t\tIDL_S003:units = mol/mol ;\n",
      "\t\tIDL_S003:long_name = IDL_S003 concentration ;\n",
      "\t\tIDL_S003:cell_methods = time: mean ;\n",
      "\tfloat64 IDL_S002(time, zlev, lat, lon) ;\n",
      "\t\tIDL_S002:mdims = 1 ;\n",
      "\t\tIDL_S002:units = mol/mol ;\n",
      "\t\tIDL_S002:long_name = IDL_S002 concentration ;\n",
      "\t\tIDL_S002:cell_methods = time: mean ;\n",
      "\tfloat64 CO2_C15L(time, zlev, lat, lon) ;\n",
      "\t\tCO2_C15L:mdims = 1 ;\n",
      "\t\tCO2_C15L:units = mol/mol ;\n",
      "\t\tCO2_C15L:long_name = CO2_C15L concentration ;\n",
      "\t\tCO2_C15L:cell_methods = time: mean ;\n",
      "\tfloat64 CO2_C15O(time, zlev, lat, lon) ;\n",
      "\t\tCO2_C15O:mdims = 1 ;\n",
      "\t\tCO2_C15O:units = mol/mol ;\n",
      "\t\tCO2_C15O:long_name = CO2_C15O concentration ;\n",
      "\t\tCO2_C15O:cell_methods = time: mean ;\n",
      "\n",
      "// global attributes:\n",
      "}"
     ]
    }
   ],
   "source": [
    "reload(cesm)\n",
    "case = 'bgeos5.B20TRC5CN.f09_g16.BPRD_orcas_sci.004'\n",
    "\n",
    "tracer_def = cesm.trace_gas_tracers(case)\n",
    "tracer_3d = [k for k in tracer_def]\n",
    "varlist = ['Z3']+tracer_3d\n",
    "\n",
    "ds = cesm.open_casedata(case,'atm','cam.h0',varlist,transformed='z3')\n",
    "\n",
    "print('ds size {:0.2f}GB\\n'.format(ds.nbytes / 1e9))\n",
    "ds.info()"
   ]
  },
  {
   "cell_type": "code",
   "execution_count": 4,
   "metadata": {},
   "outputs": [
    {
     "name": "stdout",
     "output_type": "stream",
     "text": [
      "N elements per chunk 1\n",
      "Chunk size in GB 0.00\n",
      "\n"
     ]
    }
   ],
   "source": [
    "chunk = {'time':1} #00,'lat':24.,'lon':36.,'zlev':56}\n",
    "nelements = np.prod(np.array([v for v in chunk.values()])).astype(int)\n",
    "nbytes = nelements * 8\n",
    "print('N elements per chunk {:d}\\nChunk size in GB {:0.2f}\\n'.format(nelements,nbytes / 1e9))"
   ]
  },
  {
   "cell_type": "code",
   "execution_count": 5,
   "metadata": {},
   "outputs": [
    {
     "data": {
      "text/plain": [
       "Frozen(SortedKeysDict({u'lat': (192,), u'zlev': (56,), u'lon': (288,), u'time': (1, 1, 1, 1, 1, 1, 1, 1, 1, 1, 1, 1, 1, 1, 1, 1, 1, 1, 1, 1, 1, 1, 1, 1, 1, 1, 1, 1, 1, 1, 1, 1, 1, 1, 1, 1, 1, 1, 1, 1, 1, 1, 1, 1, 1, 1, 1, 1, 1, 1, 1, 1, 1, 1, 1, 1, 1, 1, 1, 1, 1, 1, 1, 1, 1, 1, 1, 1, 1, 1, 1, 1, 1, 1, 1, 1, 1, 1, 1, 1, 1, 1, 1, 1, 1, 1, 1, 1, 1, 1, 1, 1, 1, 1, 1, 1, 1, 1, 1, 1, 1, 1, 1, 1, 1, 1, 1, 1, 1, 1, 1, 1, 1, 1, 1, 1, 1, 1, 1, 1, 1, 1, 1, 1, 1, 1, 1, 1, 1, 1, 1, 1, 1, 1, 1, 1, 1, 1, 1, 1, 1, 1, 1, 1, 1, 1, 1, 1, 1, 1, 1, 1, 1, 1, 1, 1, 1, 1, 1, 1, 1, 1, 1, 1, 1, 1, 1, 1, 1, 1, 1, 1, 1, 1, 1, 1, 1, 1, 1, 1, 1, 1, 1, 1, 1, 1, 1, 1, 1, 1, 1, 1, 1, 1, 1, 1, 1, 1, 1, 1, 1, 1, 1, 1, 1, 1, 1, 1, 1, 1, 1, 1, 1, 1, 1, 1, 1, 1, 1, 1, 1, 1, 1, 1, 1, 1, 1, 1, 1, 1, 1, 1, 1, 1, 1, 1, 1, 1, 1, 1, 1, 1, 1, 1, 1, 1, 1, 1, 1, 1, 1, 1, 1, 1, 1, 1, 1, 1, 1, 1, 1, 1, 1, 1, 1, 1, 1, 1, 1, 1, 1, 1, 1, 1, 1, 1, 1, 1, 1, 1, 1, 1, 1, 1, 1, 1, 1, 1, 1, 1, 1, 1, 1, 1, 1, 1, 1, 1, 1, 1, 1, 1, 1, 1, 1, 1, 1, 1, 1, 1, 1, 1, 1, 1, 1, 1, 1, 1, 1, 1, 1, 1, 1, 1, 1, 1, 1, 1, 1, 1, 1, 1, 1, 1, 1, 1, 1, 1, 1, 1, 1, 1, 1, 1, 1, 1, 1, 1, 1, 1, 1, 1, 1, 1, 1, 1, 1, 1, 1, 1, 1, 1, 1, 1, 1, 1, 1, 1, 1, 1, 1, 1, 1, 1, 1, 1, 1, 1, 1, 1, 1, 1, 1, 1, 1, 1, 1, 1, 1, 1, 1, 1, 1, 1, 1, 1, 1, 1, 1, 1, 1, 1, 1, 1, 1, 1, 1, 1, 1, 1, 1, 1, 1, 1, 1, 1, 1, 1, 1, 1, 1, 1, 1, 1, 1, 1, 1, 1, 1, 1, 1, 1, 1, 1, 1, 1, 1, 1, 1, 1, 1, 1, 1, 1, 1, 1, 1, 1, 1, 1, 1, 1, 1, 1, 1, 1, 1, 1, 1, 1, 1, 1, 1, 1, 1, 1, 1, 1, 1, 1, 1, 1, 1, 1, 1, 1, 1, 1, 1, 1, 1, 1, 1, 1, 1, 1, 1, 1, 1, 1, 1, 1, 1, 1, 1, 1, 1, 1, 1, 1, 1, 1, 1, 1, 1, 1, 1, 1, 1, 1, 1, 1, 1, 1, 1, 1, 1, 1, 1, 1, 1, 1, 1, 1, 1, 1, 1, 1, 1, 1, 1, 1, 1, 1, 1, 1, 1, 1, 1, 1, 1, 1, 1, 1, 1, 1, 1, 1, 1, 1, 1, 1, 1, 1, 1, 1, 1, 1, 1, 1, 1, 1, 1, 1, 1, 1, 1, 1, 1, 1, 1, 1, 1, 1, 1, 1, 1, 1, 1, 1, 1, 1, 1, 1, 1, 1, 1, 1, 1, 1, 1, 1, 1, 1, 1, 1, 1, 1, 1, 1, 1, 1, 1, 1, 1, 1, 1, 1, 1, 1, 1, 1, 1, 1, 1, 1, 1, 1, 1, 1, 1, 1, 1, 1, 1, 1, 1, 1, 1, 1, 1, 1, 1, 1, 1, 1, 1, 1, 1, 1, 1, 1, 1, 1, 1, 1, 1, 1, 1, 1, 1, 1, 1, 1, 1, 1, 1, 1, 1, 1, 1, 1, 1, 1, 1, 1, 1, 1, 1, 1, 1, 1, 1, 1, 1, 1, 1, 1, 1, 1, 1, 1, 1, 1, 1, 1, 1, 1, 1, 1, 1, 1, 1, 1, 1, 1, 1, 1, 1, 1, 1, 1, 1, 1, 1, 1, 1, 1, 1, 1, 1, 1, 1, 1, 1, 1, 1, 1, 1, 1, 1, 1, 1, 1, 1, 1, 1, 1, 1, 1, 1, 1, 1, 1, 1, 1, 1, 1, 1, 1, 1, 1, 1, 1, 1, 1, 1, 1, 1, 1, 1, 1, 1, 1, 1, 1, 1, 1, 1, 1, 1, 1, 1, 1, 1, 1, 1, 1, 1, 1, 1, 1, 1, 1, 1, 1, 1, 1, 1, 1, 1, 1, 1, 1, 1, 1, 1, 1, 1, 1, 1, 1, 1, 1, 1, 1, 1, 1, 1, 1, 1, 1, 1, 1, 1, 1, 1, 1, 1, 1, 1, 1, 1, 1, 1, 1, 1, 1, 1, 1, 1, 1, 1, 1, 1, 1, 1, 1, 1, 1, 1, 1, 1, 1, 1, 1, 1, 1, 1, 1, 1, 1, 1, 1, 1, 1, 1, 1, 1, 1, 1, 1, 1, 1, 1, 1, 1, 1, 1, 1, 1, 1, 1, 1, 1, 1, 1, 1, 1, 1, 1, 1, 1, 1, 1, 1, 1, 1, 1, 1, 1, 1, 1, 1, 1, 1, 1, 1, 1, 1, 1, 1, 1, 1, 1, 1, 1, 1, 1, 1, 1, 1, 1, 1, 1, 1, 1, 1, 1, 1, 1, 1, 1, 1, 1, 1, 1, 1, 1, 1, 1, 1, 1, 1, 1, 1, 1, 1, 1, 1, 1, 1, 1, 1, 1, 1, 1, 1, 1, 1, 1, 1, 1, 1, 1, 1, 1, 1, 1, 1, 1, 1, 1, 1, 1, 1, 1, 1, 1, 1, 1, 1, 1, 1, 1, 1, 1, 1, 1, 1, 1, 1, 1, 1, 1, 1, 1, 1, 1, 1, 1, 1, 1, 1, 1, 1, 1, 1, 1, 1, 1, 1, 1, 1, 1, 1, 1, 1, 1, 1, 1, 1, 1, 1, 1, 1, 1, 1, 1, 1, 1, 1, 1, 1, 1, 1, 1, 1, 1, 1, 1, 1, 1, 1, 1, 1, 1, 1, 1, 1, 1, 1, 1, 1, 1, 1, 1, 1, 1, 1, 1, 1, 1, 1, 1, 1, 1, 1, 1, 1, 1, 1, 1, 1, 1, 1, 1, 1, 1, 1, 1, 1, 1, 1, 1, 1, 1, 1, 1, 1, 1, 1, 1, 1, 1, 1, 1, 1, 1, 1, 1, 1, 1, 1, 1, 1, 1, 1, 1, 1, 1, 1, 1, 1, 1, 1, 1, 1, 1, 1, 1, 1, 1, 1, 1, 1, 1, 1, 1, 1, 1, 1, 1, 1, 1, 1, 1, 1, 1, 1, 1, 1, 1, 1, 1, 1, 1, 1, 1, 1, 1, 1, 1, 1, 1, 1, 1, 1, 1, 1, 1, 1, 1, 1, 1, 1, 1, 1, 1, 1, 1, 1, 1, 1, 1, 1, 1, 1, 1, 1, 1, 1, 1, 1, 1, 1, 1, 1, 1, 1, 1, 1, 1, 1, 1, 1, 1, 1, 1, 1, 1, 1, 1, 1, 1, 1, 1, 1, 1, 1, 1, 1, 1, 1, 1, 1, 1, 1, 1, 1, 1, 1, 1, 1, 1, 1, 1, 1, 1, 1, 1, 1, 1, 1, 1, 1, 1, 1, 1, 1, 1, 1, 1, 1, 1, 1, 1, 1, 1, 1, 1, 1, 1, 1, 1, 1, 1, 1, 1, 1, 1, 1, 1, 1, 1, 1, 1, 1, 1, 1, 1, 1, 1, 1, 1, 1, 1, 1, 1, 1, 1, 1, 1, 1, 1, 1, 1, 1, 1, 1, 1, 1, 1, 1, 1, 1, 1, 1, 1, 1, 1, 1, 1, 1, 1, 1, 1, 1, 1, 1, 1, 1, 1, 1, 1, 1, 1, 1, 1, 1, 1, 1, 1, 1, 1, 1, 1, 1, 1, 1, 1, 1, 1, 1, 1, 1, 1, 1, 1, 1, 1, 1, 1, 1, 1, 1, 1, 1, 1, 1, 1, 1, 1, 1, 1, 1, 1, 1, 1, 1, 1, 1, 1, 1, 1, 1, 1, 1, 1, 1, 1, 1, 1, 1, 1, 1, 1, 1, 1, 1, 1, 1, 1, 1, 1, 1, 1, 1, 1, 1, 1, 1, 1, 1, 1, 1, 1, 1, 1, 1, 1, 1, 1, 1, 1, 1, 1, 1, 1, 1, 1, 1, 1, 1, 1, 1, 1, 1, 1, 1, 1, 1, 1, 1, 1, 1, 1, 1, 1, 1, 1, 1, 1, 1, 1, 1, 1, 1, 1, 1, 1, 1, 1, 1, 1, 1, 1, 1, 1, 1, 1, 1, 1, 1, 1, 1, 1, 1, 1, 1, 1, 1, 1, 1, 1, 1, 1, 1, 1, 1, 1, 1, 1, 1, 1, 1, 1, 1, 1, 1, 1, 1, 1, 1, 1, 1, 1, 1, 1, 1, 1, 1, 1, 1, 1, 1, 1, 1, 1, 1, 1, 1, 1, 1, 1, 1, 1, 1, 1, 1, 1, 1, 1, 1, 1, 1, 1, 1, 1, 1, 1, 1, 1, 1, 1, 1, 1, 1, 1, 1, 1, 1, 1, 1, 1, 1, 1, 1, 1, 1, 1, 1, 1, 1, 1, 1, 1, 1, 1, 1, 1, 1, 1, 1, 1, 1, 1, 1, 1, 1, 1, 1, 1, 1, 1, 1, 1, 1, 1, 1, 1, 1, 1, 1, 1, 1, 1, 1, 1, 1, 1, 1, 1, 1, 1, 1, 1, 1, 1, 1, 1, 1, 1, 1, 1, 1, 1, 1, 1, 1, 1, 1, 1, 1, 1, 1, 1, 1, 1, 1, 1, 1, 1, 1, 1, 1, 1, 1, 1, 1, 1, 1, 1, 1, 1, 1, 1, 1, 1, 1, 1, 1, 1, 1, 1, 1, 1, 1, 1, 1, 1, 1, 1, 1, 1, 1, 1, 1, 1, 1, 1, 1, 1, 1, 1, 1, 1, 1, 1, 1, 1, 1, 1, 1, 1, 1, 1, 1, 1, 1, 1, 1, 1, 1, 1, 1, 1, 1, 1, 1, 1, 1, 1, 1, 1, 1, 1, 1, 1, 1, 1, 1, 1, 1, 1, 1, 1, 1, 1, 1, 1, 1, 1, 1, 1, 1, 1, 1, 1, 1, 1, 1, 1, 1, 1, 1, 1, 1, 1, 1, 1, 1, 1, 1, 1, 1, 1, 1, 1, 1, 1, 1, 1, 1, 1, 1, 1, 1, 1, 1, 1, 1, 1, 1, 1, 1, 1, 1, 1, 1, 1, 1, 1, 1, 1, 1, 1, 1, 1, 1, 1, 1, 1, 1, 1, 1, 1, 1, 1, 1, 1, 1, 1, 1, 1, 1, 1, 1, 1, 1, 1, 1, 1, 1, 1, 1, 1, 1, 1, 1, 1, 1, 1, 1, 1, 1, 1, 1, 1, 1, 1, 1, 1, 1, 1, 1, 1, 1, 1, 1, 1, 1, 1, 1, 1, 1, 1, 1, 1, 1, 1, 1, 1, 1, 1, 1, 1, 1, 1, 1, 1, 1, 1, 1, 1, 1, 1, 1, 1, 1, 1, 1, 1, 1, 1, 1, 1, 1, 1, 1, 1, 1, 1, 1, 1, 1, 1, 1, 1, 1, 1, 1, 1, 1, 1, 1, 1, 1, 1, 1, 1, 1, 1, 1, 1, 1, 1, 1, 1, 1, 1, 1, 1, 1, 1, 1, 1, 1, 1, 1, 1, 1, 1, 1, 1, 1, 1, 1, 1, 1, 1, 1, 1, 1, 1, 1, 1, 1, 1, 1, 1, 1, 1, 1, 1, 1, 1, 1, 1, 1, 1, 1, 1, 1, 1, 1, 1, 1, 1, 1, 1, 1, 1, 1, 1, 1, 1, 1, 1, 1, 1, 1, 1, 1, 1, 1, 1, 1, 1, 1, 1, 1, 1, 1, 1, 1, 1, 1, 1, 1, 1, 1, 1, 1, 1, 1, 1, 1, 1, 1, 1, 1, 1, 1, 1, 1, 1, 1, 1, 1, 1, 1, 1, 1, 1, 1, 1, 1, 1, 1, 1, 1, 1, 1, 1, 1, 1, 1, 1, 1, 1, 1, 1, 1, 1, 1, 1, 1, 1, 1, 1, 1, 1, 1, 1, 1, 1, 1, 1, 1, 1, 1, 1, 1, 1, 1, 1, 1, 1, 1, 1, 1, 1, 1, 1, 1, 1, 1, 1, 1, 1, 1, 1, 1, 1, 1, 1, 1, 1, 1, 1, 1, 1, 1, 1, 1, 1, 1, 1, 1, 1, 1, 1, 1, 1, 1, 1, 1, 1, 1, 1, 1, 1, 1, 1, 1, 1, 1, 1, 1, 1, 1, 1, 1, 1, 1, 1, 1, 1, 1, 1, 1, 1, 1, 1, 1, 1, 1, 1, 1, 1, 1, 1, 1, 1, 1, 1, 1, 1, 1, 1, 1, 1, 1, 1, 1, 1, 1, 1, 1, 1, 1, 1, 1, 1, 1, 1, 1, 1, 1, 1, 1, 1, 1, 1, 1, 1, 1, 1, 1, 1, 1, 1, 1, 1, 1, 1, 1, 1, 1, 1, 1, 1, 1, 1, 1, 1, 1, 1, 1, 1, 1, 1, 1, 1, 1, 1, 1, 1, 1, 1, 1, 1, 1, 1, 1, 1, 1, 1, 1, 1, 1, 1, 1, 1, 1, 1, 1, 1, 1, 1, 1, 1, 1, 1, 1, 1, 1, 1, 1, 1, 1, 1, 1, 1, 1, 1, 1, 1, 1, 1, 1, 1, 1, 1, 1, 1, 1, 1, 1, 1, 1, 1, 1, 1, 1, 1, 1, 1, 1, 1, 1, 1, 1, 1, 1, 1, 1, 1, 1, 1, 1, 1, 1, 1, 1, 1, 1, 1, 1, 1, 1, 1, 1, 1, 1, 1, 1, 1, 1, 1, 1, 1, 1, 1, 1, 1, 1, 1, 1, 1, 1, 1, 1, 1, 1, 1, 1, 1, 1, 1, 1, 1, 1, 1, 1, 1, 1, 1, 1, 1, 1, 1, 1, 1, 1, 1, 1, 1, 1, 1, 1, 1, 1, 1, 1, 1, 1, 1, 1, 1, 1, 1, 1, 1, 1, 1, 1, 1, 1, 1, 1, 1, 1, 1, 1, 1, 1, 1, 1, 1, 1, 1, 1, 1, 1, 1, 1, 1, 1, 1, 1, 1, 1, 1, 1, 1, 1, 1, 1, 1, 1, 1, 1, 1, 1, 1, 1, 1, 1, 1, 1, 1, 1, 1, 1, 1, 1, 1, 1, 1, 1, 1, 1, 1, 1, 1, 1, 1, 1, 1, 1, 1, 1, 1, 1, 1, 1, 1, 1, 1, 1, 1, 1, 1, 1, 1, 1, 1, 1, 1, 1, 1, 1, 1, 1, 1, 1, 1, 1, 1, 1, 1, 1, 1, 1, 1, 1, 1, 1, 1, 1, 1, 1, 1, 1, 1, 1, 1, 1, 1, 1, 1, 1, 1, 1, 1, 1, 1, 1, 1, 1, 1, 1, 1, 1, 1, 1, 1, 1, 1, 1, 1, 1, 1, 1, 1, 1, 1, 1, 1, 1, 1, 1, 1, 1, 1, 1, 1, 1, 1, 1, 1, 1, 1, 1, 1, 1, 1, 1, 1, 1, 1, 1, 1, 1, 1, 1, 1, 1, 1, 1, 1, 1, 1, 1, 1, 1, 1, 1, 1, 1, 1, 1, 1, 1, 1, 1, 1, 1, 1, 1, 1, 1, 1, 1, 1, 1, 1, 1, 1, 1, 1, 1, 1, 1, 1, 1, 1, 1, 1, 1, 1, 1, 1, 1, 1, 1, 1, 1, 1, 1, 1, 1, 1, 1, 1, 1, 1, 1, 1, 1, 1, 1, 1, 1, 1, 1, 1, 1, 1, 1, 1, 1, 1, 1, 1, 1, 1, 1, 1, 1, 1, 1, 1, 1, 1, 1, 1, 1, 1, 1, 1, 1, 1, 1, 1, 1, 1, 1, 1, 1, 1, 1, 1, 1, 1, 1, 1, 1, 1, 1, 1, 1, 1, 1, 1, 1, 1, 1, 1, 1, 1, 1, 1, 1, 1, 1, 1, 1, 1, 1, 1, 1, 1, 1, 1, 1, 1, 1, 1, 1, 1, 1, 1, 1, 1, 1, 1, 1, 1, 1, 1, 1, 1, 1, 1, 1, 1, 1, 1, 1, 1, 1, 1, 1, 1, 1, 1, 1, 1, 1, 1, 1, 1, 1, 1, 1, 1, 1, 1, 1, 1, 1, 1, 1, 1, 1, 1, 1, 1, 1, 1, 1, 1, 1, 1, 1, 1, 1, 1, 1, 1, 1, 1, 1, 1, 1, 1, 1, 1, 1, 1, 1, 1, 1, 1, 1, 1, 1, 1, 1, 1, 1, 1, 1, 1, 1, 1, 1, 1, 1, 1, 1, 1, 1, 1, 1, 1, 1, 1, 1, 1, 1, 1, 1, 1, 1, 1, 1, 1, 1, 1, 1, 1, 1, 1, 1, 1, 1, 1, 1, 1, 1, 1, 1, 1, 1, 1, 1, 1, 1, 1, 1, 1, 1, 1, 1, 1, 1, 1, 1, 1, 1, 1, 1, 1, 1, 1, 1, 1, 1, 1, 1, 1, 1, 1, 1, 1, 1, 1, 1, 1, 1, 1, 1, 1, 1, 1, 1, 1, 1, 1, 1, 1, 1, 1, 1, 1, 1, 1, 1, 1, 1, 1, 1, 1, 1, 1, 1, 1, 1, 1, 1, 1, 1, 1, 1, 1, 1, 1, 1, 1, 1, 1, 1, 1, 1, 1, 1, 1, 1, 1, 1, 1, 1, 1, 1, 1, 1, 1, 1, 1, 1, 1, 1, 1, 1, 1, 1, 1, 1, 1, 1, 1, 1, 1, 1, 1, 1, 1, 1, 1, 1, 1, 1, 1, 1, 1, 1, 1, 1, 1, 1, 1, 1, 1, 1, 1, 1, 1, 1, 1, 1, 1, 1, 1, 1, 1, 1, 1, 1, 1, 1, 1, 1, 1, 1, 1, 1, 1, 1, 1, 1, 1, 1, 1, 1, 1, 1, 1, 1, 1, 1, 1, 1, 1, 1, 1, 1, 1, 1, 1, 1, 1, 1, 1, 1, 1, 1, 1, 1, 1, 1, 1, 1, 1, 1, 1, 1, 1, 1, 1, 1, 1, 1, 1, 1, 1, 1, 1, 1, 1, 1, 1, 1, 1, 1, 1, 1, 1, 1, 1, 1, 1, 1, 1, 1, 1, 1, 1, 1, 1, 1, 1, 1, 1, 1, 1, 1, 1, 1, 1, 1, 1, 1, 1, 1, 1, 1, 1, 1, 1, 1, 1, 1, 1, 1, 1, 1, 1, 1, 1, 1, 1, 1, 1, 1, 1, 1, 1, 1, 1, 1, 1, 1, 1, 1, 1, 1, 1, 1, 1, 1, 1, 1, 1, 1, 1, 1, 1, 1, 1, 1, 1, 1, 1, 1, 1, 1, 1, 1, 1, 1, 1, 1, 1, 1, 1, 1, 1, 1, 1, 1, 1, 1, 1, 1, 1, 1, 1, 1, 1, 1, 1, 1, 1, 1, 1, 1, 1, 1, 1, 1, 1, 1, 1, 1, 1, 1, 1, 1, 1, 1, 1, 1, 1, 1, 1, 1, 1, 1, 1, 1, 1, 1, 1, 1, 1, 1, 1, 1, 1, 1, 1, 1, 1, 1, 1, 1, 1, 1, 1, 1, 1, 1, 1, 1, 1, 1, 1, 1, 1, 1, 1, 1, 1, 1, 1, 1, 1, 1, 1, 1, 1, 1, 1, 1, 1, 1, 1, 1, 1, 1, 1, 1, 1, 1, 1, 1, 1, 1, 1, 1, 1, 1, 1, 1, 1, 1, 1, 1, 1, 1, 1, 1, 1, 1, 1, 1, 1, 1, 1, 1, 1, 1, 1, 1, 1, 1, 1, 1, 1, 1, 1, 1, 1, 1, 1, 1, 1, 1, 1, 1, 1, 1, 1, 1, 1, 1, 1, 1, 1, 1, 1, 1, 1, 1, 1, 1, 1, 1, 1, 1, 1, 1, 1, 1, 1, 1, 1, 1, 1, 1, 1, 1, 1, 1, 1, 1, 1, 1, 1, 1, 1, 1, 1, 1, 1, 1, 1, 1, 1, 1, 1, 1, 1, 1, 1, 1, 1, 1, 1, 1, 1, 1, 1, 1, 1, 1, 1, 1, 1, 1, 1, 1, 1, 1, 1, 1, 1, 1, 1, 1, 1, 1, 1, 1, 1, 1, 1, 1, 1, 1, 1, 1, 1, 1, 1, 1, 1, 1, 1, 1, 1, 1, 1, 1, 1, 1, 1, 1, 1, 1, 1, 1, 1, 1, 1, 1, 1, 1, 1, 1, 1, 1, 1, 1, 1, 1, 1, 1, 1, 1, 1, 1, 1, 1, 1, 1, 1, 1, 1, 1, 1, 1, 1, 1, 1, 1, 1, 1, 1, 1, 1, 1, 1, 1, 1, 1, 1, 1, 1, 1, 1, 1, 1)}))"
      ]
     },
     "execution_count": 5,
     "metadata": {},
     "output_type": "execute_result"
    }
   ],
   "source": [
    "ds = ds.chunk(chunk)\n",
    "ds.chunks"
   ]
  },
  {
   "cell_type": "code",
   "execution_count": 6,
   "metadata": {},
   "outputs": [
    {
     "name": "stdout",
     "output_type": "stream",
     "text": [
      "total area = 5.1008244881083744e+14\n",
      "check area = 5.1009969907076156e+14\n"
     ]
    }
   ],
   "source": [
    "area = grid_tools.compute_grid_area(ds.lon.values,ds.lat.values)"
   ]
  },
  {
   "cell_type": "code",
   "execution_count": 7,
   "metadata": {},
   "outputs": [
    {
     "data": {
      "text/plain": [
       "<xarray.DataArray 'LANDFRAC' (lat: 192, lon: 288)>\n",
       "array([[ 1.,  1.,  1., ...,  1.,  1.,  1.],\n",
       "       [ 1.,  1.,  1., ...,  1.,  1.,  1.],\n",
       "       [ 1.,  1.,  1., ...,  1.,  1.,  1.],\n",
       "       ..., \n",
       "       [ 0.,  0.,  0., ...,  0.,  0.,  0.],\n",
       "       [ 0.,  0.,  0., ...,  0.,  0.,  0.],\n",
       "       [ 0.,  0.,  0., ...,  0.,  0.,  0.]], dtype=float32)\n",
       "Coordinates:\n",
       "  * lat      (lat) float64 -90.0 -89.06 -88.12 -87.17 -86.23 -85.29 -84.35 ...\n",
       "  * lon      (lon) float64 0.0 1.25 2.5 3.75 5.0 6.25 7.5 8.75 10.0 11.25 ...\n",
       "    time     datetime64[ns] 2007-11-01\n",
       "Attributes:\n",
       "    units:         fraction\n",
       "    long_name:     Fraction of sfc area covered by land\n",
       "    cell_methods:  time: mean"
      ]
     },
     "execution_count": 7,
     "metadata": {},
     "output_type": "execute_result"
    }
   ],
   "source": [
    "landfrac = xr.open_dataset('/glade/p/work/mclong/grids/f09_f09.nc')['LANDFRAC'].isel(time=0)\n",
    "landfrac"
   ]
  },
  {
   "cell_type": "code",
   "execution_count": 8,
   "metadata": {},
   "outputs": [
    {
     "data": {
      "text/plain": [
       "<matplotlib.collections.QuadMesh at 0x2aab8957b910>"
      ]
     },
     "execution_count": 8,
     "metadata": {},
     "output_type": "execute_result"
    },
    {
     "data": {
      "image/png": "[encoded data removed]",
      "text/plain": [
       "<matplotlib.figure.Figure at 0x2aab89536a50>"
      ]
     },
     "metadata": {},
     "output_type": "display_data"
    }
   ],
   "source": [
    "rmask = landfrac.where(landfrac<0.9).fillna(0.).where(landfrac>=0.9).fillna(1.).where(landfrac.lat<-44.).fillna(0.)\n",
    "rmask.plot()"
   ]
  },
  {
   "cell_type": "code",
   "execution_count": 9,
   "metadata": {},
   "outputs": [
    {
     "data": {
      "text/plain": [
       "<matplotlib.collections.QuadMesh at 0x2aab896a1190>"
      ]
     },
     "execution_count": 9,
     "metadata": {},
     "output_type": "execute_result"
    },
    {
     "data": {
      "image/png": "[encoded data removed]",
      "text/plain": [
       "<matplotlib.figure.Figure at 0x2aab89627750>"
      ]
     },
     "metadata": {},
     "output_type": "display_data"
    }
   ],
   "source": [
    "wgt = rmask * area\n",
    "wgt = wgt/wgt.sum()\n",
    "wgt = wgt.compute()\n",
    "wgt.plot()"
   ]
  },
  {
   "cell_type": "code",
   "execution_count": null,
   "metadata": {},
   "outputs": [
    {
     "name": "stdout",
     "output_type": "stream",
     "text": [
      "<xarray.Dataset>\n",
      "Dimensions:   (time: 3347, zlev: 56)\n",
      "Coordinates:\n",
      "  * time      (time) float64 730.0 731.0 732.0 733.0 734.0 735.0 736.0 737.0 ...\n",
      "    plev      (zlev) float64 dask.array<shape=(56,), chunksize=(56,)>\n",
      "Dimensions without coordinates: zlev\n",
      "Data variables:\n",
      "    Z3        (time, zlev) float64 dask.array<shape=(3347, 56), chunksize=(1, 56)>\n",
      "    O2_OCN    (time, zlev) float64 dask.array<shape=(3347, 56), chunksize=(1, 56)>\n",
      "    CO2_CROF  (time, zlev) float64 dask.array<shape=(3347, 56), chunksize=(1, 56)>\n",
      "    CO2_LND   (time, zlev) float64 dask.array<shape=(3347, 56), chunksize=(1, 56)>\n",
      "    CO2_T09   (time, zlev) float64 dask.array<shape=(3347, 56), chunksize=(1, 56)>\n",
      "    CO2_T09a  (time, zlev) float64 dask.array<shape=(3347, 56), chunksize=(1, 56)>\n",
      "    CO2_T09b  (time, zlev) float64 dask.array<shape=(3347, 56), chunksize=(1, 56)>\n",
      "    CO2_T09c  (time, zlev) float64 dask.array<shape=(3347, 56), chunksize=(1, 56)>\n",
      "    CO2_T09d  (time, zlev) float64 dask.array<shape=(3347, 56), chunksize=(1, 56)>\n",
      "    CO2_T09e  (time, zlev) float64 dask.array<shape=(3347, 56), chunksize=(1, 56)>\n",
      "    CO2_T09f  (time, zlev) float64 dask.array<shape=(3347, 56), chunksize=(1, 56)>\n",
      "    CO2_T09g  (time, zlev) float64 dask.array<shape=(3347, 56), chunksize=(1, 56)>\n",
      "    CO2_T09h  (time, zlev) float64 dask.array<shape=(3347, 56), chunksize=(1, 56)>\n",
      "    CO2_T09i  (time, zlev) float64 dask.array<shape=(3347, 56), chunksize=(1, 56)>\n",
      "    CO2_T09j  (time, zlev) float64 dask.array<shape=(3347, 56), chunksize=(1, 56)>\n",
      "    CO2_T09k  (time, zlev) float64 dask.array<shape=(3347, 56), chunksize=(1, 56)>\n",
      "    CO2_T09l  (time, zlev) float64 dask.array<shape=(3347, 56), chunksize=(1, 56)>\n",
      "    CO2_OCN   (time, zlev) float64 dask.array<shape=(3347, 56), chunksize=(1, 56)>\n",
      "    CO2_CROT  (time, zlev) float64 dask.array<shape=(3347, 56), chunksize=(1, 56)>\n",
      "    CO2_L14C  (time, zlev) float64 dask.array<shape=(3347, 56), chunksize=(1, 56)>\n",
      "    CO2_CRPO  (time, zlev) float64 dask.array<shape=(3347, 56), chunksize=(1, 56)>\n",
      "    CO2_CROL  (time, zlev) float64 dask.array<shape=(3347, 56), chunksize=(1, 56)>\n",
      "    CO2_CROO  (time, zlev) float64 dask.array<shape=(3347, 56), chunksize=(1, 56)>\n",
      "    aO2_GKA   (time, zlev) float64 dask.array<shape=(3347, 56), chunksize=(1, 56)>\n",
      "    O2_GKA    (time, zlev) float64 dask.array<shape=(3347, 56), chunksize=(1, 56)>\n",
      "    CO2_C15T  (time, zlev) float64 dask.array<shape=(3347, 56), chunksize=(1, 56)>\n",
      "    CO2       (time, zlev) float64 dask.array<shape=(3347, 56), chunksize=(1, 56)>\n",
      "    CO2_FFF   (time, zlev) float64 dask.array<shape=(3347, 56), chunksize=(1, 56)>\n",
      "    IDL_T000  (time, zlev) float64 dask.array<shape=(3347, 56), chunksize=(1, 56)>\n",
      "    IDL_T001  (time, zlev) float64 dask.array<shape=(3347, 56), chunksize=(1, 56)>\n",
      "    IDL_T002  (time, zlev) float64 dask.array<shape=(3347, 56), chunksize=(1, 56)>\n",
      "    IDL_T003  (time, zlev) float64 dask.array<shape=(3347, 56), chunksize=(1, 56)>\n",
      "    IDL_T004  (time, zlev) float64 dask.array<shape=(3347, 56), chunksize=(1, 56)>\n",
      "    IDL_T005  (time, zlev) float64 dask.array<shape=(3347, 56), chunksize=(1, 56)>\n",
      "    IDL_T006  (time, zlev) float64 dask.array<shape=(3347, 56), chunksize=(1, 56)>\n",
      "    IDL_S005  (time, zlev) float64 dask.array<shape=(3347, 56), chunksize=(1, 56)>\n",
      "    IDL_S004  (time, zlev) float64 dask.array<shape=(3347, 56), chunksize=(1, 56)>\n",
      "    CO2_C15F  (time, zlev) float64 dask.array<shape=(3347, 56), chunksize=(1, 56)>\n",
      "    IDL_S006  (time, zlev) float64 dask.array<shape=(3347, 56), chunksize=(1, 56)>\n",
      "    IDL_S001  (time, zlev) float64 dask.array<shape=(3347, 56), chunksize=(1, 56)>\n",
      "    IDL_S003  (time, zlev) float64 dask.array<shape=(3347, 56), chunksize=(1, 56)>\n",
      "    IDL_S002  (time, zlev) float64 dask.array<shape=(3347, 56), chunksize=(1, 56)>\n",
      "    CO2_C15L  (time, zlev) float64 dask.array<shape=(3347, 56), chunksize=(1, 56)>\n",
      "    CO2_C15O  (time, zlev) float64 dask.array<shape=(3347, 56), chunksize=(1, 56)>\n",
      "CPU times: user 10 s, sys: 808 ms, total: 10.8 s\n",
      "Wall time: 9.92 s\n"
     ]
    }
   ],
   "source": [
    "%%time\n",
    "ravg = xr.Dataset()\n",
    "for v in varlist:\n",
    "    ravg[v] = (ds[v] * wgt).sum(dim=['lat','lon'])\n",
    "print ravg"
   ]
  },
  {
   "cell_type": "code",
   "execution_count": null,
   "metadata": {},
   "outputs": [],
   "source": [
    "%%time\n",
    "ravg = ravg.compute()"
   ]
  },
  {
   "cell_type": "code",
   "execution_count": null,
   "metadata": {},
   "outputs": [],
   "source": [
    "%%time\n",
    "ravg.CO2.plot()"
   ]
  },
  {
   "cell_type": "code",
   "execution_count": null,
   "metadata": {},
   "outputs": [],
   "source": []
  },
  {
   "cell_type": "code",
   "execution_count": null,
   "metadata": {},
   "outputs": [],
   "source": []
  }
 ],
 "metadata": {
  "kernelspec": {
   "display_name": "Python 2",
   "language": "python",
   "name": "python2"
  },
  "language_info": {
   "codemirror_mode": {
    "name": "ipython",
    "version": 2
   },
   "file_extension": ".py",
   "mimetype": "text/x-python",
   "name": "python",
   "nbconvert_exporter": "python",
   "pygments_lexer": "ipython2",
   "version": "2.7.14"
  }
 },
 "nbformat": 4,
 "nbformat_minor": 2
}
