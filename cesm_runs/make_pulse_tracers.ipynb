{
 "cells": [
  {
   "cell_type": "code",
   "execution_count": 3,
   "metadata": {},
   "outputs": [
    {
     "name": "stderr",
     "output_type": "stream",
     "text": [
      "/Users/mclong/Dropbox/miniconda2/envs/py2/lib/python2.7/site-packages/statsmodels/compat/pandas.py:56: FutureWarning: The pandas.core.datetools module is deprecated and will be removed in a future version. Please use the pandas.tseries module instead.\n",
      "  from pandas.core import datetools\n"
     ]
    }
   ],
   "source": [
    "%matplotlib inline\n",
    "import sys\n",
    "import os\n",
    "sys.path.insert(0,os.path.abspath(os.path.expanduser('..')))\n",
    "from config_calc import *\n",
    "import grid_tools\n",
    "\n",
    "import cesm_orcas_sci as cesm\n",
    "import cam\n",
    "import gv\n",
    "\n",
    "import colorbrewer\n",
    "\n",
    "import statsmodels.api as sm\n",
    "from scipy import stats\n",
    "\n",
    "import matplotlib.pyplot as plt\n",
    "import cartopy\n",
    "import cartopy.crs as ccrs"
   ]
  },
  {
   "cell_type": "code",
   "execution_count": 5,
   "metadata": {},
   "outputs": [
    {
     "data": {
      "text/plain": [
       "<xarray.Dataset>\n",
       "Dimensions:    (lat: 192, lon: 288, nbnd: 2)\n",
       "Coordinates:\n",
       "  * lat        (lat) float64 -90.0 -89.06 -88.12 -87.17 -86.23 -85.29 -84.35 ...\n",
       "  * lon        (lon) float64 0.0 1.25 2.5 3.75 5.0 6.25 7.5 8.75 10.0 11.25 ...\n",
       "    time       datetime64[ns] 2007-11-01\n",
       "Dimensions without coordinates: nbnd\n",
       "Data variables:\n",
       "    LANDFRAC   (lat, lon) float32 ...\n",
       "    OCNFRAC    (lat, lon) float32 ...\n",
       "    time_bnds  (nbnd) float64 ...\n",
       "Attributes:\n",
       "    Conventions:      CF-1.0\n",
       "    source:           CAM\n",
       "    case:             bgeos5.e12.B20TRC5CN.f09_g16.frcst-ini.001\n",
       "    title:            UNSET\n",
       "    logname:          mclong\n",
       "    host:             ys0419\n",
       "    Version:          $Name$\n",
       "    revision_Id:      $Id$\n",
       "    initial_file:     bsd-merged.cam.r.2005-01-01-00000.nc\n",
       "    topography_file:  /glade/p/cesmdata/cseg/inputdata/atm/cam/topo/USGS-gtop...\n",
       "    history:          Fri Dec  4 10:21:57 2015: ncks -O -v OCNFRAC,LANDFRAC,l...\n",
       "    NCO:              4.4.2"
      ]
     },
     "execution_count": 5,
     "metadata": {},
     "output_type": "execute_result"
    }
   ],
   "source": [
    "ds = xr.open_dataset('../data/f09_f09.nc').isel(time=0)\n",
    "ds"
   ]
  },
  {
   "cell_type": "code",
   "execution_count": null,
   "metadata": {},
   "outputs": [],
   "source": [
    "omsk = ds.LANDFRAC.where(ds.LANDFRAC. < 0.8 )"
   ]
  },
  {
   "cell_type": "code",
   "execution_count": 10,
   "metadata": {},
   "outputs": [
    {
     "data": {
      "text/plain": [
       "<xarray.DataArray (region: 5, lat: 192, lon: 288)>\n",
       "array([[[0., 0., ..., 0., 0.],\n",
       "        [0., 0., ..., 0., 0.],\n",
       "        ...,\n",
       "        [0., 0., ..., 0., 0.],\n",
       "        [0., 0., ..., 0., 0.]],\n",
       "\n",
       "       [[0., 0., ..., 0., 0.],\n",
       "        [0., 0., ..., 0., 0.],\n",
       "        ...,\n",
       "        [0., 0., ..., 0., 0.],\n",
       "        [0., 0., ..., 0., 0.]],\n",
       "\n",
       "       ...,\n",
       "\n",
       "       [[0., 0., ..., 0., 0.],\n",
       "        [0., 0., ..., 0., 0.],\n",
       "        ...,\n",
       "        [0., 0., ..., 0., 0.],\n",
       "        [0., 0., ..., 0., 0.]],\n",
       "\n",
       "       [[0., 0., ..., 0., 0.],\n",
       "        [0., 0., ..., 0., 0.],\n",
       "        ...,\n",
       "        [0., 0., ..., 0., 0.],\n",
       "        [0., 0., ..., 0., 0.]]])\n",
       "Coordinates:\n",
       "  * lat      (lat) float64 -90.0 -89.06 -88.12 -87.17 -86.23 -85.29 -84.35 ...\n",
       "  * lon      (lon) float64 0.0 1.25 2.5 3.75 5.0 6.25 7.5 8.75 10.0 11.25 ...\n",
       "    time     datetime64[ns] 2007-11-01\n",
       "Dimensions without coordinates: region"
      ]
     },
     "execution_count": 10,
     "metadata": {},
     "output_type": "execute_result"
    }
   ],
   "source": [
    "\n",
    "M = xr.full_like(ds.OCNFRAC,fill_value=0.)\n",
    "\n",
    "my_regions = OrderedDict([\n",
    "    ('1' , M.where((basin.Arctic==1.))),\n",
    "    ('2' , M.where((basin.lat>49.) & (basin.Atlantic == 1.))),\n",
    "    ('3' , M.where((35.<basin.lat) & (basin.lat<=49.) & (basin.Atlantic == 1.))),\n",
    "    ('4' , M.where((20.<basin.lat) & (basin.lat<=35.) & (basin.Atlantic == 1.))),\n",
    "    ('5' , M.where((0.<basin.lat) & (basin.lat<=20.) & (basin.Atlantic == 1.))),\n",
    "    ('6' , M.where((-20.<basin.lat) & (basin.lat<=0.) & (basin.Atlantic == 1.))),\n",
    "    ('7' , M.where((-35.<basin.lat) & (basin.lat<=-20.) & (basin.Atlantic == 1.))),\n",
    "    ('8' , M.where((-44.<basin.lat) & (basin.lat<=-35.) & (basin.Atlantic == 1.))),\n",
    "    ('9-25-30' , M.where((-58.<basin.lat) & (basin.lat<=-44.))),\n",
    "    ('10' , M.where((-90.<basin.lat) & (basin.lat<=-58.))),\n",
    "    ('11' , M.where((50.<basin.lat) & (basin.lat<=70.) & ~((basin.lon<0.) & (basin.lon>-170.)) & (basin.Pacific == 1.))),\n",
    "    ('12' , M.where((40.<basin.lat) & (basin.lat<=70.) & ((basin.lon<0.) & (basin.lon>-170.)) & (basin.Pacific == 1.))),\n",
    "    ('13-14-15' , M.where(((20.<basin.lat) & (basin.lat<=50.) & ~((basin.lon<0.) & (basin.lon>-170.)) & (basin.Pacific == 1.)) |\n",
    "                        ((20.<basin.lat) & (basin.lat<=40.) & ((basin.lon<0.) & (basin.lon>-170.)) & (basin.Pacific == 1.)))),\n",
    "    ('16' , M.where((0.<basin.lat) & (basin.lat<=20.) & ~((basin.lon<0.) & (basin.lon>-160.)) & (basin.Pacific == 1.))),\n",
    "    ('17' , M.where((0.<basin.lat) & (basin.lat<=20.) & ((basin.lon<0.) & (basin.lon>-160.)) & (basin.Pacific == 1.))),\n",
    "    ('18' , M.where((-20.<basin.lat) & (basin.lat<=0.) & ~((basin.lon<0.) & (basin.lon>-160.)) & (basin.Pacific == 1.))),\n",
    "    ('19' , M.where((-20.<basin.lat) & (basin.lat<=0.) & ((basin.lon<0.) & (basin.lon>-160.)) & (basin.Pacific == 1.))),\n",
    "    ('20-22' , M.where(((-30.<basin.lat) & (basin.lat<=-20.) & ~((basin.lon<0.) & (basin.lon>-130.)) & (basin.Pacific == 1.)) |\n",
    "                      ((-44.<basin.lat) & (basin.lat<=-30.) & ~((basin.lon<0.) & (basin.lon>-112.)) & (basin.Pacific == 1.)))),\n",
    "    ('21-23-24' , M.where(((-30.<basin.lat) & (basin.lat<=-20.) & ((basin.lon<0.) & (basin.lon>-130.)) & (basin.Pacific == 1.)) |\n",
    "                         ((-44.<basin.lat) & (basin.lat<=-30.) & ((basin.lon<0.) & (basin.lon>-112.)) & (basin.Pacific == 1.)))),\n",
    "    ('26-27' , M.where((-20.<basin.lat) & (basin.lat<=50.) & (basin.Indian == 1.))),\n",
    "    ('28-29' , M.where((-44.<basin.lat) & (basin.lat<=-20.) & (basin.Indian == 1.)))])\n",
    "\n",
    "nregion = len(my_regions)\n",
    "print('Number of regions: %d'%nregion)\n",
    "rmask = xr.DataArray(np.zeros((nregion,len(ds.lat),len(ds.lon))),dims=('region','lat','lon'),\n",
    "                     coords=ds.coords)\n",
    "\n",
    "for i,mask_logic in enumerate(my_regions.values()):\n",
    "    rmask.values[i,:,:] = mask_logic.fillna(0.)\n",
    "rmask"
   ]
  },
  {
   "cell_type": "code",
   "execution_count": null,
   "metadata": {},
   "outputs": [],
   "source": []
  }
 ],
 "metadata": {
  "kernelspec": {
   "display_name": "Python 2",
   "language": "python",
   "name": "python2"
  },
  "language_info": {
   "codemirror_mode": {
    "name": "ipython",
    "version": 2
   },
   "file_extension": ".py",
   "mimetype": "text/x-python",
   "name": "python",
   "nbconvert_exporter": "python",
   "pygments_lexer": "ipython2",
   "version": "2.7.14"
  }
 },
 "nbformat": 4,
 "nbformat_minor": 2
}
