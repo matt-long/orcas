{
 "cells": [
  {
   "cell_type": "code",
   "execution_count": 1,
   "metadata": {},
   "outputs": [],
   "source": [
    "%matplotlib inline\n",
    "from config_calc import *\n",
    "import grid_tools\n",
    "\n",
    "from collections import OrderedDict\n",
    "\n",
    "import cesm_orcas_sci as cesm\n",
    "import cam\n",
    "import metpy.calc as mcalc\n",
    "\n",
    "import matplotlib.pyplot as plt"
   ]
  },
  {
   "cell_type": "markdown",
   "metadata": {},
   "source": [
    "### read model data set"
   ]
  },
  {
   "cell_type": "code",
   "execution_count": 2,
   "metadata": {},
   "outputs": [
    {
     "data": {
      "text/plain": [
       "<xarray.DataArray 'time' (time: 3347)>\n",
       "array(['2007-01-01T00:00:00.000000000', '2007-01-02T00:00:00.000000000',\n",
       "       '2007-01-03T00:00:00.000000000', ..., '2016-02-27T00:00:00.000000000',\n",
       "       '2016-02-28T00:00:00.000000000', '2016-02-29T00:00:00.000000000'], dtype='datetime64[ns]')\n",
       "Coordinates:\n",
       "  * time     (time) datetime64[ns] 2007-01-01 2007-01-02 2007-01-03 ...\n",
       "Attributes:\n",
       "    long_name:  time\n",
       "    bounds:     time_bnds"
      ]
     },
     "execution_count": 2,
     "metadata": {},
     "output_type": "execute_result"
    }
   ],
   "source": [
    "case = 'bgeos5.B20TRC5CN.f09_g16.BPRD_orcas_sci.004a'\n",
    "\n",
    "tracer_def = cesm.trace_gas_tracers(case)\n",
    "tracer_3d = [k for k in tracer_def]\n",
    "varlist = ['Z3','Q','PS','PBLH','T','U','V','U10','PSL','OMEGA']+tracer_3d\n",
    "\n",
    "dsa = cesm.open_casedata(case,'atm','cam.h0',varlist)\n",
    "dsa.time"
   ]
  },
  {
   "cell_type": "markdown",
   "metadata": {},
   "source": [
    "### read flight data\n",
    "Find the right day in the model data and subset; store a list of obs datasets "
   ]
  },
  {
   "cell_type": "code",
   "execution_count": 37,
   "metadata": {},
   "outputs": [],
   "source": [
    "RF = []\n",
    "MDL = []\n",
    "co2varname = []\n",
    "flight_file = ['HIPPO_all_missions_merge_10s_20121129_CO2X.nc','ATom123_2018-01-20_CO2_NOAA.nc']\n",
    "for f in flight_file:\n",
    "    rf = xr.open_dataset(os.path.join('data',f))\n",
    "    \n",
    "    #-- handle some peculiarities\n",
    "    co2var = [v for v in rf.variables if 'CO2' in v][0]\n",
    "    co2 = rf[co2var]\n",
    "    rf = rf.drop(co2var).rename({co2var:'sample'})\n",
    "    co2varname.append(co2var)\n",
    "    rf['sample'] = xr.DataArray(np.arange(0,len(rf.sample)),dims='sample')\n",
    "    rf['time'] = xr.DataArray([datetime(d[0],d[1],d[2],d[3],d[4],d[5]) for d in rf.Datetime.values],dims='sample')\n",
    "    rf[co2var] = xr.DataArray(co2.values,dims='sample')\n",
    "    RF.append(rf)\n",
    "    \n",
    "    MDL.append(dsa.sel(time=rf.time[0].astype('M8[D]'),method='nearest'))\n",
    "dss = xr.concat(MDL,dim='time')"
   ]
  },
  {
   "cell_type": "code",
   "execution_count": 38,
   "metadata": {},
   "outputs": [
    {
     "data": {
      "text/plain": [
       "<xarray.Dataset>\n",
       "Dimensions:    (datedim: 6, sample: 130016)\n",
       "Coordinates:\n",
       "  * sample     (sample) int64 0 1 2 3 4 5 6 7 8 9 10 11 12 13 14 15 16 17 18 ...\n",
       "Dimensions without coordinates: datedim\n",
       "Data variables:\n",
       "    Datetime   (sample, datedim) int32 2009 1 9 20 28 40 2009 1 9 20 28 50 ...\n",
       "    Latitude   (sample) float64 ...\n",
       "    Longitude  (sample) float64 ...\n",
       "    Altitude   (sample) float64 ...\n",
       "    Pressure   (sample) float64 ...\n",
       "    time       (sample) datetime64[ns] 2009-01-09T20:28:40 ...\n",
       "    CO2X       (sample) float64 389.4 389.3 389.1 389.0 389.0 389.0 388.8 ...\n",
       "Attributes:\n",
       "    history:  Tue Mar 13 16:56:34 2018: ncrename -d Datetime,datedim HIPPO_al..."
      ]
     },
     "execution_count": 38,
     "metadata": {},
     "output_type": "execute_result"
    }
   ],
   "source": [
    "RF[0]"
   ]
  },
  {
   "cell_type": "markdown",
   "metadata": {},
   "source": [
    "### compute pressure from hybrid levels"
   ]
  },
  {
   "cell_type": "code",
   "execution_count": 4,
   "metadata": {},
   "outputs": [
    {
     "name": "stdout",
     "output_type": "stream",
     "text": [
      "CPU times: user 649 ms, sys: 4 ms, total: 653 ms\n",
      "Wall time: 732 ms\n"
     ]
    }
   ],
   "source": [
    "%%time\n",
    "dss = cam.pres_hybrid(dss,layer_center=True)\n",
    "varlist = varlist+['Pm']"
   ]
  },
  {
   "cell_type": "code",
   "execution_count": 5,
   "metadata": {},
   "outputs": [
    {
     "data": {
      "text/plain": [
       "<xarray.Dataset>\n",
       "Dimensions:    (ilev: 57, lat: 192, lev: 56, lon: 288, nbnd: 2, slat: 191, slon: 288, time: 18)\n",
       "Coordinates:\n",
       "  * ilev       (ilev) float64 1.651 2.085 2.62 3.276 4.077 5.047 6.217 7.62 ...\n",
       "  * lat        (lat) float64 -90.0 -89.06 -88.12 -87.17 -86.23 -85.29 -84.35 ...\n",
       "  * lev        (lev) float64 1.868 2.353 2.948 3.677 4.562 5.632 6.918 8.456 ...\n",
       "  * lon        (lon) float64 0.0 1.25 2.5 3.75 5.0 6.25 7.5 8.75 10.0 11.25 ...\n",
       "  * slat       (slat) float64 -89.53 -88.59 -87.64 -86.7 -85.76 -84.82 ...\n",
       "  * slon       (slon) float64 -0.625 0.625 1.875 3.125 4.375 5.625 6.875 ...\n",
       "  * time       (time) datetime64[ns] 2016-01-15 2016-01-18 2016-01-21 ...\n",
       "Dimensions without coordinates: nbnd\n",
       "Data variables:\n",
       "    P0         (time) float64 1e+05 1e+05 1e+05 1e+05 1e+05 1e+05 1e+05 ...\n",
       "    PS         (time, lat, lon) float32 689.061 689.061 689.061 689.061 ...\n",
       "    Z3         (time, lev, lat, lon) float32 44901.1 44901.1 44901.1 44901.1 ...\n",
       "    ch4vmr     (time) float64 1.846e-06 1.846e-06 1.847e-06 1.847e-06 ...\n",
       "    co2vmr     (time) float64 0.0004031 0.0004031 0.0004031 0.0004031 ...\n",
       "    f11vmr     (time) float64 8.077e-10 8.077e-10 8.078e-10 8.079e-10 ...\n",
       "    f12vmr     (time) float64 5.027e-10 5.026e-10 5.026e-10 5.026e-10 ...\n",
       "    gw         (time, lat) float64 3.382e-05 0.0002705 0.000541 0.0008113 ...\n",
       "    hyai       (time, ilev) float64 0.001651 0.002085 0.00262 0.003276 ...\n",
       "    hyam       (time, lev) float64 0.001868 0.002353 0.002948 0.003677 ...\n",
       "    hybi       (time, ilev) float64 0.0 0.0 0.0 0.0 0.0 0.0 0.0 0.0 0.0 0.0 ...\n",
       "    hybm       (time, lev) float64 0.0 0.0 0.0 0.0 0.0 0.0 0.0 0.0 0.0 0.0 ...\n",
       "    n2ovmr     (time) float64 3.275e-07 3.275e-07 3.275e-07 3.275e-07 ...\n",
       "    nbdate     (time) int32 20070101 20070101 20070101 20070101 20070101 ...\n",
       "    ndbase     (time) int32 0 0 0 0 0 0 0 0 0 0 0 0 0 0 0 0 0 0\n",
       "    ndcur      (time) int32 3301 3304 3307 3309 3311 3311 3316 3322 3325 ...\n",
       "    nlon       (time, lat) int32 288 288 288 288 288 288 288 288 288 288 288 ...\n",
       "    nscur      (time) int32 0 0 0 0 0 0 0 0 0 0 0 0 0 0 0 0 0 0\n",
       "    sol_tsi    (time) float64 -1.0 -1.0 -1.0 -1.0 -1.0 -1.0 -1.0 -1.0 -1.0 ...\n",
       "    time_bnds  (time, nbnd) float64 3.3e+03 3.301e+03 3.303e+03 3.304e+03 ...\n",
       "    w_stag     (time, slat) float64 0.0001353 0.0004058 0.0006762 0.0009464 ...\n",
       "    wnummax    (time, lat) int32 1 1 1 1 1 1 1 1 1 1 1 1 1 1 1 1 1 1 1 1 1 1 ...\n",
       "    Q          (time, lev, lat, lon) float32 3.53811e-06 3.53811e-06 ...\n",
       "    PBLH       (time, lat, lon) float32 73.6599 67.2589 72.534 71.3951 ...\n",
       "    T          (time, lev, lat, lon) float32 282.054 282.054 282.054 282.054 ...\n",
       "    U          (time, lev, lat, lon) float32 1.03269 1.01953 1.00588 ...\n",
       "    V          (time, lev, lat, lon) float32 0.592059 0.614446 0.636541 ...\n",
       "    U10        (time, lat, lon) float32 3.24113 2.93745 3.23822 3.08022 ...\n",
       "    PSL        (time, lat, lon) float32 99893.3 99893.3 99893.3 99893.3 ...\n",
       "    OMEGA      (time, lev, lat, lon) float32 1.56171e-05 1.56171e-05 ...\n",
       "    O2_OCN     (time, lev, lat, lon) float32 0.000109017 0.000109017 ...\n",
       "    CO2_CROF   (time, lev, lat, lon) float32 0.0003829 0.0003829 0.0003829 ...\n",
       "    CO2_LND    (time, lev, lat, lon) float32 0.000549018 0.000549018 ...\n",
       "    CO2_T09    (time, lev, lat, lon) float32 0.000355214 0.000355214 ...\n",
       "    CO2_T09a   (time, lev, lat, lon) float32 0.000355303 0.000355303 ...\n",
       "    CO2_T09b   (time, lev, lat, lon) float32 0.000355326 0.000355326 ...\n",
       "    CO2_T09c   (time, lev, lat, lon) float32 0.000355259 0.000355259 ...\n",
       "    CO2_T09d   (time, lev, lat, lon) float32 0.00035527 0.00035527 ...\n",
       "    CO2_T09e   (time, lev, lat, lon) float32 0.00035517 0.00035517 ...\n",
       "    CO2_T09f   (time, lev, lat, lon) float32 0.000355159 0.000355159 ...\n",
       "    CO2_T09g   (time, lev, lat, lon) float32 0.000355125 0.000355125 ...\n",
       "    CO2_T09h   (time, lev, lat, lon) float32 0.000355103 0.000355103 ...\n",
       "    CO2_T09i   (time, lev, lat, lon) float32 0.000355081 0.000355081 ...\n",
       "    CO2_T09j   (time, lev, lat, lon) float32 0.000355047 0.000355047 ...\n",
       "    CO2_T09k   (time, lev, lat, lon) float32 0.000354947 0.000354947 ...\n",
       "    CO2_T09l   (time, lev, lat, lon) float32 0.00035488 0.00035488 ...\n",
       "    CO2_OCN    (time, lev, lat, lon) float32 0.000542286 0.000542286 ...\n",
       "    CO2_CROT   (time, lev, lat, lon) float32 0.000370956 0.000370956 ...\n",
       "    CO2_L14C   (time, lev, lat, lon) float32 0.000355141 0.000355141 ...\n",
       "    CO2_CRPO   (time, lev, lat, lon) float32 0.000352581 0.000352581 ...\n",
       "    CO2_CROL   (time, lev, lat, lon) float32 0.000353519 0.000353519 ...\n",
       "    CO2_CROO   (time, lev, lat, lon) float32 0.000352581 0.000352581 ...\n",
       "    aO2_GKA    (time, lev, lat, lon) float32 0.000363059 0.000363059 ...\n",
       "    O2_GKA     (time, lev, lat, lon) float32 0.000379433 0.000379433 ...\n",
       "    CO2_C15T   (time, lev, lat, lon) float32 0.000370584 0.000370584 ...\n",
       "    CO2        (time, lev, lat, lon) float32 0.000578256 0.000578256 ...\n",
       "    CO2_FFF    (time, lev, lat, lon) float32 0.000580855 0.000580855 ...\n",
       "    IDL_T000   (time, lev, lat, lon) float32 5.46885e-06 5.46885e-06 ...\n",
       "    IDL_T001   (time, lev, lat, lon) float32 1.2192e-06 1.2192e-06 ...\n",
       "    IDL_T002   (time, lev, lat, lon) float32 1.22289e-10 1.22289e-10 ...\n",
       "    IDL_T003   (time, lev, lat, lon) float32 3.88365e-06 3.88365e-06 ...\n",
       "    IDL_T004   (time, lev, lat, lon) float32 1.44156e-08 1.44156e-08 ...\n",
       "    IDL_T005   (time, lev, lat, lon) float32 7.79288e-11 7.79288e-11 ...\n",
       "    IDL_T006   (time, lev, lat, lon) float32 5.2638e-13 5.2638e-13 ...\n",
       "    IDL_S005   (time, lev, lat, lon) float32 1.56035e-11 1.56035e-11 ...\n",
       "    IDL_S004   (time, lev, lat, lon) float32 2.85611e-09 2.85611e-09 ...\n",
       "    CO2_C15F   (time, lev, lat, lon) float32 0.000382106 0.000382106 ...\n",
       "    IDL_S006   (time, lev, lat, lon) float32 9.96673e-14 9.96673e-14 ...\n",
       "    IDL_S001   (time, lev, lat, lon) float32 2.31305e-07 2.31305e-07 ...\n",
       "    IDL_S003   (time, lev, lat, lon) float32 7.40063e-07 7.40063e-07 ...\n",
       "    IDL_S002   (time, lev, lat, lon) float32 2.65623e-15 2.65623e-15 ...\n",
       "    CO2_C15L   (time, lev, lat, lon) float32 0.000353574 0.000353574 ...\n",
       "    CO2_C15O   (time, lev, lat, lon) float32 0.000352957 0.000352957 ...\n",
       "    Pm         (time, lev, lat, lon) float64 1.868 1.868 1.868 1.868 1.868 ...\n",
       "    theta      (time, lev, lat, lon) float64 1.701e+03 1.701e+03 1.701e+03 ..."
      ]
     },
     "execution_count": 5,
     "metadata": {},
     "output_type": "execute_result"
    }
   ],
   "source": [
    "\n",
    "dss['theta'] = cam.potential_temperature(pressure=dss.Pm,\n",
    "                                        temperature=dss['T'])\n",
    "varlist = varlist+['theta']\n",
    "dss"
   ]
  },
  {
   "cell_type": "markdown",
   "metadata": {},
   "source": [
    "### convert units of tracer consituents"
   ]
  },
  {
   "cell_type": "code",
   "execution_count": 6,
   "metadata": {},
   "outputs": [
    {
     "name": "stdout",
     "output_type": "stream",
     "text": [
      "<xarray.Dataset>\n",
      "Dimensions:    (ilev: 57, lat: 192, lev: 56, lon: 288, nbnd: 2, slat: 191, slon: 288, time: 18)\n",
      "Coordinates:\n",
      "  * ilev       (ilev) float64 1.651 2.085 2.62 3.276 4.077 5.047 6.217 7.62 ...\n",
      "  * lat        (lat) float64 -90.0 -89.06 -88.12 -87.17 -86.23 -85.29 -84.35 ...\n",
      "  * lev        (lev) float64 1.868 2.353 2.948 3.677 4.562 5.632 6.918 8.456 ...\n",
      "  * lon        (lon) float64 0.0 1.25 2.5 3.75 5.0 6.25 7.5 8.75 10.0 11.25 ...\n",
      "  * slat       (slat) float64 -89.53 -88.59 -87.64 -86.7 -85.76 -84.82 ...\n",
      "  * slon       (slon) float64 -0.625 0.625 1.875 3.125 4.375 5.625 6.875 ...\n",
      "  * time       (time) datetime64[ns] 2016-01-15 2016-01-18 2016-01-21 ...\n",
      "Dimensions without coordinates: nbnd\n",
      "Data variables:\n",
      "    P0         (time) float64 1e+05 1e+05 1e+05 1e+05 1e+05 1e+05 1e+05 ...\n",
      "    PS         (time, lat, lon) float32 689.061 689.061 689.061 689.061 ...\n",
      "    Z3         (time, lev, lat, lon) float32 44901.1 44901.1 44901.1 44901.1 ...\n",
      "    ch4vmr     (time) float64 1.846e-06 1.846e-06 1.847e-06 1.847e-06 ...\n",
      "    co2vmr     (time) float64 0.0004031 0.0004031 0.0004031 0.0004031 ...\n",
      "    f11vmr     (time) float64 8.077e-10 8.077e-10 8.078e-10 8.079e-10 ...\n",
      "    f12vmr     (time) float64 5.027e-10 5.026e-10 5.026e-10 5.026e-10 ...\n",
      "    gw         (time, lat) float64 3.382e-05 0.0002705 0.000541 0.0008113 ...\n",
      "    hyai       (time, ilev) float64 0.001651 0.002085 0.00262 0.003276 ...\n",
      "    hyam       (time, lev) float64 0.001868 0.002353 0.002948 0.003677 ...\n",
      "    hybi       (time, ilev) float64 0.0 0.0 0.0 0.0 0.0 0.0 0.0 0.0 0.0 0.0 ...\n",
      "    hybm       (time, lev) float64 0.0 0.0 0.0 0.0 0.0 0.0 0.0 0.0 0.0 0.0 ...\n",
      "    n2ovmr     (time) float64 3.275e-07 3.275e-07 3.275e-07 3.275e-07 ...\n",
      "    nbdate     (time) int32 20070101 20070101 20070101 20070101 20070101 ...\n",
      "    ndbase     (time) int32 0 0 0 0 0 0 0 0 0 0 0 0 0 0 0 0 0 0\n",
      "    ndcur      (time) int32 3301 3304 3307 3309 3311 3311 3316 3322 3325 ...\n",
      "    nlon       (time, lat) int32 288 288 288 288 288 288 288 288 288 288 288 ...\n",
      "    nscur      (time) int32 0 0 0 0 0 0 0 0 0 0 0 0 0 0 0 0 0 0\n",
      "    sol_tsi    (time) float64 -1.0 -1.0 -1.0 -1.0 -1.0 -1.0 -1.0 -1.0 -1.0 ...\n",
      "    time_bnds  (time, nbnd) float64 3.3e+03 3.301e+03 3.303e+03 3.304e+03 ...\n",
      "    w_stag     (time, slat) float64 0.0001353 0.0004058 0.0006762 0.0009464 ...\n",
      "    wnummax    (time, lat) int32 1 1 1 1 1 1 1 1 1 1 1 1 1 1 1 1 1 1 1 1 1 1 ...\n",
      "    Q          (time, lev, lat, lon) float32 3.53811e-06 3.53811e-06 ...\n",
      "    PBLH       (time, lat, lon) float32 73.6599 67.2589 72.534 71.3951 ...\n",
      "    T          (time, lev, lat, lon) float32 282.054 282.054 282.054 282.054 ...\n",
      "    U          (time, lev, lat, lon) float32 1.03269 1.01953 1.00588 ...\n",
      "    V          (time, lev, lat, lon) float32 0.592059 0.614446 0.636541 ...\n",
      "    U10        (time, lat, lon) float32 3.24113 2.93745 3.23822 3.08022 ...\n",
      "    PSL        (time, lat, lon) float32 99893.3 99893.3 99893.3 99893.3 ...\n",
      "    OMEGA      (time, lev, lat, lon) float32 1.56171e-05 1.56171e-05 ...\n",
      "    O2_OCN     (time, lev, lat, lon) float32 38.9593 38.9593 38.9593 38.9593 ...\n",
      "    CO2_CROF   (time, lev, lat, lon) float32 22.8998 22.8998 22.8998 22.8998 ...\n",
      "    CO2_LND    (time, lev, lat, lon) float32 1.42835 1.42835 1.42835 1.42835 ...\n",
      "    CO2_T09    (time, lev, lat, lon) float32 -4.78566 -4.78566 -4.78566 ...\n",
      "    CO2_T09a   (time, lev, lat, lon) float32 -4.69669 -4.69669 -4.69669 ...\n",
      "    CO2_T09b   (time, lev, lat, lon) float32 -4.67422 -4.67422 -4.67422 ...\n",
      "    CO2_T09c   (time, lev, lat, lon) float32 -4.74116 -4.74116 -4.74116 ...\n",
      "    CO2_T09d   (time, lev, lat, lon) float32 -4.72993 -4.72993 -4.72993 ...\n",
      "    CO2_T09e   (time, lev, lat, lon) float32 -4.83016 -4.83016 -4.83016 ...\n",
      "    CO2_T09f   (time, lev, lat, lon) float32 -4.84139 -4.84139 -4.84139 ...\n",
      "    CO2_T09g   (time, lev, lat, lon) float32 -4.87466 -4.87466 -4.87466 ...\n",
      "    CO2_T09h   (time, lev, lat, lon) float32 -4.89713 -4.89713 -4.89713 ...\n",
      "    CO2_T09i   (time, lev, lat, lon) float32 -4.91916 -4.91916 -4.91916 ...\n",
      "    CO2_T09j   (time, lev, lat, lon) float32 -4.95289 -4.95289 -4.95289 ...\n",
      "    CO2_T09k   (time, lev, lat, lon) float32 -5.05277 -5.05277 -5.05277 ...\n",
      "    CO2_T09l   (time, lev, lat, lon) float32 -5.12027 -5.12027 -5.12027 ...\n",
      "    CO2_OCN    (time, lev, lat, lon) float32 -3.00303 -3.00303 -3.00303 ...\n",
      "    CO2_CROT   (time, lev, lat, lon) float32 10.9563 10.9563 10.9563 10.9563 ...\n",
      "    CO2_L14C   (time, lev, lat, lon) float32 -4.85897 -4.85897 -4.85897 ...\n",
      "    CO2_CRPO   (time, lev, lat, lon) float32 -7.4186 -7.4186 -7.4186 -7.4186 ...\n",
      "    CO2_CROL   (time, lev, lat, lon) float32 -6.4811 -6.4811 -6.4811 -6.4811 ...\n",
      "    CO2_CROO   (time, lev, lat, lon) float32 -7.4186 -7.4186 -7.4186 -7.4186 ...\n",
      "    aO2_GKA    (time, lev, lat, lon) float32 14.6008 14.6008 14.6008 14.6008 ...\n",
      "    O2_GKA     (time, lev, lat, lon) float32 92.7581 92.7581 92.7581 92.7581 ...\n",
      "    CO2_C15T   (time, lev, lat, lon) float32 10.5842 10.5842 10.5842 10.5842 ...\n",
      "    CO2        (time, lev, lat, lon) float32 380.676 380.676 380.676 380.676 ...\n",
      "    CO2_FFF    (time, lev, lat, lon) float32 22.3872 22.3872 22.3872 22.3872 ...\n",
      "    IDL_T000   (time, lev, lat, lon) float32 5.46885 5.46885 5.46885 5.46885 ...\n",
      "    IDL_T001   (time, lev, lat, lon) float32 1.2192 1.2192 1.2192 1.2192 ...\n",
      "    IDL_T002   (time, lev, lat, lon) float32 0.000122289 0.000122289 ...\n",
      "    IDL_T003   (time, lev, lat, lon) float32 3.88365 3.88365 3.88365 3.88365 ...\n",
      "    IDL_T004   (time, lev, lat, lon) float32 0.0144156 0.0144156 0.0144156 ...\n",
      "    IDL_T005   (time, lev, lat, lon) float32 7.79288e-05 7.79288e-05 ...\n",
      "    IDL_T006   (time, lev, lat, lon) float32 5.2638e-07 5.2638e-07 ...\n",
      "    IDL_S005   (time, lev, lat, lon) float32 1.56035e-05 1.56035e-05 ...\n",
      "    IDL_S004   (time, lev, lat, lon) float32 0.00285611 0.00285611 ...\n",
      "    CO2_C15F   (time, lev, lat, lon) float32 22.106 22.106 22.106 22.106 ...\n",
      "    IDL_S006   (time, lev, lat, lon) float32 9.96673e-08 9.96673e-08 ...\n",
      "    IDL_S001   (time, lev, lat, lon) float32 0.231305 0.231305 0.231305 ...\n",
      "    IDL_S003   (time, lev, lat, lon) float32 0.740063 0.740063 0.740063 ...\n",
      "    IDL_S002   (time, lev, lat, lon) float32 2.65623e-09 2.65623e-09 ...\n",
      "    CO2_C15L   (time, lev, lat, lon) float32 -6.4256 -6.4256 -6.4256 -6.4256 ...\n",
      "    CO2_C15O   (time, lev, lat, lon) float32 -7.04284 -7.04284 -7.04284 ...\n",
      "    Pm         (time, lev, lat, lon) float64 1.868 1.868 1.868 1.868 1.868 ...\n",
      "    theta      (time, lev, lat, lon) float64 1.701e+03 1.701e+03 1.701e+03 ...\n"
     ]
    }
   ],
   "source": [
    "ds = cesm.convert_dataset(dss,case)\n",
    "ds = ds.compute()\n",
    "print ds"
   ]
  },
  {
   "cell_type": "markdown",
   "metadata": {},
   "source": [
    "### interpolate in xy to get a collection of model columns"
   ]
  },
  {
   "cell_type": "code",
   "execution_count": 7,
   "metadata": {},
   "outputs": [
    {
     "name": "stdout",
     "output_type": "stream",
     "text": [
      "<xarray.Dataset>\n",
      "Dimensions:   (lev: 56, time: 2723)\n",
      "Coordinates:\n",
      "  * time      (time) datetime64[ns] 2016-01-15T12:57:26.000000043 ...\n",
      "Dimensions without coordinates: lev\n",
      "Data variables:\n",
      "    O2_OCN    (time, lev) float64 39.01 39.35 40.18 40.65 40.68 41.16 41.93 ...\n",
      "    CO2_T09k  (time, lev) float64 -5.06 -5.1 -5.206 -5.272 -5.277 -5.338 ...\n",
      "    aO2_GKA   (time, lev) float64 14.63 14.79 15.2 15.45 15.47 15.71 16.08 ...\n",
      "    CO2_C15O  (time, lev) float64 -7.053 -7.112 -7.265 -7.361 -7.369 -7.457 ...\n",
      "    CO2_LND   (time, lev) float64 1.43 1.446 1.466 1.474 1.473 1.488 1.513 ...\n",
      "    U10       (time) float64 2.66 2.656 2.651 2.645 2.641 2.639 2.638 2.639 ...\n",
      "    CO2_T09   (time, lev) float64 -4.792 -4.83 -4.929 -4.991 -4.995 -5.052 ...\n",
      "    PS        (time) float64 990.8 990.8 990.8 990.7 990.7 990.7 990.7 990.7 ...\n",
      "    CO2_T09b  (time, lev) float64 -4.681 -4.718 -4.814 -4.874 -4.879 -4.934 ...\n",
      "    CO2_T09c  (time, lev) float64 -4.748 -4.785 -4.883 -4.944 -4.949 -5.005 ...\n",
      "    CO2_T09d  (time, lev) float64 -4.736 -4.774 -4.871 -4.932 -4.937 -4.993 ...\n",
      "    CO2_T09e  (time, lev) float64 -4.837 -4.875 -4.975 -5.037 -5.042 -5.1 ...\n",
      "    CO2_T09f  (time, lev) float64 -4.848 -4.886 -4.986 -5.049 -5.054 -5.112 ...\n",
      "    CO2_T09g  (time, lev) float64 -4.881 -4.92 -5.021 -5.084 -5.089 -5.148 ...\n",
      "    CO2_T09h  (time, lev) float64 -4.904 -4.943 -5.044 -5.107 -5.112 -5.171 ...\n",
      "    CO2_T09i  (time, lev) float64 -4.926 -4.965 -5.067 -5.131 -5.136 -5.195 ...\n",
      "    CO2_T09j  (time, lev) float64 -4.96 -4.999 -5.102 -5.166 -5.171 -5.23 ...\n",
      "    CO2_CROF  (time, lev) float64 22.94 23.18 23.8 24.2 24.23 24.59 25.16 ...\n",
      "    CO2_T09l  (time, lev) float64 -5.127 -5.168 -5.275 -5.341 -5.346 -5.408 ...\n",
      "    CO2_OCN   (time, lev) float64 -3.013 -3.063 -3.198 -3.286 -3.294 -3.371 ...\n",
      "    CO2_CROT  (time, lev) float64 10.98 11.09 11.4 11.59 11.61 11.78 12.05 ...\n",
      "    Pm        (time, lev) float64 1.868 2.353 2.948 3.677 4.562 5.632 6.918 ...\n",
      "    OMEGA     (time, lev) float64 -2.283e-05 -5.203e-05 -6.693e-05 ...\n",
      "    CO2_L14C  (time, lev) float64 -4.865 -4.904 -5.004 -5.067 -5.072 -5.13 ...\n",
      "    Z3        (time, lev) float64 4.403e+04 4.221e+04 4.046e+04 3.877e+04 ...\n",
      "    PBLH      (time) float64 700.9 699.2 696.9 694.5 692.5 691.0 690.3 690.6 ...\n",
      "    CO2_T09a  (time, lev) float64 -4.703 -4.74 -4.837 -4.897 -4.902 -4.957 ...\n",
      "    CO2_CROO  (time, lev) float64 -7.429 -7.491 -7.653 -7.754 -7.762 -7.856 ...\n",
      "    Q         (time, lev) float64 3.539e-06 3.536e-06 3.53e-06 3.528e-06 ...\n",
      "    U         (time, lev) float64 -26.6 -25.92 -24.6 -22.74 -21.19 -19.61 ...\n",
      "    T         (time, lev) float64 270.0 266.9 264.1 259.1 253.8 249.6 246.6 ...\n",
      "    V         (time, lev) float64 0.2943 0.5438 0.8488 0.6561 0.3653 0.2369 ...\n",
      "    O2_GKA    (time, lev) float64 92.91 93.78 96.06 97.49 97.6 98.9 101.0 ...\n",
      "    CO2_C15T  (time, lev) float64 10.6 10.71 10.97 11.14 11.15 11.3 11.54 ...\n",
      "    CO2_CROL  (time, lev) float64 -6.489 -6.549 -6.708 -6.816 -6.826 -6.923 ...\n",
      "    CO2       (time, lev) float64 380.7 380.9 381.4 381.7 381.8 382.1 382.5 ...\n",
      "    CO2_FFF   (time, lev) float64 22.43 22.66 23.28 23.67 23.71 24.06 24.62 ...\n",
      "    PSL       (time) float64 1.01e+05 1.01e+05 1.01e+05 1.01e+05 1.01e+05 ...\n",
      "    IDL_T000  (time, lev) float64 5.46 5.407 5.268 5.179 5.172 5.092 4.964 ...\n",
      "    IDL_T001  (time, lev) float64 1.217 1.205 1.174 1.153 1.152 1.134 1.105 ...\n",
      "    IDL_T002  (time, lev) float64 0.0001221 0.0001194 0.0001135 0.0001103 ...\n",
      "    IDL_T003  (time, lev) float64 3.877 3.845 3.758 3.701 3.695 3.645 3.566 ...\n",
      "    IDL_T004  (time, lev) float64 0.01438 0.01425 0.01391 0.01366 0.01364 ...\n",
      "    IDL_T005  (time, lev) float64 7.781e-05 7.737e-05 7.622e-05 7.545e-05 ...\n",
      "    IDL_T006  (time, lev) float64 5.255e-07 5.216e-07 5.118e-07 5.057e-07 ...\n",
      "    IDL_S005  (time, lev) float64 1.56e-05 1.568e-05 1.591e-05 1.609e-05 ...\n",
      "    IDL_S004  (time, lev) float64 0.002851 0.002846 0.002843 0.00284 ...\n",
      "    CO2_C15F  (time, lev) float64 22.14 22.36 22.91 23.27 23.3 23.63 24.14 ...\n",
      "    IDL_S006  (time, lev) float64 9.964e-08 9.997e-08 1.01e-07 1.019e-07 ...\n",
      "    IDL_S001  (time, lev) float64 0.2313 0.2311 0.2305 0.2299 0.2299 0.2295 ...\n",
      "    IDL_S003  (time, lev) float64 0.7402 0.7414 0.7443 0.746 0.7461 0.7479 ...\n",
      "    IDL_S002  (time, lev) float64 2.656e-09 2.661e-09 2.683e-09 2.709e-09 ...\n",
      "    CO2_C15L  (time, lev) float64 -6.433 -6.488 -6.631 -6.728 -6.737 -6.825 ...\n",
      "    CO2_CRPO  (time, lev) float64 -7.429 -7.491 -7.653 -7.754 -7.762 -7.856 ...\n",
      "    theta     (time, lev) float64 1.629e+03 1.507e+03 1.398e+03 1.288e+03 ...\n",
      "CPU times: user 27.6 s, sys: 53 ms, total: 27.7 s\n",
      "Wall time: 30 s\n"
     ]
    }
   ],
   "source": [
    "%%time\n",
    "model_colums = []\n",
    "for i,rf in enumerate(RF):\n",
    "    var = [ds[v].isel(time=i) for v in varlist]\n",
    "    model_colums.append(cam.interp_columns_esmf(rf.Longitude,rf.Latitude,ds.lon,ds.lat,*var))\n",
    "print model_colums[0]"
   ]
  },
  {
   "cell_type": "markdown",
   "metadata": {},
   "source": [
    "### interpolate within the column to get point of measurement"
   ]
  },
  {
   "cell_type": "code",
   "execution_count": 8,
   "metadata": {},
   "outputs": [
    {
     "name": "stdout",
     "output_type": "stream",
     "text": [
      "<xarray.Dataset>\n",
      "Dimensions:   (time: 2723)\n",
      "Coordinates:\n",
      "  * time      (time) datetime64[ns] 2016-01-15T12:57:26.000000043 ...\n",
      "Data variables:\n",
      "    O2_OCN    (time) float64 93.15 93.16 93.23 93.27 93.28 92.99 91.75 90.59 ...\n",
      "    CO2_T09k  (time) float64 -10.39 -10.39 -10.38 -10.37 -10.37 -10.36 ...\n",
      "    aO2_GKA   (time) float64 47.59 47.6 47.66 47.72 47.76 47.73 47.23 46.44 ...\n",
      "    CO2_C15O  (time) float64 -14.25 -14.25 -14.25 -14.24 -14.24 -14.23 -14.2 ...\n",
      "    CO2_LND   (time) float64 1.442 1.435 1.373 1.271 1.23 1.218 1.215 1.306 ...\n",
      "    U10       (time) float64 2.66 2.656 2.651 2.645 2.641 2.639 2.638 2.639 ...\n",
      "    CO2_T09   (time) float64 -9.457 -9.457 -9.448 -9.44 -9.434 -9.426 -9.393 ...\n",
      "    PS        (time) float64 990.8 990.8 990.8 990.7 990.7 990.7 990.7 990.7 ...\n",
      "    CO2_T09b  (time) float64 -9.086 -9.085 -9.081 -9.077 -9.074 -9.07 -9.055 ...\n",
      "    CO2_T09c  (time) float64 -9.302 -9.301 -9.292 -9.284 -9.278 -9.271 ...\n",
      "    CO2_T09d  (time) float64 -9.272 -9.271 -9.264 -9.258 -9.254 -9.248 ...\n",
      "    CO2_T09e  (time) float64 -9.613 -9.612 -9.604 -9.596 -9.59 -9.582 -9.547 ...\n",
      "    CO2_T09f  (time) float64 -9.644 -9.643 -9.632 -9.622 -9.615 -9.604 ...\n",
      "    CO2_T09g  (time) float64 -9.769 -9.768 -9.759 -9.752 -9.746 -9.737 ...\n",
      "    CO2_T09h  (time) float64 -9.83 -9.829 -9.816 -9.804 -9.796 -9.783 -9.731 ...\n",
      "    CO2_T09i  (time) float64 -9.925 -9.924 -9.915 -9.908 -9.902 -9.892 ...\n",
      "    CO2_T09j  (time) float64 -10.02 -10.02 -10.0 -9.987 -9.977 -9.962 -9.901 ...\n",
      "    CO2_CROF  (time) float64 44.47 44.47 44.47 44.47 44.47 44.47 44.48 44.48 ...\n",
      "    CO2_T09l  (time) float64 -10.58 -10.58 -10.56 -10.53 -10.52 -10.5 -10.41 ...\n",
      "    CO2_OCN   (time) float64 -10.84 -10.84 -10.84 -10.84 -10.84 -10.83 ...\n",
      "    CO2_CROT  (time) float64 19.62 19.63 19.69 19.76 19.8 19.84 19.93 20.01 ...\n",
      "    Pm        (time) float64 983.3 981.7 969.0 957.2 941.4 923.2 907.6 891.8 ...\n",
      "    OMEGA     (time) float64 0.0365 0.03667 0.03955 0.04542 0.05585 0.07126 ...\n",
      "    CO2_L14C  (time) float64 -9.524 -9.525 -9.526 -9.526 -9.527 -9.522 ...\n",
      "    Z3        (time) float64 222.5 236.5 344.2 444.7 581.1 740.4 879.3 ...\n",
      "    PBLH      (time) float64 700.9 699.2 696.9 694.5 692.5 691.0 690.3 690.6 ...\n",
      "    CO2_T09a  (time) float64 -9.146 -9.145 -9.136 -9.128 -9.122 -9.115 ...\n",
      "    CO2_CROO  (time) float64 -14.83 -14.83 -14.83 -14.83 -14.83 -14.82 ...\n",
      "    Q         (time) float64 0.004176 0.004176 0.004157 0.00414 0.004116 ...\n",
      "    U         (time) float64 3.391 3.502 4.373 4.831 5.217 5.535 5.883 6.122 ...\n",
      "    T         (time) float64 282.2 282.0 280.9 280.0 278.6 277.1 276.2 275.4 ...\n",
      "    V         (time) float64 3.091 3.228 4.301 4.877 5.213 5.461 5.809 6.318 ...\n",
      "    O2_GKA    (time) float64 234.4 234.4 234.5 234.5 234.5 234.4 233.4 232.0 ...\n",
      "    CO2_C15T  (time) float64 17.61 17.62 17.67 17.71 17.74 17.77 17.84 17.92 ...\n",
      "    CO2_CROL  (time) float64 -12.03 -12.02 -11.95 -11.88 -11.84 -11.8 -11.74 ...\n",
      "    CO2       (time) float64 394.6 394.6 394.6 394.4 394.4 394.4 394.5 394.7 ...\n",
      "    CO2_FFF   (time) float64 44.05 44.04 44.04 44.04 44.03 44.03 44.04 44.05 ...\n",
      "    PSL       (time) float64 1.01e+05 1.01e+05 1.01e+05 1.01e+05 1.01e+05 ...\n",
      "    IDL_T000  (time) float64 0.0 0.001178 0.01025 0.01173 0.01278 0.0153 ...\n",
      "    IDL_T001  (time) float64 0.0 0.0002432 0.002116 0.002378 0.002563 ...\n",
      "    IDL_T002  (time) float64 0.0 8.077e-06 6.967e-05 7.548e-05 7.936e-05 ...\n",
      "    IDL_T003  (time) float64 0.0 0.0003814 0.003319 0.003752 0.00406 ...\n",
      "    IDL_T004  (time) float64 0.0 0.0002875 0.002502 0.002841 0.003084 ...\n",
      "    IDL_T005  (time) float64 0.0 0.0002428 0.002115 0.002522 0.002818 ...\n",
      "    IDL_T006  (time) float64 0.0 1.631e-05 0.000142 0.00017 0.000191 ...\n",
      "    IDL_S005  (time) float64 0.0 0.04575 0.401 0.5052 0.5621 0.5956 0.5837 ...\n",
      "    IDL_S004  (time) float64 0.0 0.004825 0.04193 0.04693 0.05052 0.05977 ...\n",
      "    CO2_C15F  (time) float64 41.11 41.11 41.1 41.1 41.1 41.1 41.11 41.12 ...\n",
      "    IDL_S006  (time) float64 0.0 0.0006475 0.005626 0.006556 0.007252 ...\n",
      "    IDL_S001  (time) float64 1.0 0.9463 0.53 0.4179 0.3566 0.3125 0.2803 ...\n",
      "    IDL_S003  (time) float64 0.0 0.00146 0.0127 0.01426 0.01537 0.01803 ...\n",
      "    IDL_S002  (time) float64 0.0 0.0007471 0.006429 0.006801 0.007022 ...\n",
      "    CO2_C15L  (time) float64 -11.26 -11.25 -11.2 -11.15 -11.12 -11.1 -11.06 ...\n",
      "    CO2_CRPO  (time) float64 -15.09 -15.09 -15.09 -15.09 -15.09 -15.08 ...\n",
      "    theta     (time) float64 283.5 283.5 283.5 283.5 283.5 283.5 284.0 284.6 ...\n",
      "CPU times: user 1min 29s, sys: 55 ms, total: 1min 29s\n",
      "Wall time: 1min 30s\n"
     ]
    }
   ],
   "source": [
    "%%time\n",
    "rf_model = []\n",
    "for i,rf in enumerate(RF):\n",
    "    var = [model_colums[i][v] for v in varlist]\n",
    "    rf_model.append(cam.interp_within_column(rf.Pressure,model_colums[i].Pm,*var,\n",
    "                                             model_z_surface=model_colums[i].PS))\n",
    "        \n",
    "print rf_model[0]"
   ]
  },
  {
   "cell_type": "code",
   "execution_count": 9,
   "metadata": {},
   "outputs": [],
   "source": [
    "copy_flight_var_list = ['Latitude','Longitude','Datetime']\n",
    "for i,rf in enumerate(RF):\n",
    "    for v in copy_flight_var_list+[co2varname[i]]:\n",
    "        rf_model[i][v] = rf[v]"
   ]
  },
  {
   "cell_type": "code",
   "execution_count": 10,
   "metadata": {},
   "outputs": [
    {
     "name": "stdout",
     "output_type": "stream",
     "text": [
      "/glade/p/work/mclong/orcas/gv_merged_data/../cesm_flight_data/bgeos5.B20TRC5CN.f09_g16.BPRD_orcas_sci.004a.ORCASrf01.merge10.20170526.nc\n",
      "/glade/p/work/mclong/orcas/gv_merged_data/../cesm_flight_data/bgeos5.B20TRC5CN.f09_g16.BPRD_orcas_sci.004a.ORCASrf02.merge10.20170526.nc\n",
      "/glade/p/work/mclong/orcas/gv_merged_data/../cesm_flight_data/bgeos5.B20TRC5CN.f09_g16.BPRD_orcas_sci.004a.ORCASrf03.merge10.20170526.nc\n",
      "/glade/p/work/mclong/orcas/gv_merged_data/../cesm_flight_data/bgeos5.B20TRC5CN.f09_g16.BPRD_orcas_sci.004a.ORCASrf04.merge10.20170526.nc\n",
      "/glade/p/work/mclong/orcas/gv_merged_data/../cesm_flight_data/bgeos5.B20TRC5CN.f09_g16.BPRD_orcas_sci.004a.ORCASrf05.merge10.20170526.nc\n",
      "/glade/p/work/mclong/orcas/gv_merged_data/../cesm_flight_data/bgeos5.B20TRC5CN.f09_g16.BPRD_orcas_sci.004a.ORCASrf06.merge10.20170526.nc\n",
      "/glade/p/work/mclong/orcas/gv_merged_data/../cesm_flight_data/bgeos5.B20TRC5CN.f09_g16.BPRD_orcas_sci.004a.ORCASrf07.merge10.20170526.nc\n",
      "/glade/p/work/mclong/orcas/gv_merged_data/../cesm_flight_data/bgeos5.B20TRC5CN.f09_g16.BPRD_orcas_sci.004a.ORCASrf08.merge10.20170526.nc\n",
      "/glade/p/work/mclong/orcas/gv_merged_data/../cesm_flight_data/bgeos5.B20TRC5CN.f09_g16.BPRD_orcas_sci.004a.ORCASrf09.merge10.20170526.nc\n",
      "/glade/p/work/mclong/orcas/gv_merged_data/../cesm_flight_data/bgeos5.B20TRC5CN.f09_g16.BPRD_orcas_sci.004a.ORCASrf10.merge10.20170526.nc\n",
      "/glade/p/work/mclong/orcas/gv_merged_data/../cesm_flight_data/bgeos5.B20TRC5CN.f09_g16.BPRD_orcas_sci.004a.ORCASrf11.merge10.20170526.nc\n",
      "/glade/p/work/mclong/orcas/gv_merged_data/../cesm_flight_data/bgeos5.B20TRC5CN.f09_g16.BPRD_orcas_sci.004a.ORCASrf13.merge10.20170526.nc\n",
      "/glade/p/work/mclong/orcas/gv_merged_data/../cesm_flight_data/bgeos5.B20TRC5CN.f09_g16.BPRD_orcas_sci.004a.ORCASrf14.merge10.20170526.nc\n",
      "/glade/p/work/mclong/orcas/gv_merged_data/../cesm_flight_data/bgeos5.B20TRC5CN.f09_g16.BPRD_orcas_sci.004a.ORCASrf15.merge10.20170526.nc\n",
      "/glade/p/work/mclong/orcas/gv_merged_data/../cesm_flight_data/bgeos5.B20TRC5CN.f09_g16.BPRD_orcas_sci.004a.ORCASrf16.merge10.20170526.nc\n",
      "/glade/p/work/mclong/orcas/gv_merged_data/../cesm_flight_data/bgeos5.B20TRC5CN.f09_g16.BPRD_orcas_sci.004a.ORCASrf17.merge10.20170526.nc\n",
      "/glade/p/work/mclong/orcas/gv_merged_data/../cesm_flight_data/bgeos5.B20TRC5CN.f09_g16.BPRD_orcas_sci.004a.ORCASrf18.merge10.20170526.nc\n",
      "/glade/p/work/mclong/orcas/gv_merged_data/../cesm_flight_data/bgeos5.B20TRC5CN.f09_g16.BPRD_orcas_sci.004a.ORCASrf19.merge10.20170526.nc\n"
     ]
    }
   ],
   "source": [
    "dir_out = os.path.join(os.path.dirname(flight_file[0]),'..','cesm_flight_data')\n",
    "if not os.path.exists(dir_out):\n",
    "    call(['mkdir','-p',dir_out])\n",
    "    \n",
    "for i,rf in enumerate(rf_model):\n",
    "    file_out = '.'.join([case,os.path.basename(flight_file[i])])\n",
    "    file_out = os.path.join(dir_out,file_out)\n",
    "    print(file_out)\n",
    "    rf.to_netcdf(file_out,unlimited_dims='time')"
   ]
  },
  {
   "cell_type": "code",
   "execution_count": null,
   "metadata": {},
   "outputs": [],
   "source": []
  }
 ],
 "metadata": {
  "kernelspec": {
   "display_name": "Python 2",
   "language": "python",
   "name": "python2"
  },
  "language_info": {
   "codemirror_mode": {
    "name": "ipython",
    "version": 2
   },
   "file_extension": ".py",
   "mimetype": "text/x-python",
   "name": "python",
   "nbconvert_exporter": "python",
   "pygments_lexer": "ipython2",
   "version": "2.7.14"
  }
 },
 "nbformat": 4,
 "nbformat_minor": 2
}
