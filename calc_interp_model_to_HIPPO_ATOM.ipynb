{
 "cells": [
  {
   "cell_type": "code",
   "execution_count": 2,
   "metadata": {},
   "outputs": [],
   "source": [
    "%matplotlib inline\n",
    "from config_calc import *\n",
    "import grid_tools\n",
    "\n",
    "from collections import OrderedDict\n",
    "\n",
    "import cesm_orcas_sci as cesm\n",
    "import cam\n",
    "import metpy.calc as mcalc\n",
    "\n",
    "import matplotlib.pyplot as plt"
   ]
  },
  {
   "cell_type": "markdown",
   "metadata": {},
   "source": [
    "### read model data set"
   ]
  },
  {
   "cell_type": "code",
   "execution_count": 3,
   "metadata": {},
   "outputs": [
    {
     "name": "stdout",
     "output_type": "stream",
     "text": [
      "CPU times: user 10min 40s, sys: 31.8 s, total: 11min 11s\n",
      "Wall time: 11min 35s\n"
     ]
    }
   ],
   "source": [
    "%%time\n",
    "case = 'bgeos5.B20TRC5CN.f09_g16.BPRD_orcas_sci.004a'\n",
    "\n",
    "tracer_def = cesm.trace_gas_tracers(case)\n",
    "tracer_3d = [k for k in tracer_def]\n",
    "varlist = ['Z3','Q','PS','PBLH','T','U','V','U10','PSL','OMEGA']+tracer_3d\n",
    "\n",
    "dsa = cesm.open_casedata(case,'atm','cam.h0',varlist)\n",
    "dsa.time"
   ]
  },
  {
   "cell_type": "markdown",
   "metadata": {},
   "source": [
    "### read flight data\n",
    "Find the right day in the model data and subset; store a list of obs datasets "
   ]
  },
  {
   "cell_type": "code",
   "execution_count": 4,
   "metadata": {},
   "outputs": [],
   "source": [
    "RF = []\n",
    "MDL = []\n",
    "co2varname = []\n",
    "flight_file = ['HIPPO_all_missions_merge_10s_20121129_CO2X.nc','ATom123_2018-01-20_CO2_NOAA.nc']\n",
    "for f in flight_file:\n",
    "    rf = xr.open_dataset(os.path.join('data',f))\n",
    "    \n",
    "    #-- handle some peculiarities\n",
    "    co2var = [v for v in rf.variables if 'CO2' in v][0]\n",
    "    co2 = rf[co2var]\n",
    "    rf = rf.drop(co2var).rename({co2var:'sample'})\n",
    "    co2varname.append(co2var)\n",
    "    rf['sample'] = xr.DataArray(np.arange(0,len(rf.sample)),dims='sample')\n",
    "    rf['time'] = xr.DataArray([datetime(d[0],d[1],d[2],d[3],d[4],d[5]) for d in rf.Datetime.values],dims='sample')\n",
    "    rf[co2var] = xr.DataArray(co2.values,dims='sample')\n",
    "    RF.append(rf)\n",
    "    \n",
    "    MDL.append(dsa.sel(time=rf.time[0].astype('M8[D]'),method='nearest'))\n",
    "dss = xr.concat(MDL,dim='time')"
   ]
  },
  {
   "cell_type": "code",
   "execution_count": 5,
   "metadata": {},
   "outputs": [
    {
     "data": {
      "text/plain": [
       "<xarray.DataArray 'time' (sample: 130016)>\n",
       "array(['2009-01-09T20:28:40.000000000', '2009-01-09T20:28:50.000000000',\n",
       "       '2009-01-09T20:29:00.000000000', ..., '2011-09-09T20:49:40.000000000',\n",
       "       '2011-09-09T20:49:50.000000000', '2011-09-09T20:50:00.000000000'], dtype='datetime64[ns]')\n",
       "Coordinates:\n",
       "  * sample   (sample) int64 0 1 2 3 4 5 6 7 8 9 10 11 12 13 14 15 16 17 18 ..."
      ]
     },
     "execution_count": 5,
     "metadata": {},
     "output_type": "execute_result"
    }
   ],
   "source": [
    "RF[0].time"
   ]
  },
  {
   "cell_type": "markdown",
   "metadata": {},
   "source": [
    "### compute pressure from hybrid levels"
   ]
  },
  {
   "cell_type": "code",
   "execution_count": 6,
   "metadata": {},
   "outputs": [
    {
     "name": "stdout",
     "output_type": "stream",
     "text": [
      "CPU times: user 82 ms, sys: 1 ms, total: 83 ms\n",
      "Wall time: 99.2 ms\n"
     ]
    }
   ],
   "source": [
    "%%time\n",
    "dss = cam.pres_hybrid(dss,layer_center=True)\n",
    "varlist = varlist+['Pm']"
   ]
  },
  {
   "cell_type": "code",
   "execution_count": 7,
   "metadata": {},
   "outputs": [
    {
     "data": {
      "text/plain": [
       "<xarray.Dataset>\n",
       "Dimensions:    (ilev: 57, lat: 192, lev: 56, lon: 288, nbnd: 2, slat: 191, slon: 288, time: 2)\n",
       "Coordinates:\n",
       "  * ilev       (ilev) float64 1.651 2.085 2.62 3.276 4.077 5.047 6.217 7.62 ...\n",
       "  * lat        (lat) float64 -90.0 -89.06 -88.12 -87.17 -86.23 -85.29 -84.35 ...\n",
       "  * lev        (lev) float64 1.868 2.353 2.948 3.677 4.562 5.632 6.918 8.456 ...\n",
       "  * lon        (lon) float64 0.0 1.25 2.5 3.75 5.0 6.25 7.5 8.75 10.0 11.25 ...\n",
       "  * slat       (slat) float64 -89.53 -88.59 -87.64 -86.7 -85.76 -84.82 ...\n",
       "  * slon       (slon) float64 -0.625 0.625 1.875 3.125 4.375 5.625 6.875 ...\n",
       "    sample     int64 0\n",
       "  * time       (time) datetime64[ns] 2009-01-09 2016-02-29\n",
       "Dimensions without coordinates: nbnd\n",
       "Data variables:\n",
       "    P0         (time) float64 1e+05 1e+05\n",
       "    PS         (time, lat, lon) float32 688.056 688.056 688.056 688.056 ...\n",
       "    Z3         (time, lev, lat, lon) float32 44883.7 44883.7 44883.7 44883.7 ...\n",
       "    ch4vmr     (time) float64 1.769e-06 1.848e-06\n",
       "    co2vmr     (time) float64 0.0003856 0.0004034\n",
       "    f11vmr     (time) float64 7.32e-10 8.091e-10\n",
       "    f12vmr     (time) float64 5.301e-10 5.021e-10\n",
       "    gw         (time, lat) float64 3.382e-05 0.0002705 0.000541 0.0008113 ...\n",
       "    hyai       (time, ilev) float64 0.001651 0.002085 0.00262 0.003276 ...\n",
       "    hyam       (time, lev) float64 0.001868 0.002353 0.002948 0.003677 ...\n",
       "    hybi       (time, ilev) float64 0.0 0.0 0.0 0.0 0.0 0.0 0.0 0.0 0.0 0.0 ...\n",
       "    hybm       (time, lev) float64 0.0 0.0 0.0 0.0 0.0 0.0 0.0 0.0 0.0 0.0 ...\n",
       "    n2ovmr     (time) float64 3.221e-07 3.276e-07\n",
       "    nbdate     (time) int32 20070101 20070101\n",
       "    ndbase     (time) int32 0 0\n",
       "    ndcur      (time) int32 739 3346\n",
       "    nlon       (time, lat) int32 288 288 288 288 288 288 288 288 288 288 288 ...\n",
       "    nscur      (time) int32 0 0\n",
       "    sol_tsi    (time) float64 -1.0 -1.0\n",
       "    time_bnds  (time, nbnd) float64 738.0 739.0 3.345e+03 3.346e+03\n",
       "    w_stag     (time, slat) float64 0.0001353 0.0004058 0.0006762 0.0009464 ...\n",
       "    wnummax    (time, lat) int32 1 1 1 1 1 1 1 1 1 1 1 1 1 1 1 1 1 1 1 1 1 1 ...\n",
       "    Q          (time, lev, lat, lon) float32 3.10517e-06 3.10517e-06 ...\n",
       "    PBLH       (time, lat, lon) float32 54.6004 54.6013 54.6004 54.5998 ...\n",
       "    T          (time, lev, lat, lon) float32 281.282 281.282 281.282 281.282 ...\n",
       "    U          (time, lev, lat, lon) float32 -1.32395 -1.32619 -1.3278 ...\n",
       "    V          (time, lev, lat, lon) float32 0.116983 0.0880731 0.0591215 ...\n",
       "    U10        (time, lat, lon) float32 4.25951 4.56768 4.26222 4.12631 ...\n",
       "    PSL        (time, lat, lon) float32 99646.9 99646.9 99646.9 99646.9 ...\n",
       "    OMEGA      (time, lev, lat, lon) float32 4.14887e-07 4.14887e-07 ...\n",
       "    O2_OCN     (time, lev, lat, lon) float32 0.000100771 0.000100771 ...\n",
       "    CO2_CROF   (time, lev, lat, lon) float32 0.000361144 0.000361144 ...\n",
       "    CO2_LND    (time, lev, lat, lon) float32 0.000547092 0.000547092 ...\n",
       "    CO2_T09    (time, lev, lat, lon) float32 0.000359749 0.000359749 ...\n",
       "    CO2_T09a   (time, lev, lat, lon) float32 0.000359752 0.000359752 ...\n",
       "    CO2_T09b   (time, lev, lat, lon) float32 0.000359758 0.000359758 ...\n",
       "    CO2_T09c   (time, lev, lat, lon) float32 0.000359751 0.000359751 ...\n",
       "    CO2_T09d   (time, lev, lat, lon) float32 0.000359753 0.000359753 ...\n",
       "    CO2_T09e   (time, lev, lat, lon) float32 0.000359748 0.000359748 ...\n",
       "    CO2_T09f   (time, lev, lat, lon) float32 0.000359745 0.000359745 ...\n",
       "    CO2_T09g   (time, lev, lat, lon) float32 0.000359746 0.000359746 ...\n",
       "    CO2_T09h   (time, lev, lat, lon) float32 0.000359741 0.000359741 ...\n",
       "    CO2_T09i   (time, lev, lat, lon) float32 0.000359745 0.000359745 ...\n",
       "    CO2_T09j   (time, lev, lat, lon) float32 0.000359737 0.000359737 ...\n",
       "    CO2_T09k   (time, lev, lat, lon) float32 0.00035974 0.00035974 ...\n",
       "    CO2_T09l   (time, lev, lat, lon) float32 0.000359725 0.000359725 ...\n",
       "    CO2_OCN    (time, lev, lat, lon) float32 0.000547235 0.000547235 ...\n",
       "    CO2_CROT   (time, lev, lat, lon) float32 0.000360838 0.000360838 ...\n",
       "    CO2_L14C   (time, lev, lat, lon) float32 0.000359747 0.000359747 ...\n",
       "    CO2_CRPO   (time, lev, lat, lon) float32 0.000359662 0.000359662 ...\n",
       "    CO2_CROL   (time, lev, lat, lon) float32 0.000359808 0.000359808 ...\n",
       "    CO2_CROO   (time, lev, lat, lon) float32 0.000359662 0.000359662 ...\n",
       "    aO2_GKA    (time, lev, lat, lon) float32 0.000360325 0.000360325 ...\n",
       "    O2_GKA     (time, lev, lat, lon) float32 0.000361272 0.000361272 ...\n",
       "    CO2_C15T   (time, lev, lat, lon) float32 0.000360659 0.000360659 ...\n",
       "    CO2        (time, lev, lat, lon) float32 0.000544107 0.000544107 ...\n",
       "    CO2_FFF    (time, lev, lat, lon) float32 0.000548609 0.000548609 ...\n",
       "    IDL_T000   (time, lev, lat, lon) float32 3.73852e-06 3.73852e-06 ...\n",
       "    IDL_T001   (time, lev, lat, lon) float32 3.48239e-07 3.48239e-07 ...\n",
       "    IDL_T002   (time, lev, lat, lon) float32 1.17492e-09 1.17492e-09 ...\n",
       "    IDL_T003   (time, lev, lat, lon) float32 1.27683e-06 1.27683e-06 ...\n",
       "    IDL_T004   (time, lev, lat, lon) float32 2.70356e-09 2.70356e-09 ...\n",
       "    IDL_T005   (time, lev, lat, lon) float32 2.11111e-11 2.11111e-11 ...\n",
       "    IDL_T006   (time, lev, lat, lon) float32 1.63453e-13 1.63453e-13 ...\n",
       "    IDL_S005   (time, lev, lat, lon) float32 4.99684e-12 4.99684e-12 ...\n",
       "    IDL_S004   (time, lev, lat, lon) float32 9.02776e-10 9.02776e-10 ...\n",
       "    CO2_C15F   (time, lev, lat, lon) float32 0.000361192 0.000361192 ...\n",
       "    IDL_S006   (time, lev, lat, lon) float32 3.94224e-14 3.94224e-14 ...\n",
       "    IDL_S001   (time, lev, lat, lon) float32 8.39447e-08 8.39447e-08 ...\n",
       "    IDL_S003   (time, lev, lat, lon) float32 3.09403e-07 3.09403e-07 ...\n",
       "    IDL_S002   (time, lev, lat, lon) float32 1.12339e-15 1.12339e-15 ...\n",
       "    CO2_C15L   (time, lev, lat, lon) float32 0.000359619 0.000359619 ...\n",
       "    CO2_C15O   (time, lev, lat, lon) float32 0.000359629 0.000359629 ...\n",
       "    Pm         (time, lev, lat, lon) float64 1.868 1.868 1.868 1.868 1.868 ...\n",
       "    theta      (time, lev, lat, lon) float64 1.696e+03 1.696e+03 1.696e+03 ..."
      ]
     },
     "execution_count": 7,
     "metadata": {},
     "output_type": "execute_result"
    }
   ],
   "source": [
    "dss['theta'] = cam.potential_temperature(pressure=dss.Pm,\n",
    "                                        temperature=dss['T'])\n",
    "varlist = varlist+['theta']\n",
    "dss"
   ]
  },
  {
   "cell_type": "markdown",
   "metadata": {},
   "source": [
    "### convert units of tracer consituents"
   ]
  },
  {
   "cell_type": "code",
   "execution_count": 8,
   "metadata": {},
   "outputs": [
    {
     "name": "stdout",
     "output_type": "stream",
     "text": [
      "<xarray.Dataset>\n",
      "Dimensions:    (ilev: 57, lat: 192, lev: 56, lon: 288, nbnd: 2, slat: 191, slon: 288, time: 2)\n",
      "Coordinates:\n",
      "  * ilev       (ilev) float64 1.651 2.085 2.62 3.276 4.077 5.047 6.217 7.62 ...\n",
      "  * lat        (lat) float64 -90.0 -89.06 -88.12 -87.17 -86.23 -85.29 -84.35 ...\n",
      "  * lev        (lev) float64 1.868 2.353 2.948 3.677 4.562 5.632 6.918 8.456 ...\n",
      "  * lon        (lon) float64 0.0 1.25 2.5 3.75 5.0 6.25 7.5 8.75 10.0 11.25 ...\n",
      "  * slat       (slat) float64 -89.53 -88.59 -87.64 -86.7 -85.76 -84.82 ...\n",
      "  * slon       (slon) float64 -0.625 0.625 1.875 3.125 4.375 5.625 6.875 ...\n",
      "    sample     int64 0\n",
      "  * time       (time) datetime64[ns] 2009-01-09 2016-02-29\n",
      "Dimensions without coordinates: nbnd\n",
      "Data variables:\n",
      "    P0         (time) float64 1e+05 1e+05\n",
      "    PS         (time, lat, lon) float32 688.056 688.056 688.056 688.056 ...\n",
      "    Z3         (time, lev, lat, lon) float32 44883.7 44883.7 44883.7 44883.7 ...\n",
      "    ch4vmr     (time) float64 1.769e-06 1.848e-06\n",
      "    co2vmr     (time) float64 0.0003856 0.0004034\n",
      "    f11vmr     (time) float64 7.32e-10 8.091e-10\n",
      "    f12vmr     (time) float64 5.301e-10 5.021e-10\n",
      "    gw         (time, lat) float64 3.382e-05 0.0002705 0.000541 0.0008113 ...\n",
      "    hyai       (time, ilev) float64 0.001651 0.002085 0.00262 0.003276 ...\n",
      "    hyam       (time, lev) float64 0.001868 0.002353 0.002948 0.003677 ...\n",
      "    hybi       (time, ilev) float64 0.0 0.0 0.0 0.0 0.0 0.0 0.0 0.0 0.0 0.0 ...\n",
      "    hybm       (time, lev) float64 0.0 0.0 0.0 0.0 0.0 0.0 0.0 0.0 0.0 0.0 ...\n",
      "    n2ovmr     (time) float64 3.221e-07 3.276e-07\n",
      "    nbdate     (time) int32 20070101 20070101\n",
      "    ndbase     (time) int32 0 0\n",
      "    ndcur      (time) int32 739 3346\n",
      "    nlon       (time, lat) int32 288 288 288 288 288 288 288 288 288 288 288 ...\n",
      "    nscur      (time) int32 0 0\n",
      "    sol_tsi    (time) float64 -1.0 -1.0\n",
      "    time_bnds  (time, nbnd) float64 738.0 739.0 3.345e+03 3.346e+03\n",
      "    w_stag     (time, slat) float64 0.0001353 0.0004058 0.0006762 0.0009464 ...\n",
      "    wnummax    (time, lat) int32 1 1 1 1 1 1 1 1 1 1 1 1 1 1 1 1 1 1 1 1 1 1 ...\n",
      "    Q          (time, lev, lat, lon) float32 3.10517e-06 3.10517e-06 ...\n",
      "    PBLH       (time, lat, lon) float32 54.6004 54.6013 54.6004 54.5998 ...\n",
      "    T          (time, lev, lat, lon) float32 281.282 281.282 281.282 281.282 ...\n",
      "    U          (time, lev, lat, lon) float32 -1.32395 -1.32619 -1.3278 ...\n",
      "    V          (time, lev, lat, lon) float32 0.116983 0.0880731 0.0591215 ...\n",
      "    U10        (time, lat, lon) float32 4.25951 4.56768 4.26222 4.12631 ...\n",
      "    PSL        (time, lat, lon) float32 99646.9 99646.9 99646.9 99646.9 ...\n",
      "    OMEGA      (time, lev, lat, lon) float32 4.14887e-07 4.14887e-07 ...\n",
      "    O2_OCN     (time, lev, lat, lon) float32 3.331 3.331 3.331 3.331 3.331 ...\n",
      "    CO2_CROF   (time, lev, lat, lon) float32 1.14396 1.14396 1.14396 1.14396 ...\n",
      "    CO2_LND    (time, lev, lat, lon) float32 0.160634 0.160634 0.160634 ...\n",
      "    CO2_T09    (time, lev, lat, lon) float32 -0.250671 -0.250671 -0.250671 ...\n",
      "    CO2_T09a   (time, lev, lat, lon) float32 -0.247703 -0.247703 -0.247703 ...\n",
      "    CO2_T09b   (time, lev, lat, lon) float32 -0.242493 -0.242493 -0.242493 ...\n",
      "    CO2_T09c   (time, lev, lat, lon) float32 -0.249187 -0.249187 -0.249187 ...\n",
      "    CO2_T09d   (time, lev, lat, lon) float32 -0.246597 -0.246597 -0.246597 ...\n",
      "    CO2_T09e   (time, lev, lat, lon) float32 -0.252156 -0.252156 -0.252156 ...\n",
      "    CO2_T09f   (time, lev, lat, lon) float32 -0.254775 -0.254775 -0.254775 ...\n",
      "    CO2_T09g   (time, lev, lat, lon) float32 -0.253669 -0.253669 -0.253669 ...\n",
      "    CO2_T09h   (time, lev, lat, lon) float32 -0.258879 -0.258879 -0.258879 ...\n",
      "    CO2_T09i   (time, lev, lat, lon) float32 -0.255153 -0.255153 -0.255153 ...\n",
      "    CO2_T09j   (time, lev, lat, lon) float32 -0.262982 -0.262982 -0.262982 ...\n",
      "    CO2_T09k   (time, lev, lat, lon) float32 -0.259664 -0.259664 -0.259664 ...\n",
      "    CO2_T09l   (time, lev, lat, lon) float32 -0.275293 -0.275293 -0.275293 ...\n",
      "    CO2_OCN    (time, lev, lat, lon) float32 0.254822 0.254822 0.254822 ...\n",
      "    CO2_CROT   (time, lev, lat, lon) float32 0.838481 0.838481 0.838481 ...\n",
      "    CO2_L14C   (time, lev, lat, lon) float32 -0.253407 -0.253407 -0.253407 ...\n",
      "    CO2_CRPO   (time, lev, lat, lon) float32 -0.338041 -0.338041 -0.338041 ...\n",
      "    CO2_CROL   (time, lev, lat, lon) float32 -0.191736 -0.191736 -0.191736 ...\n",
      "    CO2_CROO   (time, lev, lat, lon) float32 -0.338041 -0.338041 -0.338041 ...\n",
      "    aO2_GKA    (time, lev, lat, lon) float32 1.55049 1.55049 1.55049 1.55049 ...\n",
      "    O2_GKA     (time, lev, lat, lon) float32 6.07179 6.07179 6.07179 6.07179 ...\n",
      "    CO2_C15T   (time, lev, lat, lon) float32 0.658823 0.658823 0.658823 ...\n",
      "    CO2        (time, lev, lat, lon) float32 358.195 358.195 358.195 358.195 ...\n",
      "    CO2_FFF    (time, lev, lat, lon) float32 1.15896 1.15896 1.15896 1.15896 ...\n",
      "    IDL_T000   (time, lev, lat, lon) float32 3.73852 3.73852 3.73852 3.73852 ...\n",
      "    IDL_T001   (time, lev, lat, lon) float32 0.348239 0.348239 0.348239 ...\n",
      "    IDL_T002   (time, lev, lat, lon) float32 0.00117492 0.00117492 ...\n",
      "    IDL_T003   (time, lev, lat, lon) float32 1.27683 1.27683 1.27683 1.27683 ...\n",
      "    IDL_T004   (time, lev, lat, lon) float32 0.00270356 0.00270356 ...\n",
      "    IDL_T005   (time, lev, lat, lon) float32 2.11111e-05 2.11111e-05 ...\n",
      "    IDL_T006   (time, lev, lat, lon) float32 1.63453e-07 1.63453e-07 ...\n",
      "    IDL_S005   (time, lev, lat, lon) float32 4.99684e-06 4.99684e-06 ...\n",
      "    IDL_S004   (time, lev, lat, lon) float32 0.000902776 0.000902776 ...\n",
      "    CO2_C15F   (time, lev, lat, lon) float32 1.19221 1.19221 1.19221 1.19221 ...\n",
      "    IDL_S006   (time, lev, lat, lon) float32 3.94224e-08 3.94224e-08 ...\n",
      "    IDL_S001   (time, lev, lat, lon) float32 0.0839447 0.0839447 0.0839447 ...\n",
      "    IDL_S003   (time, lev, lat, lon) float32 0.309403 0.309403 0.309403 ...\n",
      "    IDL_S002   (time, lev, lat, lon) float32 1.12339e-09 1.12339e-09 ...\n",
      "    CO2_C15L   (time, lev, lat, lon) float32 -0.380533 -0.380533 -0.380533 ...\n",
      "    CO2_C15O   (time, lev, lat, lon) float32 -0.371103 -0.371103 -0.371103 ...\n",
      "    Pm         (time, lev, lat, lon) float64 1.868 1.868 1.868 1.868 1.868 ...\n",
      "    theta      (time, lev, lat, lon) float64 1.696e+03 1.696e+03 1.696e+03 ...\n"
     ]
    }
   ],
   "source": [
    "ds = cesm.convert_dataset(dss,case)\n",
    "ds = ds.compute()\n",
    "print ds"
   ]
  },
  {
   "cell_type": "markdown",
   "metadata": {},
   "source": [
    "### interpolate in xy to get a collection of model columns"
   ]
  },
  {
   "cell_type": "code",
   "execution_count": 9,
   "metadata": {},
   "outputs": [
    {
     "name": "stdout",
     "output_type": "stream",
     "text": [
      "<xarray.Dataset>\n",
      "Dimensions:   (lev: 56, sample: 130016)\n",
      "Coordinates:\n",
      "  * sample    (sample) int64 0 1 2 3 4 5 6 7 8 9 10 11 12 13 14 15 16 17 18 ...\n",
      "Dimensions without coordinates: lev\n",
      "Data variables:\n",
      "    O2_OCN    (sample, lev) float64 3.798 3.462 3.639 4.577 5.08 5.874 6.29 ...\n",
      "    CO2_T09k  (sample, lev) float64 -0.3069 -0.2791 -0.3149 -0.4448 -0.518 ...\n",
      "    aO2_GKA   (sample, lev) float64 1.718 1.572 1.596 1.843 1.969 2.131 2.2 ...\n",
      "    CO2_C15O  (sample, lev) float64 -0.4404 -0.3969 -0.4423 -0.6197 -0.7184 ...\n",
      "    CO2_LND   (sample, lev) float64 0.1711 0.1603 0.1607 0.1773 0.1895 0.213 ...\n",
      "    U10       (sample) float64 3.378 3.381 3.385 3.389 3.393 3.397 3.401 ...\n",
      "    CO2_T09   (sample, lev) float64 -0.2958 -0.2694 -0.3039 -0.4285 -0.4987 ...\n",
      "    PS        (sample) float64 840.4 840.4 840.4 840.4 840.4 840.3 840.3 ...\n",
      "    CO2_T09b  (sample, lev) float64 -0.2863 -0.2608 -0.2948 -0.4167 -0.4854 ...\n",
      "    CO2_T09c  (sample, lev) float64 -0.294 -0.2678 -0.3021 -0.4258 -0.4955 ...\n",
      "    CO2_T09d  (sample, lev) float64 -0.2911 -0.2651 -0.2994 -0.4226 -0.4921 ...\n",
      "    CO2_T09e  (sample, lev) float64 -0.2976 -0.271 -0.3057 -0.4312 -0.5019 ...\n",
      "    CO2_T09f  (sample, lev) float64 -0.3005 -0.2737 -0.3085 -0.4345 -0.5054 ...\n",
      "    CO2_T09g  (sample, lev) float64 -0.2995 -0.2726 -0.3076 -0.4339 -0.5051 ...\n",
      "    CO2_T09h  (sample, lev) float64 -0.3053 -0.278 -0.3131 -0.4404 -0.512 ...\n",
      "    CO2_T09i  (sample, lev) float64 -0.3013 -0.2742 -0.3094 -0.4366 -0.5083 ...\n",
      "    CO2_T09j  (sample, lev) float64 -0.31 -0.2823 -0.3176 -0.4463 -0.5187 ...\n",
      "    CO2_CROF  (sample, lev) float64 1.371 1.202 1.296 1.777 2.031 2.437 ...\n",
      "    CO2_T09l  (sample, lev) float64 -0.3243 -0.2952 -0.3314 -0.4641 -0.5387 ...\n",
      "    CO2_OCN   (sample, lev) float64 0.2707 0.2523 0.237 0.2343 0.2301 0.206 ...\n",
      "    CO2_CROT  (sample, lev) float64 0.9654 0.8659 0.9065 1.15 1.281 1.495 ...\n",
      "    Pm        (sample, lev) float64 1.868 2.353 2.948 3.677 4.562 5.632 ...\n",
      "    OMEGA     (sample, lev) float64 0.0001802 0.0004684 0.000613 0.0006935 ...\n",
      "    CO2_L14C  (sample, lev) float64 -0.2995 -0.2724 -0.3074 -0.4343 -0.5056 ...\n",
      "    Z3        (sample, lev) float64 4.121e+04 3.963e+04 3.814e+04 3.672e+04 ...\n",
      "    PBLH      (sample) float64 772.4 770.3 768.3 766.3 764.4 762.5 760.6 ...\n",
      "    CO2_T09a  (sample, lev) float64 -0.2921 -0.2662 -0.3003 -0.4231 -0.4923 ...\n",
      "    CO2_CROO  (sample, lev) float64 -0.4028 -0.3631 -0.4083 -0.5793 -0.6749 ...\n",
      "    Q         (sample, lev) float64 3.123e-06 3.108e-06 3.11e-06 3.135e-06 ...\n",
      "    U         (sample, lev) float64 98.3 80.56 67.43 57.52 49.79 43.53 38.4 ...\n",
      "    T         (sample, lev) float64 240.4 228.3 222.2 218.1 215.5 213.7 ...\n",
      "    V         (sample, lev) float64 40.12 28.26 17.48 10.41 6.052 3.255 ...\n",
      "    O2_GKA    (sample, lev) float64 7.074 6.34 6.751 8.852 9.975 11.77 12.71 ...\n",
      "    CO2_C15T  (sample, lev) float64 0.7659 0.6829 0.7217 0.9397 1.06 1.259 ...\n",
      "    CO2_CROL  (sample, lev) float64 -0.2479 -0.213 -0.252 -0.3981 -0.4749 ...\n",
      "    CO2       (sample, lev) float64 358.6 358.3 358.4 359.1 359.5 360.1 ...\n",
      "    CO2_FFF   (sample, lev) float64 1.374 1.214 1.302 1.756 1.997 2.38 2.584 ...\n",
      "    PSL       (sample) float64 1.002e+05 1.002e+05 1.002e+05 1.002e+05 ...\n",
      "    IDL_T000  (sample, lev) float64 3.683 3.723 3.697 3.574 3.508 3.399 ...\n",
      "    IDL_T001  (sample, lev) float64 0.3769 0.3548 0.3565 0.3827 0.3946 ...\n",
      "    IDL_T002  (sample, lev) float64 0.001214 0.00118 0.001154 0.00115 ...\n",
      "    IDL_T003  (sample, lev) float64 1.387 1.301 1.307 1.413 1.46 1.499 1.503 ...\n",
      "    IDL_T004  (sample, lev) float64 0.002955 0.002763 0.002801 0.003123 ...\n",
      "    IDL_T005  (sample, lev) float64 2.312e-05 2.152e-05 2.175e-05 2.407e-05 ...\n",
      "    IDL_T006  (sample, lev) float64 1.831e-07 1.673e-07 1.703e-07 1.957e-07 ...\n",
      "    IDL_S005  (sample, lev) float64 5.624e-06 5.17e-06 5.335e-06 6.333e-06 ...\n",
      "    IDL_S004  (sample, lev) float64 0.0009972 0.0009312 0.0009558 0.001104 ...\n",
      "    CO2_C15F  (sample, lev) float64 1.427 1.252 1.347 1.84 2.1 2.514 2.732 ...\n",
      "    IDL_S006  (sample, lev) float64 4.545e-08 4.092e-08 4.255e-08 5.233e-08 ...\n",
      "    IDL_S001  (sample, lev) float64 0.0924 0.08619 0.0878 0.09993 0.106 ...\n",
      "    IDL_S003  (sample, lev) float64 0.3422 0.3176 0.324 0.3716 0.3948 0.425 ...\n",
      "    IDL_S002  (sample, lev) float64 1.294e-09 1.169e-09 1.215e-09 1.487e-09 ...\n",
      "    CO2_C15L  (sample, lev) float64 -0.4604 -0.407 -0.4484 -0.628 -0.7204 ...\n",
      "    CO2_CRPO  (sample, lev) float64 -0.4028 -0.3631 -0.4083 -0.5793 -0.6749 ...\n",
      "    theta     (sample, lev) float64 1.45e+03 1.289e+03 1.176e+03 1.084e+03 ...\n",
      "CPU times: user 28.9 s, sys: 1.25 s, total: 30.1 s\n",
      "Wall time: 30.8 s\n"
     ]
    }
   ],
   "source": [
    "%%time\n",
    "model_colums = []\n",
    "for i,rf in enumerate(RF):\n",
    "    var = [ds[v].isel(time=i) for v in varlist]\n",
    "    model_colums.append(cam.interp_columns_esmf(rf.Longitude,rf.Latitude,ds.lon,ds.lat,*var))\n",
    "print model_colums[0]"
   ]
  },
  {
   "cell_type": "markdown",
   "metadata": {},
   "source": [
    "### interpolate within the column to get point of measurement"
   ]
  },
  {
   "cell_type": "code",
   "execution_count": 10,
   "metadata": {},
   "outputs": [
    {
     "name": "stdout",
     "output_type": "stream",
     "text": [
      "<xarray.Dataset>\n",
      "Dimensions:   (sample: 130016)\n",
      "Coordinates:\n",
      "  * sample    (sample) int64 0 1 2 3 4 5 6 7 8 9 10 11 12 13 14 15 16 17 18 ...\n",
      "Data variables:\n",
      "    O2_OCN    (sample) float64 14.46 14.42 14.4 14.38 14.36 14.36 14.37 ...\n",
      "    CO2_T09k  (sample) float64 -4.731 -4.728 -4.724 -4.721 -4.717 -4.71 ...\n",
      "    aO2_GKA   (sample) float64 1.258 1.261 1.276 1.291 1.306 1.34 1.379 ...\n",
      "    CO2_C15O  (sample) float64 -5.791 -5.791 -5.789 -5.788 -5.787 -5.784 ...\n",
      "    CO2_LND   (sample) float64 2.691 2.684 2.678 2.673 2.668 2.658 2.647 ...\n",
      "    U10       (sample) float64 3.378 3.381 3.385 3.389 3.393 3.397 3.401 ...\n",
      "    CO2_T09   (sample) float64 -4.577 -4.575 -4.571 -4.567 -4.564 -4.557 ...\n",
      "    PS        (sample) float64 840.4 840.4 840.4 840.4 840.4 840.3 840.3 ...\n",
      "    CO2_T09b  (sample) float64 -4.506 -4.504 -4.5 -4.496 -4.493 -4.486 ...\n",
      "    CO2_T09c  (sample) float64 -4.552 -4.549 -4.545 -4.542 -4.538 -4.531 ...\n",
      "    CO2_T09d  (sample) float64 -4.542 -4.539 -4.535 -4.532 -4.528 -4.521 ...\n",
      "    CO2_T09e  (sample) float64 -4.603 -4.6 -4.597 -4.593 -4.589 -4.582 ...\n",
      "    CO2_T09f  (sample) float64 -4.613 -4.61 -4.606 -4.603 -4.599 -4.592 ...\n",
      "    CO2_T09g  (sample) float64 -4.628 -4.626 -4.622 -4.618 -4.615 -4.608 ...\n",
      "    CO2_T09h  (sample) float64 -4.648 -4.646 -4.642 -4.638 -4.635 -4.628 ...\n",
      "    CO2_T09i  (sample) float64 -4.654 -4.651 -4.648 -4.644 -4.64 -4.634 ...\n",
      "    CO2_T09j  (sample) float64 -4.684 -4.681 -4.677 -4.674 -4.67 -4.663 ...\n",
      "    CO2_CROF  (sample) float64 18.38 18.38 18.38 18.38 18.38 18.38 18.37 ...\n",
      "    CO2_T09l  (sample) float64 -4.79 -4.787 -4.784 -4.78 -4.776 -4.77 -4.762 ...\n",
      "    CO2_OCN   (sample) float64 -2.033 -2.035 -2.036 -2.036 -2.037 -2.035 ...\n",
      "    CO2_CROT  (sample) float64 10.03 10.01 9.988 9.971 9.954 9.934 9.913 ...\n",
      "    Pm        (sample) float64 643.5 637.3 630.9 624.8 618.7 612.5 606.4 ...\n",
      "    OMEGA     (sample) float64 0.02017 0.01547 0.01258 0.01009 0.007693 ...\n",
      "    CO2_L14C  (sample) float64 -4.474 -4.471 -4.468 -4.464 -4.461 -4.455 ...\n",
      "    Z3        (sample) float64 3.602e+03 3.676e+03 3.755e+03 3.831e+03 ...\n",
      "    PBLH      (sample) float64 772.4 770.3 768.3 766.3 764.4 762.5 760.6 ...\n",
      "    CO2_T09a  (sample) float64 -4.526 -4.523 -4.52 -4.516 -4.512 -4.506 ...\n",
      "    CO2_CROO  (sample) float64 -5.973 -5.975 -5.977 -5.978 -5.98 -5.98 ...\n",
      "    Q         (sample) float64 0.003097 0.003019 0.00294 0.002866 0.002792 ...\n",
      "    U         (sample) float64 23.31 23.52 23.77 24.02 24.26 24.54 24.83 ...\n",
      "    T         (sample) float64 265.3 264.9 264.4 263.9 263.4 262.9 262.5 ...\n",
      "    V         (sample) float64 -8.922 -8.629 -8.364 -8.113 -7.866 -7.669 ...\n",
      "    O2_GKA    (sample) float64 37.27 37.27 37.3 37.33 37.36 37.46 37.58 ...\n",
      "    CO2_C15T  (sample) float64 9.642 9.635 9.63 9.625 9.62 9.611 9.602 9.592 ...\n",
      "    CO2_CROL  (sample) float64 -4.459 -4.481 -4.498 -4.513 -4.528 -4.548 ...\n",
      "    CO2       (sample) float64 378.8 378.8 378.7 378.7 378.7 378.7 378.7 ...\n",
      "    CO2_FFF   (sample) float64 17.97 17.97 17.97 17.97 17.97 17.97 17.96 ...\n",
      "    PSL       (sample) float64 1.002e+05 1.002e+05 1.002e+05 1.002e+05 ...\n",
      "    IDL_T000  (sample) float64 0.02326 0.02368 0.02386 0.02399 0.02412 ...\n",
      "    IDL_T001  (sample) float64 0.004781 0.004863 0.004891 0.004909 0.004926 ...\n",
      "    IDL_T002  (sample) float64 7.654e-07 7.855e-07 7.94e-07 8.002e-07 ...\n",
      "    IDL_T003  (sample) float64 0.0176 0.01791 0.01805 0.01816 0.01826 ...\n",
      "    IDL_T004  (sample) float64 1.459e-05 1.495e-05 1.508e-05 1.518e-05 ...\n",
      "    IDL_T005  (sample) float64 6.571e-08 6.731e-08 6.796e-08 6.841e-08 ...\n",
      "    IDL_T006  (sample) float64 4.979e-10 5.095e-10 5.14e-10 5.171e-10 ...\n",
      "    IDL_S005  (sample) float64 1.047e-07 1.071e-07 1.082e-07 1.09e-07 ...\n",
      "    IDL_S004  (sample) float64 3.902e-05 3.999e-05 4.04e-05 4.071e-05 ...\n",
      "    CO2_C15F  (sample) float64 18.22 18.23 18.23 18.23 18.23 18.22 18.22 ...\n",
      "    IDL_S006  (sample) float64 7.417e-10 7.569e-10 7.641e-10 7.696e-10 ...\n",
      "    IDL_S001  (sample) float64 0.3136 0.2987 0.2887 0.2802 0.2719 0.2636 ...\n",
      "    IDL_S003  (sample) float64 0.6877 0.7023 0.7127 0.7217 0.7304 0.7395 ...\n",
      "    IDL_S002  (sample) float64 2.169e-11 2.236e-11 2.267e-11 2.291e-11 ...\n",
      "    CO2_C15L  (sample) float64 -4.87 -4.877 -4.884 -4.89 -4.897 -4.906 ...\n",
      "    CO2_CRPO  (sample) float64 -5.973 -5.975 -5.977 -5.978 -5.98 -5.98 ...\n",
      "    theta     (sample) float64 301.0 301.3 301.6 301.9 302.2 302.6 302.9 ...\n",
      "CPU times: user 7min 53s, sys: 140 ms, total: 7min 53s\n",
      "Wall time: 7min 54s\n"
     ]
    }
   ],
   "source": [
    "%%time\n",
    "rf_model = []\n",
    "for i,rf in enumerate(RF):\n",
    "    var = [model_colums[i][v] for v in varlist]\n",
    "    rf_model.append(cam.interp_within_column(rf.Pressure,model_colums[i].Pm,*var,\n",
    "                                             model_z_surface=model_colums[i].PS))\n",
    "        \n",
    "print rf_model[0]"
   ]
  },
  {
   "cell_type": "code",
   "execution_count": 16,
   "metadata": {},
   "outputs": [],
   "source": [
    "copy_flight_var_list = ['Latitude','Longitude','Datetime','time']\n",
    "for i,rf in enumerate(RF):\n",
    "    for v in copy_flight_var_list+[co2varname[i]]:\n",
    "        rf_model[i][v] = rf[v]"
   ]
  },
  {
   "cell_type": "code",
   "execution_count": 17,
   "metadata": {},
   "outputs": [
    {
     "name": "stdout",
     "output_type": "stream",
     "text": [
      "../cesm_flight_data/bgeos5.B20TRC5CN.f09_g16.BPRD_orcas_sci.004a.HIPPO_all_missions_merge_10s_20121129_CO2X.nc\n",
      "../cesm_flight_data/bgeos5.B20TRC5CN.f09_g16.BPRD_orcas_sci.004a.ATom123_2018-01-20_CO2_NOAA.nc\n"
     ]
    }
   ],
   "source": [
    "dir_out = os.path.join(os.path.dirname(flight_file[0]),'..','cesm_flight_data')\n",
    "if not os.path.exists(dir_out):\n",
    "    call(['mkdir','-p',dir_out])\n",
    "    \n",
    "for i,rf in enumerate(rf_model):\n",
    "    file_out = '.'.join([case,os.path.basename(flight_file[i])])\n",
    "    file_out = os.path.join(dir_out,file_out)\n",
    "    print(file_out)\n",
    "    rf.to_netcdf(file_out,unlimited_dims='time')"
   ]
  },
  {
   "cell_type": "code",
   "execution_count": 20,
   "metadata": {},
   "outputs": [
    {
     "data": {
      "image/png": "[encoded data removed]",
      "text/plain": [
       "<matplotlib.figure.Figure at 0x2b2430d54e50>"
      ]
     },
     "metadata": {},
     "output_type": "display_data"
    },
    {
     "data": {
      "image/png": "[encoded data removed]",
      "text/plain": [
       "<matplotlib.figure.Figure at 0x2b22c19d7150>"
      ]
     },
     "metadata": {},
     "output_type": "display_data"
    }
   ],
   "source": [
    "min15 = np.timedelta64(15,'m')\n",
    "v = 'O2_OCN'\n",
    "for i,rf in enumerate(rf_model):\n",
    "    fig = plt.figure()\n",
    "    ax = fig.add_subplot(111)\n",
    "    sc = ax.scatter(rf.time.astype(float),\n",
    "                    rf.Pm.values,c=rf[v].values)\n",
    "\n",
    "    #ax.set_xlim([data[f].time.values[0]-min15,data[f].time.values[-1]+min15])\n",
    "    ax.set_ylim(ax.get_ylim()[::-1])\n",
    "    fig.autofmt_xdate()\n",
    "\n",
    "    ax.set_ylabel('Pressure [hPa]')\n",
    "    ax.set_title(f.upper(),loc='left')\n",
    "    ax.set_title(v,loc='right')\n",
    "    plt.colorbar(sc)"
   ]
  },
  {
   "cell_type": "code",
   "execution_count": null,
   "metadata": {},
   "outputs": [],
   "source": []
  }
 ],
 "metadata": {
  "kernelspec": {
   "display_name": "Python 2",
   "language": "python",
   "name": "python2"
  },
  "language_info": {
   "codemirror_mode": {
    "name": "ipython",
    "version": 2
   },
   "file_extension": ".py",
   "mimetype": "text/x-python",
   "name": "python",
   "nbconvert_exporter": "python",
   "pygments_lexer": "ipython2",
   "version": "2.7.14"
  }
 },
 "nbformat": 4,
 "nbformat_minor": 2
}
