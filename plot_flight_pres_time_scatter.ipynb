{
 "cells": [
  {
   "cell_type": "code",
   "execution_count": 2,
   "metadata": {},
   "outputs": [],
   "source": [
    "%matplotlib inline\n",
    "from config_calc import *\n",
    "import grid_tools\n",
    "\n",
    "from collections import OrderedDict\n",
    "\n",
    "import cesm_orcas_sci as cesm\n",
    "import cam\n",
    "import gv\n",
    "import metpy.calc as mcalc\n",
    "\n",
    "#import cmocean\n",
    "import matplotlib.pyplot as plt"
   ]
  },
  {
   "cell_type": "code",
   "execution_count": 3,
   "metadata": {},
   "outputs": [
    {
     "data": {
      "text/plain": [
       "<xarray.Dataset>\n",
       "Dimensions:   (time: 2723)\n",
       "Coordinates:\n",
       "  * time      (time) datetime64[ns] 2016-01-15T12:57:26.000000043 ...\n",
       "Data variables:\n",
       "    O2_OCN    (time) float64 ...\n",
       "    CO2_T09k  (time) float64 ...\n",
       "    aO2_GKA   (time) float64 ...\n",
       "    CO2_C15O  (time) float64 ...\n",
       "    CO2_LND   (time) float64 ...\n",
       "    U10       (time) float64 ...\n",
       "    CO2_T09   (time) float64 ...\n",
       "    PS        (time) float64 ...\n",
       "    CO2_T09b  (time) float64 ...\n",
       "    CO2_T09c  (time) float64 ...\n",
       "    CO2_T09d  (time) float64 ...\n",
       "    CO2_T09e  (time) float64 ...\n",
       "    CO2_T09f  (time) float64 ...\n",
       "    CO2_T09g  (time) float64 ...\n",
       "    CO2_T09h  (time) float64 ...\n",
       "    CO2_T09i  (time) float64 ...\n",
       "    CO2_T09j  (time) float64 ...\n",
       "    CO2_CROF  (time) float64 ...\n",
       "    CO2_T09l  (time) float64 ...\n",
       "    CO2_OCN   (time) float64 ...\n",
       "    CO2_CROT  (time) float64 ...\n",
       "    Pm        (time) float64 ...\n",
       "    OMEGA     (time) float64 ...\n",
       "    CO2_L14C  (time) float64 ...\n",
       "    Z3        (time) float64 ...\n",
       "    PBLH      (time) float64 ...\n",
       "    CO2_T09a  (time) float64 ...\n",
       "    CO2_CROO  (time) float64 ...\n",
       "    Q         (time) float64 ...\n",
       "    U         (time) float64 ...\n",
       "    T         (time) float64 ...\n",
       "    V         (time) float64 ...\n",
       "    O2_GKA    (time) float64 ...\n",
       "    CO2_C15T  (time) float64 ...\n",
       "    CO2_CROL  (time) float64 ...\n",
       "    CO2       (time) float64 ...\n",
       "    CO2_FFF   (time) float64 ...\n",
       "    PSL       (time) float64 ...\n",
       "    IDL_T000  (time) float64 ...\n",
       "    IDL_T001  (time) float64 ...\n",
       "    IDL_T002  (time) float64 ...\n",
       "    IDL_T003  (time) float64 ...\n",
       "    IDL_T004  (time) float64 ...\n",
       "    IDL_T005  (time) float64 ...\n",
       "    IDL_T006  (time) float64 ...\n",
       "    IDL_S005  (time) float64 ...\n",
       "    IDL_S004  (time) float64 ...\n",
       "    CO2_C15F  (time) float64 ...\n",
       "    IDL_S006  (time) float64 ...\n",
       "    IDL_S001  (time) float64 ...\n",
       "    IDL_S003  (time) float64 ...\n",
       "    IDL_S002  (time) float64 ...\n",
       "    CO2_C15L  (time) float64 ...\n",
       "    CO2_CRPO  (time) float64 ...\n",
       "    theta     (time) float64 ...\n",
       "    Year      (time) float64 ...\n",
       "    flt       (time) float64 ...\n",
       "    DOY       (time) timedelta64[ns] ...\n",
       "    UTC       (time) timedelta64[ns] ...\n",
       "    n_prof    (time) float64 ..."
      ]
     },
     "execution_count": 3,
     "metadata": {},
     "output_type": "execute_result"
    }
   ],
   "source": [
    "case = 'bgeos5.B20TRC5CN.f09_g16.BPRD_orcas_sci.004'\n",
    "\n",
    "droot = os.path.join(os.path.dirname(gv.flight_file[0]),'..','cesm_flight_data')\n",
    "\n",
    "data = {}\n",
    "for i,flight in enumerate(gv.flight):\n",
    "    file_in = '.'.join([case,os.path.basename(gv.flight_file[i])])\n",
    "    file_in = os.path.join(droot,file_in)\n",
    "    data[flight] = xr.open_dataset(file_in)\n",
    "    \n",
    "data['ORCASrf01']"
   ]
  },
  {
   "cell_type": "code",
   "execution_count": 17,
   "metadata": {},
   "outputs": [
    {
     "ename": "TypeError",
     "evalue": "invalid type promotion",
     "output_type": "error",
     "traceback": [
      "\u001b[0;31m\u001b[0m",
      "\u001b[0;31mTypeError\u001b[0mTraceback (most recent call last)",
      "\u001b[0;32m<ipython-input-17-c1071f74545e>\u001b[0m in \u001b[0;36m<module>\u001b[0;34m()\u001b[0m\n\u001b[1;32m      5\u001b[0m     \u001b[0max\u001b[0m \u001b[0;34m=\u001b[0m \u001b[0mfig\u001b[0m\u001b[0;34m.\u001b[0m\u001b[0madd_subplot\u001b[0m\u001b[0;34m(\u001b[0m\u001b[0;36m111\u001b[0m\u001b[0;34m)\u001b[0m\u001b[0;34m\u001b[0m\u001b[0m\n\u001b[1;32m      6\u001b[0m     sc = ax.scatter(data[f].time.astype('datetime64[h]'),\n\u001b[0;32m----> 7\u001b[0;31m                     data[f].Pm.values,c=data[f][v].values)\n\u001b[0m\u001b[1;32m      8\u001b[0m \u001b[0;34m\u001b[0m\u001b[0m\n\u001b[1;32m      9\u001b[0m     \u001b[0max\u001b[0m\u001b[0;34m.\u001b[0m\u001b[0mset_xlim\u001b[0m\u001b[0;34m(\u001b[0m\u001b[0;34m[\u001b[0m\u001b[0mdata\u001b[0m\u001b[0;34m[\u001b[0m\u001b[0mf\u001b[0m\u001b[0;34m]\u001b[0m\u001b[0;34m.\u001b[0m\u001b[0mtime\u001b[0m\u001b[0;34m.\u001b[0m\u001b[0mvalues\u001b[0m\u001b[0;34m[\u001b[0m\u001b[0;36m0\u001b[0m\u001b[0;34m]\u001b[0m\u001b[0;34m-\u001b[0m\u001b[0mmin15\u001b[0m\u001b[0;34m,\u001b[0m\u001b[0mdata\u001b[0m\u001b[0;34m[\u001b[0m\u001b[0mf\u001b[0m\u001b[0;34m]\u001b[0m\u001b[0;34m.\u001b[0m\u001b[0mtime\u001b[0m\u001b[0;34m.\u001b[0m\u001b[0mvalues\u001b[0m\u001b[0;34m[\u001b[0m\u001b[0;34m-\u001b[0m\u001b[0;36m1\u001b[0m\u001b[0;34m]\u001b[0m\u001b[0;34m+\u001b[0m\u001b[0mmin15\u001b[0m\u001b[0;34m]\u001b[0m\u001b[0;34m)\u001b[0m\u001b[0;34m\u001b[0m\u001b[0m\n",
      "\u001b[0;32m/glade/p/work/mclong/miniconda2/envs/py2/lib/python2.7/site-packages/matplotlib/__init__.pyc\u001b[0m in \u001b[0;36minner\u001b[0;34m(ax, *args, **kwargs)\u001b[0m\n\u001b[1;32m   1708\u001b[0m                     warnings.warn(msg % (label_namer, func.__name__),\n\u001b[1;32m   1709\u001b[0m                                   RuntimeWarning, stacklevel=2)\n\u001b[0;32m-> 1710\u001b[0;31m             \u001b[0;32mreturn\u001b[0m \u001b[0mfunc\u001b[0m\u001b[0;34m(\u001b[0m\u001b[0max\u001b[0m\u001b[0;34m,\u001b[0m \u001b[0;34m*\u001b[0m\u001b[0margs\u001b[0m\u001b[0;34m,\u001b[0m \u001b[0;34m**\u001b[0m\u001b[0mkwargs\u001b[0m\u001b[0;34m)\u001b[0m\u001b[0;34m\u001b[0m\u001b[0m\n\u001b[0m\u001b[1;32m   1711\u001b[0m         \u001b[0mpre_doc\u001b[0m \u001b[0;34m=\u001b[0m \u001b[0minner\u001b[0m\u001b[0;34m.\u001b[0m\u001b[0m__doc__\u001b[0m\u001b[0;34m\u001b[0m\u001b[0m\n\u001b[1;32m   1712\u001b[0m         \u001b[0;32mif\u001b[0m \u001b[0mpre_doc\u001b[0m \u001b[0;32mis\u001b[0m \u001b[0mNone\u001b[0m\u001b[0;34m:\u001b[0m\u001b[0;34m\u001b[0m\u001b[0m\n",
      "\u001b[0;32m/glade/p/work/mclong/miniconda2/envs/py2/lib/python2.7/site-packages/matplotlib/axes/_axes.pyc\u001b[0m in \u001b[0;36mscatter\u001b[0;34m(self, x, y, s, c, marker, cmap, norm, vmin, vmax, alpha, linewidths, verts, edgecolors, **kwargs)\u001b[0m\n\u001b[1;32m   4085\u001b[0m             \u001b[0mlinewidths\u001b[0m \u001b[0;34m=\u001b[0m \u001b[0mrcParams\u001b[0m\u001b[0;34m[\u001b[0m\u001b[0;34m'lines.linewidth'\u001b[0m\u001b[0;34m]\u001b[0m\u001b[0;34m\u001b[0m\u001b[0m\n\u001b[1;32m   4086\u001b[0m \u001b[0;34m\u001b[0m\u001b[0m\n\u001b[0;32m-> 4087\u001b[0;31m         \u001b[0moffsets\u001b[0m \u001b[0;34m=\u001b[0m \u001b[0mnp\u001b[0m\u001b[0;34m.\u001b[0m\u001b[0mcolumn_stack\u001b[0m\u001b[0;34m(\u001b[0m\u001b[0;34m[\u001b[0m\u001b[0mx\u001b[0m\u001b[0;34m,\u001b[0m \u001b[0my\u001b[0m\u001b[0;34m]\u001b[0m\u001b[0;34m)\u001b[0m\u001b[0;34m\u001b[0m\u001b[0m\n\u001b[0m\u001b[1;32m   4088\u001b[0m \u001b[0;34m\u001b[0m\u001b[0m\n\u001b[1;32m   4089\u001b[0m         collection = mcoll.PathCollection(\n",
      "\u001b[0;32m/glade/p/work/mclong/miniconda2/envs/py2/lib/python2.7/site-packages/numpy/lib/shape_base.pyc\u001b[0m in \u001b[0;36mcolumn_stack\u001b[0;34m(tup)\u001b[0m\n\u001b[1;32m    351\u001b[0m             \u001b[0marr\u001b[0m \u001b[0;34m=\u001b[0m \u001b[0marray\u001b[0m\u001b[0;34m(\u001b[0m\u001b[0marr\u001b[0m\u001b[0;34m,\u001b[0m \u001b[0mcopy\u001b[0m\u001b[0;34m=\u001b[0m\u001b[0mFalse\u001b[0m\u001b[0;34m,\u001b[0m \u001b[0msubok\u001b[0m\u001b[0;34m=\u001b[0m\u001b[0mTrue\u001b[0m\u001b[0;34m,\u001b[0m \u001b[0mndmin\u001b[0m\u001b[0;34m=\u001b[0m\u001b[0;36m2\u001b[0m\u001b[0;34m)\u001b[0m\u001b[0;34m.\u001b[0m\u001b[0mT\u001b[0m\u001b[0;34m\u001b[0m\u001b[0m\n\u001b[1;32m    352\u001b[0m         \u001b[0marrays\u001b[0m\u001b[0;34m.\u001b[0m\u001b[0mappend\u001b[0m\u001b[0;34m(\u001b[0m\u001b[0marr\u001b[0m\u001b[0;34m)\u001b[0m\u001b[0;34m\u001b[0m\u001b[0m\n\u001b[0;32m--> 353\u001b[0;31m     \u001b[0;32mreturn\u001b[0m \u001b[0m_nx\u001b[0m\u001b[0;34m.\u001b[0m\u001b[0mconcatenate\u001b[0m\u001b[0;34m(\u001b[0m\u001b[0marrays\u001b[0m\u001b[0;34m,\u001b[0m \u001b[0;36m1\u001b[0m\u001b[0;34m)\u001b[0m\u001b[0;34m\u001b[0m\u001b[0m\n\u001b[0m\u001b[1;32m    354\u001b[0m \u001b[0;34m\u001b[0m\u001b[0m\n\u001b[1;32m    355\u001b[0m \u001b[0;32mdef\u001b[0m \u001b[0mdstack\u001b[0m\u001b[0;34m(\u001b[0m\u001b[0mtup\u001b[0m\u001b[0;34m)\u001b[0m\u001b[0;34m:\u001b[0m\u001b[0;34m\u001b[0m\u001b[0m\n",
      "\u001b[0;31mTypeError\u001b[0m: invalid type promotion"
     ]
    },
    {
     "data": {
      "image/png": "[encoded data removed]",
      "text/plain": [
       "<matplotlib.figure.Figure at 0x2b850f2c5050>"
      ]
     },
     "metadata": {},
     "output_type": "display_data"
    }
   ],
   "source": [
    "min15 = np.timedelta64(15,'m')\n",
    "v = 'O2_OCN'\n",
    "for f in gv.flight:\n",
    "    fig = plt.figure()\n",
    "    ax = fig.add_subplot(111)\n",
    "    sc = ax.scatter(data[f].time.astype('datetime64[h]'),\n",
    "                    data[f].Pm.values,c=data[f][v].values)\n",
    "\n",
    "    ax.set_xlim([data[f].time.values[0]-min15,data[f].time.values[-1]+min15])\n",
    "    ax.set_ylim(ax.get_ylim()[::-1])\n",
    "    fig.autofmt_xdate()\n",
    "\n",
    "    ax.set_ylabel('Pressure [hPa]')\n",
    "    ax.set_title(f.upper(),loc='left')\n",
    "    ax.set_title(v,loc='right')\n",
    "    plt.colorbar(sc)"
   ]
  },
  {
   "cell_type": "code",
   "execution_count": null,
   "metadata": {},
   "outputs": [],
   "source": [
    "ds = xr.open_dataset('/glade/p/work/mclong/orcas/flt_mdl_col/ORCASrf02-merge10_points_bgeos5.B20TRC5CN.f09_g16.BPRD_orcas_sci.004.cam.h0.CO2_OCN.20070101-20160229.nc')\n",
    "tracer_def = cesm.trace_gas_tracers(case)\n",
    "ds"
   ]
  },
  {
   "cell_type": "code",
   "execution_count": null,
   "metadata": {},
   "outputs": [],
   "source": [
    "ds.CO2_OCN_b13geos5.values = tracer_def['CO2_OCN']['convert'](ds.CO2_OCN_b13geos5.values)\n",
    "ds.CO2_OCN_b13geos5.plot()"
   ]
  },
  {
   "cell_type": "code",
   "execution_count": null,
   "metadata": {},
   "outputs": [],
   "source": [
    "f = 'ORCASrf02'\n",
    "data[f].CO2_OCN.plot()"
   ]
  },
  {
   "cell_type": "code",
   "execution_count": null,
   "metadata": {},
   "outputs": [],
   "source": [
    "ds = xr.open_dataset('/glade/p/work/mclong/orcas/gv_merged_data/ORCASrf02.merge10.20170526.nc')\n",
    "ds.CO2_OCN_FMPD.plot()"
   ]
  },
  {
   "cell_type": "code",
   "execution_count": null,
   "metadata": {},
   "outputs": [],
   "source": [
    "data[f].CO2_OCN.plot()"
   ]
  },
  {
   "cell_type": "code",
   "execution_count": null,
   "metadata": {},
   "outputs": [],
   "source": [
    " np.issubdtype(data[f].time.dtype, np.datetime64)"
   ]
  },
  {
   "cell_type": "code",
   "execution_count": null,
   "metadata": {},
   "outputs": [],
   "source": [
    "d"
   ]
  }
 ],
 "metadata": {
  "kernelspec": {
   "display_name": "Python 2",
   "language": "python",
   "name": "python2"
  },
  "language_info": {
   "codemirror_mode": {
    "name": "ipython",
    "version": 2
   },
   "file_extension": ".py",
   "mimetype": "text/x-python",
   "name": "python",
   "nbconvert_exporter": "python",
   "pygments_lexer": "ipython2",
   "version": "2.7.14"
  }
 },
 "nbformat": 4,
 "nbformat_minor": 2
}
