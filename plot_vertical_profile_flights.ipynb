{
 "cells": [
  {
   "cell_type": "code",
   "execution_count": 1,
   "metadata": {},
   "outputs": [],
   "source": [
    "%matplotlib inline\n",
    "from config_calc import *\n",
    "import grid_tools\n",
    "\n",
    "from collections import OrderedDict\n",
    "\n",
    "import cesm_orcas_sci as cesm\n",
    "import cam\n",
    "import gv\n",
    "import metpy.calc as mcalc\n",
    "\n",
    "import matplotlib.pyplot as plt\n",
    "import cartopy\n",
    "import cartopy.crs as ccrs\n",
    "import matplotlib.pyplot as plt"
   ]
  },
  {
   "cell_type": "code",
   "execution_count": 72,
   "metadata": {},
   "outputs": [
    {
     "data": {
      "text/plain": [
       "<xarray.Dataset>\n",
       "Dimensions:   (time: 34205)\n",
       "Coordinates:\n",
       "  * time      (time) datetime64[ns] 2016-01-15T12:57:26.000000043 ...\n",
       "Data variables:\n",
       "    O2_OCN    (time) float64 dask.array<shape=(34205,), chunksize=(2723,)>\n",
       "    CO2_T09k  (time) float64 dask.array<shape=(34205,), chunksize=(2723,)>\n",
       "    aO2_GKA   (time) float64 dask.array<shape=(34205,), chunksize=(2723,)>\n",
       "    CO2_C15O  (time) float64 dask.array<shape=(34205,), chunksize=(2723,)>\n",
       "    CO2_LND   (time) float64 dask.array<shape=(34205,), chunksize=(2723,)>\n",
       "    U10       (time) float64 dask.array<shape=(34205,), chunksize=(2723,)>\n",
       "    CO2_T09   (time) float64 dask.array<shape=(34205,), chunksize=(2723,)>\n",
       "    PS        (time) float64 dask.array<shape=(34205,), chunksize=(2723,)>\n",
       "    CO2_T09b  (time) float64 dask.array<shape=(34205,), chunksize=(2723,)>\n",
       "    CO2_T09c  (time) float64 dask.array<shape=(34205,), chunksize=(2723,)>\n",
       "    CO2_T09d  (time) float64 dask.array<shape=(34205,), chunksize=(2723,)>\n",
       "    CO2_T09e  (time) float64 dask.array<shape=(34205,), chunksize=(2723,)>\n",
       "    CO2_T09f  (time) float64 dask.array<shape=(34205,), chunksize=(2723,)>\n",
       "    CO2_T09g  (time) float64 dask.array<shape=(34205,), chunksize=(2723,)>\n",
       "    CO2_T09h  (time) float64 dask.array<shape=(34205,), chunksize=(2723,)>\n",
       "    CO2_T09i  (time) float64 dask.array<shape=(34205,), chunksize=(2723,)>\n",
       "    CO2_T09j  (time) float64 dask.array<shape=(34205,), chunksize=(2723,)>\n",
       "    CO2_CROF  (time) float64 dask.array<shape=(34205,), chunksize=(2723,)>\n",
       "    CO2_T09l  (time) float64 dask.array<shape=(34205,), chunksize=(2723,)>\n",
       "    CO2_OCN   (time) float64 dask.array<shape=(34205,), chunksize=(2723,)>\n",
       "    CO2_CROT  (time) float64 dask.array<shape=(34205,), chunksize=(2723,)>\n",
       "    Pm        (time) float64 dask.array<shape=(34205,), chunksize=(2723,)>\n",
       "    OMEGA     (time) float64 dask.array<shape=(34205,), chunksize=(2723,)>\n",
       "    CO2_L14C  (time) float64 dask.array<shape=(34205,), chunksize=(2723,)>\n",
       "    Z3        (time) float64 dask.array<shape=(34205,), chunksize=(2723,)>\n",
       "    PBLH      (time) float64 dask.array<shape=(34205,), chunksize=(2723,)>\n",
       "    CO2_T09a  (time) float64 dask.array<shape=(34205,), chunksize=(2723,)>\n",
       "    CO2_CROO  (time) float64 dask.array<shape=(34205,), chunksize=(2723,)>\n",
       "    Q         (time) float64 dask.array<shape=(34205,), chunksize=(2723,)>\n",
       "    U         (time) float64 dask.array<shape=(34205,), chunksize=(2723,)>\n",
       "    T         (time) float64 dask.array<shape=(34205,), chunksize=(2723,)>\n",
       "    V         (time) float64 dask.array<shape=(34205,), chunksize=(2723,)>\n",
       "    O2_GKA    (time) float64 dask.array<shape=(34205,), chunksize=(2723,)>\n",
       "    CO2_C15T  (time) float64 dask.array<shape=(34205,), chunksize=(2723,)>\n",
       "    CO2_CROL  (time) float64 dask.array<shape=(34205,), chunksize=(2723,)>\n",
       "    CO2       (time) float64 dask.array<shape=(34205,), chunksize=(2723,)>\n",
       "    CO2_FFF   (time) float64 dask.array<shape=(34205,), chunksize=(2723,)>\n",
       "    PSL       (time) float64 dask.array<shape=(34205,), chunksize=(2723,)>\n",
       "    IDL_T000  (time) float64 dask.array<shape=(34205,), chunksize=(2723,)>\n",
       "    IDL_T001  (time) float64 dask.array<shape=(34205,), chunksize=(2723,)>\n",
       "    IDL_T002  (time) float64 dask.array<shape=(34205,), chunksize=(2723,)>\n",
       "    IDL_T003  (time) float64 dask.array<shape=(34205,), chunksize=(2723,)>\n",
       "    IDL_T004  (time) float64 dask.array<shape=(34205,), chunksize=(2723,)>\n",
       "    IDL_T005  (time) float64 dask.array<shape=(34205,), chunksize=(2723,)>\n",
       "    IDL_T006  (time) float64 dask.array<shape=(34205,), chunksize=(2723,)>\n",
       "    IDL_S005  (time) float64 dask.array<shape=(34205,), chunksize=(2723,)>\n",
       "    IDL_S004  (time) float64 dask.array<shape=(34205,), chunksize=(2723,)>\n",
       "    CO2_C15F  (time) float64 dask.array<shape=(34205,), chunksize=(2723,)>\n",
       "    IDL_S006  (time) float64 dask.array<shape=(34205,), chunksize=(2723,)>\n",
       "    IDL_S001  (time) float64 dask.array<shape=(34205,), chunksize=(2723,)>\n",
       "    IDL_S003  (time) float64 dask.array<shape=(34205,), chunksize=(2723,)>\n",
       "    IDL_S002  (time) float64 dask.array<shape=(34205,), chunksize=(2723,)>\n",
       "    CO2_C15L  (time) float64 dask.array<shape=(34205,), chunksize=(2723,)>\n",
       "    CO2_CRPO  (time) float64 dask.array<shape=(34205,), chunksize=(2723,)>\n",
       "    theta     (time) float64 dask.array<shape=(34205,), chunksize=(2723,)>\n",
       "    Year      (time) float64 dask.array<shape=(34205,), chunksize=(2723,)>\n",
       "    flt       (time) float64 dask.array<shape=(34205,), chunksize=(2723,)>\n",
       "    DOY       (time) timedelta64[ns] dask.array<shape=(34205,), chunksize=(2723,)>\n",
       "    UTC       (time) timedelta64[ns] dask.array<shape=(34205,), chunksize=(2723,)>\n",
       "    n_prof    (time) float64 dask.array<shape=(34205,), chunksize=(2723,)>\n",
       "    GGALT     (time) float64 dask.array<shape=(34205,), chunksize=(2723,)>"
      ]
     },
     "execution_count": 72,
     "metadata": {},
     "output_type": "execute_result"
    }
   ],
   "source": [
    "case = 'bgeos5.B20TRC5CN.f09_g16.BPRD_orcas_sci.004'\n",
    "\n",
    "tracer_def = cesm.trace_gas_tracers(case)\n",
    "tracer_3d = [k for k in tracer_def]\n",
    "varlist = ['Z3','Q','PS','PBLH','T','U','V','U10','PSL','OMEGA']+tracer_3d\n",
    "\n",
    "diri = os.path.join(dataroot,'orcas','cesm_flight_data')\n",
    "model_files = [os.path.join(diri,'.'.join([case,os.path.basename(f)])) \n",
    "              for f in gv.flight_file]\n",
    "\n",
    "obs = xr.open_mfdataset(gv.flight_file)\n",
    "mdl = xr.open_mfdataset(model_files)\n",
    "\n",
    "obs['GGALT'] = obs.GGALT * 1e-3\n",
    "obs.GGALT.attrs['units'] = 'km'\n",
    "\n",
    "mdl['GGALT'] = obs.GGALT\n",
    "mdl"
   ]
  },
  {
   "cell_type": "code",
   "execution_count": 84,
   "metadata": {},
   "outputs": [
    {
     "name": "stdout",
     "output_type": "stream",
     "text": [
      "xarray.Dataset {\n",
      "dimensions:\n",
      "\tGGALT_bins = 30 ;\n",
      "\n",
      "variables:\n",
      "\tfloat64 GGALT_bins(GGALT_bins) ;\n",
      "\tfloat64 O2_OCN(GGALT_bins) ;\n",
      "\tfloat64 CO2_T09k(GGALT_bins) ;\n",
      "\tfloat64 aO2_GKA(GGALT_bins) ;\n",
      "\tfloat64 CO2_C15O(GGALT_bins) ;\n",
      "\tfloat64 CO2_LND(GGALT_bins) ;\n",
      "\tfloat64 U10(GGALT_bins) ;\n",
      "\tfloat64 CO2_T09(GGALT_bins) ;\n",
      "\tfloat64 PS(GGALT_bins) ;\n",
      "\tfloat64 CO2_T09b(GGALT_bins) ;\n",
      "\tfloat64 CO2_T09c(GGALT_bins) ;\n",
      "\tfloat64 CO2_T09d(GGALT_bins) ;\n",
      "\tfloat64 CO2_T09e(GGALT_bins) ;\n",
      "\tfloat64 CO2_T09f(GGALT_bins) ;\n",
      "\tfloat64 CO2_T09g(GGALT_bins) ;\n",
      "\tfloat64 CO2_T09h(GGALT_bins) ;\n",
      "\tfloat64 CO2_T09i(GGALT_bins) ;\n",
      "\tfloat64 CO2_T09j(GGALT_bins) ;\n",
      "\tfloat64 CO2_CROF(GGALT_bins) ;\n",
      "\tfloat64 CO2_T09l(GGALT_bins) ;\n",
      "\tfloat64 CO2_OCN(GGALT_bins) ;\n",
      "\tfloat64 CO2_CROT(GGALT_bins) ;\n",
      "\tfloat64 Pm(GGALT_bins) ;\n",
      "\tfloat64 OMEGA(GGALT_bins) ;\n",
      "\tfloat64 CO2_L14C(GGALT_bins) ;\n",
      "\tfloat64 Z3(GGALT_bins) ;\n",
      "\tfloat64 PBLH(GGALT_bins) ;\n",
      "\tfloat64 CO2_T09a(GGALT_bins) ;\n",
      "\tfloat64 CO2_CROO(GGALT_bins) ;\n",
      "\tfloat64 Q(GGALT_bins) ;\n",
      "\tfloat64 U(GGALT_bins) ;\n",
      "\tfloat64 T(GGALT_bins) ;\n",
      "\tfloat64 V(GGALT_bins) ;\n",
      "\tfloat64 O2_GKA(GGALT_bins) ;\n",
      "\tfloat64 CO2_C15T(GGALT_bins) ;\n",
      "\tfloat64 CO2_CROL(GGALT_bins) ;\n",
      "\tfloat64 CO2(GGALT_bins) ;\n",
      "\tfloat64 CO2_FFF(GGALT_bins) ;\n",
      "\tfloat64 PSL(GGALT_bins) ;\n",
      "\tfloat64 IDL_T000(GGALT_bins) ;\n",
      "\tfloat64 IDL_T001(GGALT_bins) ;\n",
      "\tfloat64 IDL_T002(GGALT_bins) ;\n",
      "\tfloat64 IDL_T003(GGALT_bins) ;\n",
      "\tfloat64 IDL_T004(GGALT_bins) ;\n",
      "\tfloat64 IDL_T005(GGALT_bins) ;\n",
      "\tfloat64 IDL_T006(GGALT_bins) ;\n",
      "\tfloat64 IDL_S005(GGALT_bins) ;\n",
      "\tfloat64 IDL_S004(GGALT_bins) ;\n",
      "\tfloat64 CO2_C15F(GGALT_bins) ;\n",
      "\tfloat64 IDL_S006(GGALT_bins) ;\n",
      "\tfloat64 IDL_S001(GGALT_bins) ;\n",
      "\tfloat64 IDL_S003(GGALT_bins) ;\n",
      "\tfloat64 IDL_S002(GGALT_bins) ;\n",
      "\tfloat64 CO2_C15L(GGALT_bins) ;\n",
      "\tfloat64 CO2_CRPO(GGALT_bins) ;\n",
      "\tfloat64 theta(GGALT_bins) ;\n",
      "\tfloat64 Year(GGALT_bins) ;\n",
      "\tfloat64 flt(GGALT_bins) ;\n",
      "\tfloat64 n_prof(GGALT_bins) ;\n",
      "\tfloat64 GGALT(GGALT_bins) ;\n",
      "\n",
      "// global attributes:\n",
      "}CPU times: user 44.9 s, sys: 1.46 s, total: 46.4 s\n",
      "Wall time: 45.5 s\n"
     ]
    }
   ],
   "source": [
    "%%time\n",
    "zero_bin = [1,99]\n",
    "alt_bins = np.concatenate((np.arange(0.,1.,0.25),np.arange(1.,14.5,0.5)))\n",
    "alt_bin_c = np.vstack((alt_bins[0:-1],alt_bins[1:])).mean(axis=0)\n",
    "\n",
    "groups = mdl.drop(['DOY','UTC']).groupby_bins('GGALT',alt_bins,labels=alt_bin_c)\n",
    "mdl_avg = groups.mean()\n",
    "mdl_std = groups.std()\n",
    "\n",
    "groups = obs.drop(['DOY','UTC']).groupby_bins('GGALT',alt_bins,labels=alt_bin_c)\n",
    "obs_avg = groups.mean()\n",
    "obs_std = groups.std()\n",
    "  \n",
    "mdl_avg.info()"
   ]
  },
  {
   "cell_type": "code",
   "execution_count": 86,
   "metadata": {},
   "outputs": [
    {
     "data": {
      "text/plain": [
       "[<matplotlib.lines.Line2D at 0x14b583450>]"
      ]
     },
     "execution_count": 86,
     "metadata": {},
     "output_type": "execute_result"
    },
    {
     "data": {
      "image/png": "[encoded data removed]",
      "text/plain": [
       "<matplotlib.figure.Figure at 0x15a7def10>"
      ]
     },
     "metadata": {},
     "output_type": "display_data"
    }
   ],
   "source": [
    "mdl_std.CO2_OCN.plot()"
   ]
  },
  {
   "cell_type": "code",
   "execution_count": 52,
   "metadata": {},
   "outputs": [
    {
     "data": {
      "text/plain": [
       "array([  0.125,   0.375,   0.625,   0.875,   1.25 ,   1.75 ,   2.25 ,\n",
       "         2.75 ,   3.25 ,   3.75 ,   4.25 ,   4.75 ,   5.25 ,   5.75 ,\n",
       "         6.25 ,   6.75 ,   7.25 ,   7.75 ,   8.25 ,   8.75 ,   9.25 ,\n",
       "         9.75 ,  10.25 ,  10.75 ,  11.25 ,  11.75 ,  12.25 ,  12.75 ,\n",
       "        13.25 ,  13.75 ])"
      ]
     },
     "execution_count": 52,
     "metadata": {},
     "output_type": "execute_result"
    }
   ],
   "source": []
  },
  {
   "cell_type": "code",
   "execution_count": null,
   "metadata": {},
   "outputs": [],
   "source": []
  }
 ],
 "metadata": {
  "kernelspec": {
   "display_name": "Python 2",
   "language": "python",
   "name": "python2"
  },
  "language_info": {
   "codemirror_mode": {
    "name": "ipython",
    "version": 2
   },
   "file_extension": ".py",
   "mimetype": "text/x-python",
   "name": "python",
   "nbconvert_exporter": "python",
   "pygments_lexer": "ipython2",
   "version": "2.7.12"
  }
 },
 "nbformat": 4,
 "nbformat_minor": 2
}
