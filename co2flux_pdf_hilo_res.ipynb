{
 "cells": [
  {
   "cell_type": "markdown",
   "metadata": {},
   "source": [
    "# What does the PDF of fluxes look like at high and low res?"
   ]
  },
  {
   "cell_type": "code",
   "execution_count": 1,
   "metadata": {},
   "outputs": [
    {
     "data": {
      "text/plain": [
       "<xarray.core.options.set_options at 0x2aab613caf60>"
      ]
     },
     "execution_count": 1,
     "metadata": {},
     "output_type": "execute_result"
    }
   ],
   "source": [
    "%matplotlib inline\n",
    "import os\n",
    "from glob import glob\n",
    "\n",
    "import xarray as xr\n",
    "import dask\n",
    "import numpy as np\n",
    "import pandas as pd\n",
    "\n",
    "import ncar_jobqueue\n",
    "\n",
    "import cftime\n",
    "\n",
    "import cesm_orcas_sci as cesm\n",
    "import grid_tools\n",
    "\n",
    "import matplotlib.pyplot as plt\n",
    "\n",
    "xr.set_options(keep_attrs=True)"
   ]
  },
  {
   "cell_type": "code",
   "execution_count": 2,
   "metadata": {},
   "outputs": [],
   "source": [
    "xr_open = dict(decode_times=False, decode_coords=False)\n",
    "\n",
    "def set_coords(ds, varname):\n",
    "    \"\"\"Set all variables except varname to be coords.\"\"\"\n",
    "    coord_vars = set(ds.data_vars) - set(varname)\n",
    "    return ds.set_coords(coord_vars)\n",
    "\n",
    "def open_dataset(file, data_vars, drop_vars):\n",
    "    ds = xr.open_dataset(f, chunks={'time': 5}, **xr_open)\n",
    "    ds = ds.drop(drop_vars(ds, data_vars))\n",
    "    return set_coords(ds, data_vars)\n",
    "\n",
    "def concat_time_levels(dsets, time_coord_name='time'):\n",
    "    \"\"\"\n",
    "    Concatenate datasets across \"time\" levels, taking time invariant variables\n",
    "    from the first dataset.\n",
    "    Parameters\n",
    "    ----------\n",
    "    dsets : list\n",
    "        A list of datasets to concatenate.\n",
    "    time_coord_name : string\n",
    "        Default name of the time coordinate\n",
    "    Returns\n",
    "    -------\n",
    "    dset : xarray.Dataset,\n",
    "        The concatenated dataset.\n",
    "    \"\"\"\n",
    "    dsets = dask.compute(*dsets)\n",
    "    if len(dsets) == 1:\n",
    "        return dsets[0]\n",
    "\n",
    "    # get static vars from first dataset\n",
    "    first = dsets[0]\n",
    "    \n",
    "    def drop_unnecessary_coords(ds):\n",
    "        \"\"\"Drop coordinates that do not correspond with dimensions.\"\"\"\n",
    "        non_dim_coords = set(ds.coords) - set(ds.dims)\n",
    "        non_dim_coords_drop = [\n",
    "            coord for coord in non_dim_coords if time_coord_name not in ds[coord].dims\n",
    "        ]\n",
    "        return ds.drop(non_dim_coords_drop)\n",
    "\n",
    "    rest = [drop_unnecessary_coords(ds) for ds in dsets[1:]]\n",
    "    objs_to_concat = [first] + rest\n",
    "\n",
    "    ds = xr.concat(objs_to_concat, dim=time_coord_name, coords='minimal')\n",
    "\n",
    "    return ds\n",
    "\n",
    "mol_per_nmol = 1e-9 \n",
    "cm2_per_m2 = 1e4 \n",
    "s_per_yr = 365.0 * 86400.0\n",
    "nmolcm2s_to_molm2yr = mol_per_nmol * cm2_per_m2 * s_per_yr"
   ]
  },
  {
   "cell_type": "code",
   "execution_count": 3,
   "metadata": {},
   "outputs": [
    {
     "name": "stderr",
     "output_type": "stream",
     "text": [
      "/glade/work/mclong/miniconda3/envs/analysis/lib/python3.7/site-packages/distributed/deploy/local.py:106: UserWarning: diagnostics_port has been deprecated. Please use `dashboard_address=` instead\n",
      "  \"diagnostics_port has been deprecated. \"\n"
     ]
    }
   ],
   "source": [
    "cluster = ncar_jobqueue.NCARCluster()\n",
    "client = dask.distributed.Client(cluster)\n",
    "n_workers = 9 * 4\n",
    "cluster.scale(n_workers)"
   ]
  },
  {
   "cell_type": "code",
   "execution_count": 4,
   "metadata": {},
   "outputs": [
    {
     "name": "stdout",
     "output_type": "stream",
     "text": [
      "/usr/bin/sh: module: line 1: syntax error: unexpected end of file\n",
      "/usr/bin/sh: error importing function definition for `BASH_FUNC_module'\n",
      "/usr/bin/sh: ml: line 1: syntax error: unexpected end of file\n",
      "/usr/bin/sh: error importing function definition for `BASH_FUNC_ml'\n"
     ]
    }
   ],
   "source": [
    "!qstat | grep dask-worker"
   ]
  },
  {
   "cell_type": "code",
   "execution_count": null,
   "metadata": {},
   "outputs": [
    {
     "data": {
      "text/html": [
       "<table style=\"border: 2px solid white;\">\n",
       "<tr>\n",
       "<td style=\"vertical-align: top; border: 0px solid white\">\n",
       "<h3>Client</h3>\n",
       "<ul>\n",
       "  <li><b>Scheduler: </b>tcp://10.148.8.164:49525\n",
       "  <li><b>Dashboard: </b><a href='http://10.148.8.164/proxy/8787/status' target='_blank'>http://10.148.8.164/proxy/8787/status</a>\n",
       "</ul>\n",
       "</td>\n",
       "<td style=\"vertical-align: top; border: 0px solid white\">\n",
       "<h3>Cluster</h3>\n",
       "<ul>\n",
       "  <li><b>Workers: </b>0</li>\n",
       "  <li><b>Cores: </b>0</li>\n",
       "  <li><b>Memory: </b>0 B</li>\n",
       "</ul>\n",
       "</td>\n",
       "</tr>\n",
       "</table>"
      ],
      "text/plain": [
       "<Client: scheduler='tcp://10.148.8.164:49525' processes=0 cores=0>"
      ]
     },
     "execution_count": 5,
     "metadata": {},
     "output_type": "execute_result"
    }
   ],
   "source": [
    "client"
   ]
  },
  {
   "cell_type": "code",
   "execution_count": null,
   "metadata": {},
   "outputs": [
    {
     "name": "stdout",
     "output_type": "stream",
     "text": [
      "total area = 1.2691127007642938e+14\n",
      "check area = 5.1009969907076156e+14\n"
     ]
    },
    {
     "data": {
      "text/plain": [
       "<xarray.Dataset>\n",
       "Dimensions:    (ilev: 57, lat: 64, lev: 56, lon: 288, nbnd: 2, slat: 191, slon: 288, time: 1826)\n",
       "Coordinates:\n",
       "  * lat        (lat) float64 -90.0 -89.06 -88.12 -87.17 ... -32.51 -31.57 -30.63\n",
       "  * lon        (lon) float64 0.0 1.25 2.5 3.75 5.0 ... 355.0 356.2 357.5 358.8\n",
       "  * ilev       (ilev) float64 1.651 2.085 2.62 3.276 ... 955.0 970.0 985.0 1e+03\n",
       "  * lev        (lev) float64 1.868 2.353 2.948 3.677 ... 947.5 962.5 977.5 992.5\n",
       "  * slat       (slat) float64 -89.53 -88.59 -87.64 -86.7 ... 87.64 88.59 89.53\n",
       "  * slon       (slon) float64 -0.625 0.625 1.875 3.125 ... 355.6 356.9 358.1\n",
       "  * time       (time) object 2011-01-01 12:00:00 ... 2015-12-31 12:00:00\n",
       "Dimensions without coordinates: nbnd\n",
       "Data variables:\n",
       "    P0         float64 1e+05\n",
       "    SFCO2_OCN  (time, lat, lon) float32 dask.array<shape=(1826, 64, 288), chunksize=(3, 64, 288)>\n",
       "    ch4vmr     (time) float64 dask.array<shape=(1826,), chunksize=(3,)>\n",
       "    co2vmr     (time) float64 dask.array<shape=(1826,), chunksize=(3,)>\n",
       "    f11vmr     (time) float64 dask.array<shape=(1826,), chunksize=(3,)>\n",
       "    f12vmr     (time) float64 dask.array<shape=(1826,), chunksize=(3,)>\n",
       "    gw         (lat) float64 dask.array<shape=(64,), chunksize=(64,)>\n",
       "    hyai       (ilev) float64 dask.array<shape=(57,), chunksize=(57,)>\n",
       "    hyam       (lev) float64 dask.array<shape=(56,), chunksize=(56,)>\n",
       "    hybi       (ilev) float64 dask.array<shape=(57,), chunksize=(57,)>\n",
       "    hybm       (lev) float64 dask.array<shape=(56,), chunksize=(56,)>\n",
       "    n2ovmr     (time) float64 dask.array<shape=(1826,), chunksize=(3,)>\n",
       "    nbdate     int32 20050101\n",
       "    ndbase     int32 0\n",
       "    ndcur      (time) int32 dask.array<shape=(1826,), chunksize=(3,)>\n",
       "    nlon       (lat) int32 dask.array<shape=(64,), chunksize=(64,)>\n",
       "    nscur      (time) int32 dask.array<shape=(1826,), chunksize=(3,)>\n",
       "    sol_tsi    (time) float64 dask.array<shape=(1826,), chunksize=(3,)>\n",
       "    time_bnds  (time, nbnd) float64 dask.array<shape=(1826, 2), chunksize=(3, 2)>\n",
       "    w_stag     (slat) float64 dask.array<shape=(191,), chunksize=(191,)>\n",
       "    wnummax    (lat) int32 dask.array<shape=(64,), chunksize=(64,)>\n",
       "    SFO2_OCN   (time, lat, lon) float32 dask.array<shape=(1826, 64, 288), chunksize=(3, 64, 288)>\n",
       "    area       (lat, lon) float64 0.0 0.0 0.0 ... 1.253e+10 1.253e+10 1.253e+10"
      ]
     },
     "execution_count": 6,
     "metadata": {},
     "output_type": "execute_result"
    }
   ],
   "source": [
    "case = 'bgeos5.B20TRC5CN.f09_g16.BPRD_orcas_sci.004'\n",
    "\n",
    "dslo = cesm.open_casedata(case, 'atm', 'cam.h0', ['SFCO2_OCN', 'SFO2_OCN'])\n",
    "\n",
    "dslo = dslo.sel(time=slice('2011', '2015')).sel(lat=slice(-90., -30.))\n",
    "\n",
    "dslo = cesm.convert_dataset(dslo, case)\n",
    "area = grid_tools.compute_grid_area(dslo.lon.values, dslo.lat.values)\n",
    "dslo['area'] = xr.DataArray(area, dims=('lat', 'lon'))\n",
    "dslo"
   ]
  },
  {
   "cell_type": "code",
   "execution_count": null,
   "metadata": {},
   "outputs": [],
   "source": [
    "files = glob('/glade/scratch/mclong/hi-res-eco/g.e11.G.T62_t12.eco.006/ocn/hist/g.e11.G.T62_t12.eco.006.pop.h.????-??-??.nc')\n",
    "\n",
    "drop_vars = lambda ds, data_vars: [v for v in ds.variables if v not in data_vars+['TAREA', 'TLAT', 'TLONG', 'time', 'time_bound']]\n",
    "\n",
    "i = 0\n",
    "dsets = []\n",
    "for f in files:\n",
    "    dsets.append(dask.delayed(open_dataset)(f, data_vars=['FG_CO2', 'STF_O2'], drop_vars=drop_vars))\n",
    "    if i > 2: break\n",
    "    i += 1"
   ]
  },
  {
   "cell_type": "code",
   "execution_count": null,
   "metadata": {},
   "outputs": [],
   "source": [
    "dshi = concat_time_levels(dsets)\n",
    "nlat30S = np.where(dshi.TLAT[:, 0] > -30.)[0][0]\n",
    "dshi = dshi.isel(nlat=slice(0, nlat30S))\n",
    "\n",
    "date = cftime.num2date(dshi.time_bound.mean('d2'), units=dshi.time.units, \n",
    "                       calendar=dshi.time.calendar)\n",
    "dshi['time'] = xr.CFTimeIndex(date) \n",
    "\n",
    "dshi['FG_CO2'] = (-1.0) * dshi.FG_CO2 * nmolcm2s_to_molm2yr\n",
    "dshi.FG_CO2.attrs['units'] = 'mol m$^{-1}$ yr$^{-1}$'\n",
    "\n",
    "dshi['STF_O2'] = (-1.0) * dshi.STF_O2 * nmolcm2s_to_molm2yr\n",
    "dshi.STF_O2.attrs['units'] = 'mol m$^{-1}$ yr$^{-1}$'\n",
    "\n",
    "dshi['TAREA'] = dshi.TAREA * 1e-4\n",
    "dshi = dshi.reset_coords('TAREA')"
   ]
  },
  {
   "cell_type": "code",
   "execution_count": null,
   "metadata": {},
   "outputs": [],
   "source": [
    "co2_flux_bins = np.arange(-10., 10.2, 0.2)"
   ]
  },
  {
   "cell_type": "code",
   "execution_count": null,
   "metadata": {},
   "outputs": [
    {
     "name": "stderr",
     "output_type": "stream",
     "text": [
      "distributed.utils_perf - WARNING - full garbage collections took 50% CPU time recently (threshold: 10%)\n",
      "distributed.utils_perf - WARNING - full garbage collections took 37% CPU time recently (threshold: 10%)\n",
      "distributed.utils_perf - WARNING - full garbage collections took 36% CPU time recently (threshold: 10%)\n",
      "distributed.utils_perf - WARNING - full garbage collections took 35% CPU time recently (threshold: 10%)\n",
      "distributed.utils_perf - WARNING - full garbage collections took 33% CPU time recently (threshold: 10%)\n",
      "distributed.utils_perf - WARNING - full garbage collections took 32% CPU time recently (threshold: 10%)\n",
      "distributed.utils_perf - WARNING - full garbage collections took 30% CPU time recently (threshold: 10%)\n",
      "distributed.utils_perf - WARNING - full garbage collections took 28% CPU time recently (threshold: 10%)\n",
      "distributed.utils_perf - WARNING - full garbage collections took 26% CPU time recently (threshold: 10%)\n",
      "distributed.utils_perf - WARNING - full garbage collections took 14% CPU time recently (threshold: 10%)\n",
      "distributed.utils_perf - WARNING - full garbage collections took 16% CPU time recently (threshold: 10%)\n",
      "distributed.utils_perf - WARNING - full garbage collections took 16% CPU time recently (threshold: 10%)\n",
      "distributed.utils_perf - WARNING - full garbage collections took 16% CPU time recently (threshold: 10%)\n"
     ]
    },
    {
     "data": {
      "text/plain": [
       "<xarray.DataArray 'area' (SFCO2_OCN_bins: 100)>\n",
       "array([7.234382e+13, 7.861453e+13, 8.631224e+13, 9.427856e+13, 1.020207e+14,\n",
       "       1.114192e+14, 1.224123e+14, 1.355316e+14, 1.465408e+14, 1.618879e+14,\n",
       "       1.771524e+14, 1.950053e+14, 2.177370e+14, 2.359450e+14, 2.645455e+14,\n",
       "       2.917997e+14, 3.196110e+14, 3.558798e+14, 4.006309e+14, 4.381523e+14,\n",
       "       4.848564e+14, 5.433413e+14, 6.103320e+14, 6.761336e+14, 7.543384e+14,\n",
       "       8.438695e+14, 9.514930e+14, 1.062496e+15, 1.192699e+15, 1.328694e+15,\n",
       "       1.483101e+15, 1.662815e+15, 1.849145e+15, 2.060926e+15, 2.294616e+15,\n",
       "       2.585725e+15, 2.896879e+15, 3.226147e+15, 3.608532e+15, 4.042972e+15,\n",
       "       4.546810e+15, 5.115115e+15, 5.763734e+15, 6.486616e+15, 7.351072e+15,\n",
       "       8.337291e+15, 9.557645e+15, 1.097985e+16, 1.267606e+16, 1.949869e+16,\n",
       "       4.945872e+16, 9.896105e+15, 7.530550e+15, 6.042692e+15, 4.940283e+15,\n",
       "       4.047407e+15, 3.356289e+15, 2.787876e+15, 2.320118e+15, 1.929392e+15,\n",
       "       1.606873e+15, 1.348201e+15, 1.118114e+15, 9.358908e+14, 7.879695e+14,\n",
       "       6.569813e+14, 5.528930e+14, 4.624359e+14, 3.879295e+14, 3.242294e+14,\n",
       "       2.750864e+14, 2.289781e+14, 1.955153e+14, 1.621044e+14, 1.388597e+14,\n",
       "       1.188743e+14, 1.008701e+14, 8.469407e+13, 7.368807e+13, 6.098643e+13,\n",
       "       5.461450e+13, 4.488241e+13, 3.757663e+13, 3.238837e+13, 2.770861e+13,\n",
       "       2.369038e+13, 1.966080e+13, 1.764944e+13, 1.493994e+13, 1.321866e+13,\n",
       "       1.098874e+13, 1.010515e+13, 8.528219e+12, 7.695307e+12, 6.970956e+12,\n",
       "       6.077957e+12, 4.566874e+12, 4.382877e+12, 3.581203e+12, 3.212204e+12])\n",
       "Coordinates:\n",
       "  * SFCO2_OCN_bins  (SFCO2_OCN_bins) object (-10.0, -9.8] ... (9.8, 10.0]"
      ]
     },
     "execution_count": 10,
     "metadata": {},
     "output_type": "execute_result"
    }
   ],
   "source": [
    "fco2_area_bin_lo = dslo.groupby_bins('SFCO2_OCN', co2_flux_bins).sum(xr.ALL_DIMS).area.compute()\n",
    "fco2_area_bin_lo"
   ]
  },
  {
   "cell_type": "code",
   "execution_count": null,
   "metadata": {},
   "outputs": [
    {
     "name": "stderr",
     "output_type": "stream",
     "text": [
      "distributed.utils_perf - WARNING - full garbage collections took 15% CPU time recently (threshold: 10%)\n",
      "distributed.utils_perf - WARNING - full garbage collections took 15% CPU time recently (threshold: 10%)\n",
      "distributed.utils_perf - WARNING - full garbage collections took 15% CPU time recently (threshold: 10%)\n",
      "distributed.utils_perf - WARNING - full garbage collections took 15% CPU time recently (threshold: 10%)\n",
      "distributed.utils_perf - WARNING - full garbage collections took 15% CPU time recently (threshold: 10%)\n",
      "distributed.utils_perf - WARNING - full garbage collections took 15% CPU time recently (threshold: 10%)\n",
      "distributed.utils_perf - WARNING - full garbage collections took 15% CPU time recently (threshold: 10%)\n",
      "distributed.utils_perf - WARNING - full garbage collections took 15% CPU time recently (threshold: 10%)\n",
      "distributed.utils_perf - WARNING - full garbage collections took 15% CPU time recently (threshold: 10%)\n",
      "distributed.utils_perf - WARNING - full garbage collections took 15% CPU time recently (threshold: 10%)\n",
      "distributed.utils_perf - WARNING - full garbage collections took 15% CPU time recently (threshold: 10%)\n",
      "distributed.utils_perf - WARNING - full garbage collections took 16% CPU time recently (threshold: 10%)\n",
      "distributed.utils_perf - WARNING - full garbage collections took 16% CPU time recently (threshold: 10%)\n",
      "distributed.utils_perf - WARNING - full garbage collections took 15% CPU time recently (threshold: 10%)\n",
      "distributed.utils_perf - WARNING - full garbage collections took 15% CPU time recently (threshold: 10%)\n",
      "distributed.utils_perf - WARNING - full garbage collections took 14% CPU time recently (threshold: 10%)\n",
      "distributed.utils_perf - WARNING - full garbage collections took 14% CPU time recently (threshold: 10%)\n",
      "distributed.utils_perf - WARNING - full garbage collections took 13% CPU time recently (threshold: 10%)\n",
      "distributed.utils_perf - WARNING - full garbage collections took 14% CPU time recently (threshold: 10%)\n",
      "distributed.utils_perf - WARNING - full garbage collections took 12% CPU time recently (threshold: 10%)\n",
      "distributed.utils_perf - WARNING - full garbage collections took 13% CPU time recently (threshold: 10%)\n",
      "distributed.utils_perf - WARNING - full garbage collections took 13% CPU time recently (threshold: 10%)\n"
     ]
    },
    {
     "data": {
      "text/plain": [
       "<xarray.DataArray 'TAREA' (FG_CO2_bins: 100)>\n",
       "array([         nan, 3.315582e+08,          nan,          nan, 9.933456e+08,\n",
       "       5.682364e+08, 2.251416e+09, 2.534417e+09, 3.888648e+09, 4.737059e+09,\n",
       "       1.254718e+10, 1.967431e+10, 3.675547e+10, 4.267835e+10, 4.744559e+10,\n",
       "       7.196820e+10, 1.930109e+11, 2.654444e+11, 3.193308e+11, 3.988935e+11,\n",
       "       5.275528e+11, 6.462753e+11, 7.558320e+11, 9.923501e+11, 1.204871e+12,\n",
       "       1.334062e+12, 1.593047e+12, 1.890123e+12, 2.426977e+12, 3.083901e+12,\n",
       "       3.841861e+12, 5.394927e+12, 6.713413e+12, 7.789577e+12, 8.431594e+12,\n",
       "       9.490144e+12, 1.034743e+13, 1.110576e+13, 1.191293e+13, 1.227624e+13,\n",
       "       1.408922e+13, 1.654623e+13, 1.942131e+13, 2.245567e+13, 2.427023e+13,\n",
       "       2.769270e+13, 2.902386e+13, 2.398825e+13, 2.028433e+13, 2.740887e+13,\n",
       "       4.663697e+13, 1.565846e+13, 1.071145e+13, 8.830692e+12, 7.030171e+12,\n",
       "       4.786178e+12, 3.077822e+12, 1.789584e+12, 1.024792e+12, 7.394162e+11,\n",
       "       5.573921e+11, 4.619617e+11, 2.819459e+11, 1.672394e+11, 1.029158e+11,\n",
       "       7.141936e+10, 5.105369e+10, 4.441621e+10, 4.357105e+10, 3.641491e+10,\n",
       "       3.514594e+10, 3.956329e+10, 3.853293e+10, 4.040224e+10, 4.395088e+10,\n",
       "       4.816068e+10, 6.597835e+10, 7.172831e+10, 7.689955e+10, 8.837979e+10,\n",
       "       5.501295e+10, 3.312624e+10, 1.911585e+10, 5.038217e+09, 1.914298e+09,\n",
       "       2.347022e+09, 2.807245e+09, 2.241611e+09, 2.442493e+09, 2.342295e+09,\n",
       "       3.029429e+09, 1.943471e+09, 2.100272e+09, 1.281592e+09, 1.077870e+09,\n",
       "       1.471927e+09, 1.477243e+09, 6.169736e+08, 1.864707e+09, 1.012405e+09])\n",
       "Coordinates:\n",
       "  * FG_CO2_bins  (FG_CO2_bins) object (-10.0, -9.8] (-9.8, -9.6] ... (9.8, 10.0]\n",
       "Attributes:\n",
       "    long_name:    area of T cells\n",
       "    units:        centimeter^2\n",
       "    coordinates:  TLONG TLAT"
      ]
     },
     "execution_count": 11,
     "metadata": {},
     "output_type": "execute_result"
    }
   ],
   "source": [
    "fco2_area_bin_hi = dshi.groupby_bins('FG_CO2', co2_flux_bins).sum(xr.ALL_DIMS).TAREA.compute()\n",
    "fco2_area_bin_hi"
   ]
  },
  {
   "cell_type": "code",
   "execution_count": null,
   "metadata": {},
   "outputs": [
    {
     "data": {
      "text/plain": [
       "[<matplotlib.lines.Line2D at 0x2aaccd1276d8>]"
      ]
     },
     "execution_count": 12,
     "metadata": {},
     "output_type": "execute_result"
    }
   ],
   "source": [
    "fco2_area_bin_lo.plot()"
   ]
  },
  {
   "cell_type": "code",
   "execution_count": null,
   "metadata": {},
   "outputs": [],
   "source": [
    "fco2_area_bin_lo.plot()\n",
    "fco2_area_bin_hi.plot()"
   ]
  },
  {
   "cell_type": "code",
   "execution_count": null,
   "metadata": {},
   "outputs": [],
   "source": []
  }
 ],
 "metadata": {
  "kernelspec": {
   "display_name": "Python [conda env:analysis]",
   "language": "python",
   "name": "conda-env-analysis-py"
  },
  "language_info": {
   "codemirror_mode": {
    "name": "ipython",
    "version": 3
   },
   "file_extension": ".py",
   "mimetype": "text/x-python",
   "name": "python",
   "nbconvert_exporter": "python",
   "pygments_lexer": "ipython3",
   "version": "3.7.3"
  }
 },
 "nbformat": 4,
 "nbformat_minor": 2
}
